{
 "cells": [
  {
   "cell_type": "markdown",
   "id": "80ddd4b9",
   "metadata": {},
   "source": [
    "***This notebook for final functions and executions***"
   ]
  },
  {
   "cell_type": "code",
   "execution_count": 1,
   "id": "bb9b08c4",
   "metadata": {
    "ExecuteTime": {
     "end_time": "2022-03-18T02:47:17.220352Z",
     "start_time": "2022-03-18T02:47:16.623048Z"
    }
   },
   "outputs": [],
   "source": [
    "# Imports\n",
    "import ffmpeg\n",
    "import os\n",
    "import subprocess\n",
    "import re\n",
    "import pandas as pd\n",
    "import numpy as np"
   ]
  },
  {
   "cell_type": "markdown",
   "id": "906fb388",
   "metadata": {},
   "source": [
    "## Combined functions"
   ]
  },
  {
   "cell_type": "code",
   "execution_count": 2,
   "id": "d507e4db",
   "metadata": {
    "ExecuteTime": {
     "end_time": "2022-03-18T02:47:19.412608Z",
     "start_time": "2022-03-18T02:47:19.406627Z"
    }
   },
   "outputs": [],
   "source": [
    "# adding a function to round values of a list\n",
    "def round_list_values(the_list, rounding=3):\n",
    "    return list(np.round(the_list, rounding))"
   ]
  },
  {
   "cell_type": "code",
   "execution_count": 11,
   "id": "ff71330a",
   "metadata": {
    "ExecuteTime": {
     "end_time": "2022-03-18T02:55:39.778348Z",
     "start_time": "2022-03-18T02:55:39.762390Z"
    }
   },
   "outputs": [],
   "source": [
    "def get_success_array(silence_middle, split_arr):\n",
    "    i = 0\n",
    "    success_array = []\n",
    "    for j, silence_time in enumerate(silence_middle):\n",
    "        if silence_time < split_arr[i]:\n",
    "            continue\n",
    "        else:\n",
    "            # compare which item is closer to our suggested split time\n",
    "            prev_silence = silence_middle[j - 1]\n",
    "            if silence_time - split_arr[i] > split_arr[i] - prev_silence:\n",
    "                if prev_silence not in success_array:\n",
    "                    success_array.append(prev_silence)\n",
    "                else:\n",
    "                    success_array.append(silence_time)\n",
    "            else:\n",
    "                success_array.append(silence_time)\n",
    "            # move to the next time in the split_arr\n",
    "            if i < len(split_arr) - 1:\n",
    "                i += 1\n",
    "            else:\n",
    "                break\n",
    "    return round_list_values(success_array)"
   ]
  },
  {
   "cell_type": "code",
   "execution_count": 4,
   "id": "19f5c8a0",
   "metadata": {
    "ExecuteTime": {
     "end_time": "2022-03-18T02:47:21.604866Z",
     "start_time": "2022-03-18T02:47:21.591877Z"
    }
   },
   "outputs": [],
   "source": [
    "def merge_small_durations(diff_arr, min_dur, max_dur, fwd=True):\n",
    "    dur_arr_mod = []\n",
    "    flag_raised = False  # the flag will be raised if we merges occur\n",
    "    for i, dur in enumerate(diff_arr):\n",
    "        if flag_raised:\n",
    "            flag_raised = False\n",
    "            continue\n",
    "        if (dur < min_dur) & (dur > 0):\n",
    "            # if dur < min_dur:\n",
    "            if i + 1 < len(diff_arr):\n",
    "                next_diff = diff_arr[i + 1]\n",
    "                if dur + next_diff < max_dur:\n",
    "                    if fwd: dur_arr_mod.append(0)\n",
    "                    dur_arr_mod.append(dur + next_diff)\n",
    "                    if not fwd: dur_arr_mod.append(0)\n",
    "                    flag_raised = True\n",
    "            else:\n",
    "                dur_arr_mod.append(dur)\n",
    "        else:\n",
    "            dur_arr_mod.append(dur)\n",
    "    return round_list_values(dur_arr_mod)"
   ]
  },
  {
   "cell_type": "code",
   "execution_count": 14,
   "id": "d654bc65",
   "metadata": {
    "ExecuteTime": {
     "end_time": "2022-03-18T02:56:13.141726Z",
     "start_time": "2022-03-18T02:56:13.124773Z"
    }
   },
   "outputs": [],
   "source": [
    "def split_audio_file(\n",
    "    src,\n",
    "    result,\n",
    "    split_interval,\n",
    "    min_duration,\n",
    "    max_duration,\n",
    "):\n",
    "    split_cmd = f\"ffmpeg -i {src} -af silencedetect=n=-30dB:d=0.25 -f null - \"\n",
    "    out = subprocess.Popen(split_cmd,\n",
    "                           stdout=subprocess.PIPE,\n",
    "                           stderr=subprocess.STDOUT)\n",
    "    stdout, stderr = out.communicate()\n",
    "    str_out = str(stdout)\n",
    "    # FInding all and converting to float in one step\n",
    "    s_start = map(float, re.findall(r'silence_start: (\\d+.\\d+)', str_out))\n",
    "    s_end = map(float, re.findall(r'silence_end: (\\d+.\\d+)', str_out))\n",
    "    s_duration = map(float, re.findall(r'silence_duration: (\\d+.\\d+)',\n",
    "                                       str_out))\n",
    "\n",
    "    # zipping all together\n",
    "    results = list(zip(s_start, s_end, s_duration))\n",
    "    results_df = pd.DataFrame(\n",
    "        results, columns=['silence_start', 'silence_end', 'silence_duration'])\n",
    "    results_df[\n",
    "        'silence_mid'] = results_df.silence_start + results_df.silence_duration / 2\n",
    "    end_time = float(ffmpeg.probe(src)['format']['duration'])\n",
    "    split_arr = np.arange(split_interval, int(end_time), split_interval)\n",
    "    silence_mid = results_df.silence_mid.to_numpy()\n",
    "    success_array = get_success_array(silence_mid, split_arr)\n",
    "    dur_array = [0] + success_array + [end_time]\n",
    "    difference_array = round_list_values(np.diff(np.array(dur_array)))\n",
    "    fwd_arr = merge_small_durations(difference_array, min_duration,\n",
    "                                    max_duration)\n",
    "    bwd_arr = merge_small_durations(fwd_arr[::-1],\n",
    "                                    min_duration,\n",
    "                                    max_duration,\n",
    "                                    fwd=False)[::-1]\n",
    "    # stage 1\n",
    "    final_stops = [x for i, x in enumerate(dur_array[1:]) if bwd_arr[i] != 0]\n",
    "    # stage 2\n",
    "    final_stops = final_stops[:-1]\n",
    "    final_durations = round_list_values(\n",
    "        np.diff(np.array([0] + final_stops + [end_time])))\n",
    "    out_times = \",\".join(str(e) for e in final_stops)\n",
    "    slice_cmd = f\"ffmpeg -i {src} -vn -c copy -f segment -segment_times \"\n",
    "    slice_cmd += f\"{out_times} {result}\"\n",
    "    execute = os.system(slice_cmd)\n",
    "    if execute == 0:\n",
    "        print(f\"The {src} file was split successfuly\")\n",
    "    else:\n",
    "        print(f\"Error during split of {src} file\")\n",
    "    pass"
   ]
  },
  {
   "cell_type": "code",
   "execution_count": 15,
   "id": "690c39a0",
   "metadata": {
    "ExecuteTime": {
     "end_time": "2022-03-18T02:56:24.737339Z",
     "start_time": "2022-03-18T02:56:15.205733Z"
    }
   },
   "outputs": [
    {
     "name": "stdout",
     "output_type": "stream",
     "text": [
      "1. The X:/Music/RightlyGuidedCalifate/RGC001_.mp3 file was split successfuly\n",
      "2. The X:/Music/RightlyGuidedCalifate/RGC002_.mp3 file was split successfuly\n",
      "3. The X:/Music/RightlyGuidedCalifate/RGC003_.mp3 file was split successfuly\n",
      "4. The X:/Music/RightlyGuidedCalifate/RGC004_.mp3 file was split successfuly\n"
     ]
    }
   ],
   "source": [
    "split_interval, min_duration, max_duration = 180, 30, 240\n",
    "for file_number in range(1, 5):\n",
    "    src = f\"X:/Music/RightlyGuidedCalifate/RGC{file_number:03d}_.mp3\"\n",
    "    result = f\"X:/Music/RightlyGuidedCalifate/Outputs/RGC{file_number:03d}_%d.mp3\"\n",
    "    print(file_number, end=\". \")\n",
    "    split_audio_file(src, result, split_interval, min_duration, max_duration)"
   ]
  },
  {
   "cell_type": "code",
   "execution_count": null,
   "id": "3c33a3c8",
   "metadata": {},
   "outputs": [],
   "source": [
    "float(ffmpeg.probe(src)['format']['duration'])"
   ]
  },
  {
   "cell_type": "code",
   "execution_count": null,
   "id": "b97faafb",
   "metadata": {},
   "outputs": [],
   "source": []
  },
  {
   "cell_type": "code",
   "execution_count": null,
   "id": "d65ddcdf",
   "metadata": {},
   "outputs": [],
   "source": []
  },
  {
   "cell_type": "code",
   "execution_count": null,
   "id": "39088848",
   "metadata": {},
   "outputs": [],
   "source": []
  }
 ],
 "metadata": {
  "kernelspec": {
   "display_name": "Python 3 (ipykernel)",
   "language": "python",
   "name": "python3"
  },
  "language_info": {
   "codemirror_mode": {
    "name": "ipython",
    "version": 3
   },
   "file_extension": ".py",
   "mimetype": "text/x-python",
   "name": "python",
   "nbconvert_exporter": "python",
   "pygments_lexer": "ipython3",
   "version": "3.8.12"
  },
  "varInspector": {
   "cols": {
    "lenName": 16,
    "lenType": 16,
    "lenVar": 40
   },
   "kernels_config": {
    "python": {
     "delete_cmd_postfix": "",
     "delete_cmd_prefix": "del ",
     "library": "var_list.py",
     "varRefreshCmd": "print(var_dic_list())"
    },
    "r": {
     "delete_cmd_postfix": ") ",
     "delete_cmd_prefix": "rm(",
     "library": "var_list.r",
     "varRefreshCmd": "cat(var_dic_list()) "
    }
   },
   "types_to_exclude": [
    "module",
    "function",
    "builtin_function_or_method",
    "instance",
    "_Feature"
   ],
   "window_display": false
  }
 },
 "nbformat": 4,
 "nbformat_minor": 5
}
