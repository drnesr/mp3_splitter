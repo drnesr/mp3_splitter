{
 "cells": [
  {
   "cell_type": "markdown",
   "id": "4f59b570",
   "metadata": {},
   "source": [
    "***This notebook for final functions and executions***"
   ]
  },
  {
   "cell_type": "code",
   "execution_count": 24,
   "id": "c466e248",
   "metadata": {
    "ExecuteTime": {
     "end_time": "2022-03-31T23:34:42.112900Z",
     "start_time": "2022-03-31T23:34:41.403257Z"
    }
   },
   "outputs": [],
   "source": [
    "# Imports\n",
    "import ffmpeg\n",
    "import os\n",
    "import subprocess\n",
    "import re\n",
    "import pandas as pd\n",
    "import numpy as np"
   ]
  },
  {
   "cell_type": "markdown",
   "id": "12defeef",
   "metadata": {},
   "source": [
    "## Combined functions"
   ]
  },
  {
   "cell_type": "code",
   "execution_count": 33,
   "id": "635a252f",
   "metadata": {
    "ExecuteTime": {
     "end_time": "2022-03-31T23:46:43.403745Z",
     "start_time": "2022-03-31T23:46:43.394768Z"
    }
   },
   "outputs": [],
   "source": [
    "# adding a function to round values of a list\n",
    "def round_list_values(the_list, rounding=3):\n",
    "    return list(np.round(the_list, rounding))"
   ]
  },
  {
   "cell_type": "code",
   "execution_count": 34,
   "id": "9622cc43",
   "metadata": {
    "ExecuteTime": {
     "end_time": "2022-03-31T23:46:44.477391Z",
     "start_time": "2022-03-31T23:46:44.457444Z"
    }
   },
   "outputs": [],
   "source": [
    "def get_success_array(silence_middle, split_arr):\n",
    "    i = 0\n",
    "    success_array = []\n",
    "    for j, silence_time in enumerate(silence_middle):\n",
    "        if silence_time < split_arr[i]:\n",
    "            continue\n",
    "        else:\n",
    "            # compare which item is closer to our suggested split time\n",
    "            prev_silence = silence_middle[j - 1]\n",
    "            if silence_time - split_arr[i] > split_arr[i] - prev_silence:\n",
    "                if prev_silence not in success_array:\n",
    "                    success_array.append(prev_silence)\n",
    "                else:\n",
    "                    success_array.append(silence_time)\n",
    "            else:\n",
    "                success_array.append(silence_time)\n",
    "            # move to the next time in the split_arr\n",
    "            if i < len(split_arr) - 1:\n",
    "                i += 1\n",
    "            else:\n",
    "                break\n",
    "    return round_list_values(success_array)"
   ]
  },
  {
   "cell_type": "code",
   "execution_count": 35,
   "id": "13aab901",
   "metadata": {
    "ExecuteTime": {
     "end_time": "2022-03-31T23:46:45.889444Z",
     "start_time": "2022-03-31T23:46:45.869523Z"
    }
   },
   "outputs": [],
   "source": [
    "def merge_small_durations(diff_arr, min_dur, max_dur, fwd=True):\n",
    "    dur_arr_mod = []\n",
    "    flag_raised = False  # the flag will be raised if we merges occur\n",
    "    for i, dur in enumerate(diff_arr):\n",
    "        if flag_raised:\n",
    "            flag_raised = False\n",
    "            continue\n",
    "        if (dur < min_dur) & (dur > 0):\n",
    "            # if dur < min_dur:\n",
    "            if i + 1 < len(diff_arr):\n",
    "                next_diff = diff_arr[i + 1]\n",
    "                if dur + next_diff < max_dur:\n",
    "                    if fwd: dur_arr_mod.append(0)\n",
    "                    dur_arr_mod.append(dur + next_diff)\n",
    "                    if not fwd: dur_arr_mod.append(0)\n",
    "                    flag_raised = True\n",
    "            else:\n",
    "                dur_arr_mod.append(dur)\n",
    "        else:\n",
    "            dur_arr_mod.append(dur)\n",
    "    return round_list_values(dur_arr_mod)"
   ]
  },
  {
   "cell_type": "code",
   "execution_count": 39,
   "id": "f99c28aa",
   "metadata": {
    "ExecuteTime": {
     "end_time": "2022-04-01T00:14:57.553977Z",
     "start_time": "2022-04-01T00:14:57.535029Z"
    }
   },
   "outputs": [],
   "source": [
    "def split_audio_file(\n",
    "    src,\n",
    "    result,\n",
    "    split_interval,\n",
    "    min_duration,\n",
    "    max_duration,\n",
    "):\n",
    "    split_cmd = f\"ffmpeg -i {src} -af silencedetect=n=-20dB:d=0.25 -f null - \"\n",
    "    out = subprocess.Popen(split_cmd,\n",
    "                           stdout=subprocess.PIPE,\n",
    "                           stderr=subprocess.STDOUT)\n",
    "    stdout, stderr = out.communicate()\n",
    "    str_out = str(stdout)\n",
    "    # FInding all and converting to float in one step\n",
    "    s_start = map(float, re.findall(r'silence_start: (\\d+.\\d+)', str_out))\n",
    "    s_end = map(float, re.findall(r'silence_end: (\\d+.\\d+)', str_out))\n",
    "    s_duration = map(float, re.findall(r'silence_duration: (\\d+.\\d+)',\n",
    "                                       str_out))\n",
    "\n",
    "    # zipping all together\n",
    "    results = list(zip(s_start, s_end, s_duration))\n",
    "    results_df = pd.DataFrame(\n",
    "        results, columns=['silence_start', 'silence_end', 'silence_duration'])\n",
    "    results_df[\n",
    "        'silence_mid'] = results_df.silence_start + results_df.silence_duration / 2\n",
    "    end_time = float(ffmpeg.probe(src)['format']['duration'])\n",
    "    split_arr = np.arange(split_interval, int(end_time), split_interval)\n",
    "    silence_mid = results_df.silence_mid.to_numpy()\n",
    "    success_array = get_success_array(silence_mid, split_arr)\n",
    "    dur_array = [0] + success_array + [end_time]\n",
    "    difference_array = round_list_values(np.diff(np.array(dur_array)))\n",
    "    fwd_arr = merge_small_durations(difference_array, min_duration,\n",
    "                                    max_duration)\n",
    "    bwd_arr = merge_small_durations(fwd_arr[::-1],\n",
    "                                    min_duration,\n",
    "                                    max_duration,\n",
    "                                    fwd=False)[::-1]\n",
    "    # stage 1\n",
    "    final_stops = [x for i, x in enumerate(dur_array[1:]) if bwd_arr[i] != 0]\n",
    "    # stage 2\n",
    "    final_stops = final_stops[:-1]\n",
    "    final_durations = round_list_values(\n",
    "        np.diff(np.array([0] + final_stops + [end_time])))\n",
    "    out_times = \",\".join(str(e) for e in final_stops)\n",
    "    slice_cmd = f\"ffmpeg -i {src} -vn -c copy -f segment -segment_times \"\n",
    "    slice_cmd += f\"{out_times} {result}\"\n",
    "    execute = os.system(slice_cmd)\n",
    "    if execute == 0:\n",
    "        print(f\"The {src} file was split successfuly\")\n",
    "    else:\n",
    "        print(f\"Error during split of {src} file\")\n",
    "    pass"
   ]
  },
  {
   "cell_type": "code",
   "execution_count": 15,
   "id": "77c0c56c",
   "metadata": {
    "ExecuteTime": {
     "end_time": "2022-03-18T02:56:24.737339Z",
     "start_time": "2022-03-18T02:56:15.205733Z"
    }
   },
   "outputs": [
    {
     "name": "stdout",
     "output_type": "stream",
     "text": [
      "1. The X:/Music/RightlyGuidedCalifate/RGC001_.mp3 file was split successfuly\n",
      "2. The X:/Music/RightlyGuidedCalifate/RGC002_.mp3 file was split successfuly\n",
      "3. The X:/Music/RightlyGuidedCalifate/RGC003_.mp3 file was split successfuly\n",
      "4. The X:/Music/RightlyGuidedCalifate/RGC004_.mp3 file was split successfuly\n"
     ]
    }
   ],
   "source": [
    "split_interval, min_duration, max_duration = 180, 30, 240\n",
    "for file_number in range(1, 5):\n",
    "    src = f\"X:/Music/RightlyGuidedCalifate/RGC{file_number:03d}_.mp3\"\n",
    "    result = f\"X:/Music/RightlyGuidedCalifate/Outputs/RGC{file_number:03d}_%d.mp3\"\n",
    "    print(file_number, end=\". \")\n",
    "    split_audio_file(src, result, split_interval, min_duration, max_duration)"
   ]
  },
  {
   "cell_type": "code",
   "execution_count": null,
   "id": "479867e7",
   "metadata": {},
   "outputs": [],
   "source": [
    "split_interval, min_duration, max_duration = 180, 30, 240\n",
    "folder = \"X:/Music/RightlyGuidedCalifate/\"\n",
    "for file_number in range(1, 108): # the last file is #107\n",
    "    src = f\"{folder}RGC{file_number:03d}_.mp3\"\n",
    "    result = f\"{folder}Outputs/RGC{file_number:03d}_%d.mp3\"\n",
    "    print(file_number, end=\". \")\n",
    "    split_audio_file(src, result, split_interval, min_duration, max_duration)"
   ]
  },
  {
   "cell_type": "markdown",
   "id": "a99700f6",
   "metadata": {},
   "source": [
    "**I want to place each 7 files in a folder**\n"
   ]
  },
  {
   "cell_type": "code",
   "execution_count": 29,
   "id": "91779214",
   "metadata": {
    "ExecuteTime": {
     "end_time": "2022-03-31T23:39:52.532146Z",
     "start_time": "2022-03-31T23:39:52.526195Z"
    }
   },
   "outputs": [],
   "source": [
    "file_number = 4\n",
    "\n",
    "\n",
    "def find_folder_name(file_number):\n",
    "    folder_number = (file_number-1) // 7 + 1\n",
    "    return f\"Group_{folder_number:02d}\""
   ]
  },
  {
   "cell_type": "code",
   "execution_count": 30,
   "id": "062c1c1b",
   "metadata": {
    "ExecuteTime": {
     "end_time": "2022-03-31T23:40:00.118710Z",
     "start_time": "2022-03-31T23:40:00.107764Z"
    }
   },
   "outputs": [
    {
     "name": "stdout",
     "output_type": "stream",
     "text": [
      "1 Group_01>>2 Group_01>>7 Group_01>>8 Group_02>>12 Group_02>>13 Group_02>>14 Group_02>>15 Group_03>>70 Group_10>>"
     ]
    }
   ],
   "source": [
    "for i in (1, 2, 7, 8, 12, 13, 14, 15, 70):\n",
    "    print(i, find_folder_name(i), end=\">>\")"
   ]
  },
  {
   "cell_type": "markdown",
   "id": "936d4b90",
   "metadata": {
    "ExecuteTime": {
     "end_time": "2022-03-31T23:29:02.221844Z",
     "start_time": "2022-03-31T23:29:02.202896Z"
    }
   },
   "source": [
    "**To create the folder if not exists**\n",
    "See here:\n",
    "\n",
    "https://appdividend.com/2021/07/03/how-to-create-directory-if-not-exist-in-python/"
   ]
  },
  {
   "cell_type": "code",
   "execution_count": 27,
   "id": "fbd183c4",
   "metadata": {
    "ExecuteTime": {
     "end_time": "2022-03-31T23:38:39.687426Z",
     "start_time": "2022-03-31T23:38:39.670472Z"
    }
   },
   "outputs": [],
   "source": [
    "def get_output_folder(source_output, file_number):\n",
    "    folder_name = find_folder_name(file_number)\n",
    "    folder_path = os.path.join(source_output, folder_name)\n",
    "    exists = os.path.exists(folder_path)\n",
    "    if not exists:\n",
    "        os.makedirs(folder_path)\n",
    "    return folder_path"
   ]
  },
  {
   "cell_type": "code",
   "execution_count": 31,
   "id": "287405e6",
   "metadata": {
    "ExecuteTime": {
     "end_time": "2022-03-31T23:40:06.992083Z",
     "start_time": "2022-03-31T23:40:06.973163Z"
    }
   },
   "outputs": [
    {
     "name": "stdout",
     "output_type": "stream",
     "text": [
      "1 X:/Music/RightlyGuidedCalifate/Outputs/Group_01\n",
      "2 X:/Music/RightlyGuidedCalifate/Outputs/Group_01\n",
      "7 X:/Music/RightlyGuidedCalifate/Outputs/Group_01\n",
      "8 X:/Music/RightlyGuidedCalifate/Outputs/Group_02\n",
      "12 X:/Music/RightlyGuidedCalifate/Outputs/Group_02\n",
      "13 X:/Music/RightlyGuidedCalifate/Outputs/Group_02\n",
      "14 X:/Music/RightlyGuidedCalifate/Outputs/Group_02\n",
      "15 X:/Music/RightlyGuidedCalifate/Outputs/Group_03\n",
      "70 X:/Music/RightlyGuidedCalifate/Outputs/Group_10\n"
     ]
    }
   ],
   "source": [
    "for i in (1, 2, 7, 8, 12, 13, 14, 15, 70):\n",
    "    print(i, get_output_folder(\"X:/Music/RightlyGuidedCalifate/Outputs/\", i))"
   ]
  },
  {
   "cell_type": "markdown",
   "id": "e55828be",
   "metadata": {},
   "source": [
    "**Creating a function of splitting**"
   ]
  },
  {
   "cell_type": "code",
   "execution_count": 37,
   "id": "5ffaa497",
   "metadata": {
    "ExecuteTime": {
     "end_time": "2022-03-31T23:47:07.692783Z",
     "start_time": "2022-03-31T23:46:54.763657Z"
    }
   },
   "outputs": [
    {
     "name": "stdout",
     "output_type": "stream",
     "text": [
      "1. The X:/Music/RightlyGuidedCalifate\\RGC001_.mp3 file was split successfuly\n",
      "2. The X:/Music/RightlyGuidedCalifate\\RGC002_.mp3 file was split successfuly\n",
      "3. The X:/Music/RightlyGuidedCalifate\\RGC003_.mp3 file was split successfuly\n",
      "4. The X:/Music/RightlyGuidedCalifate\\RGC004_.mp3 file was split successfuly\n"
     ]
    }
   ],
   "source": [
    "split_interval, min_duration, max_duration = 180, 30, 240\n",
    "source_folder = \"X:/Music/RightlyGuidedCalifate\"\n",
    "output_folder = os.path.join(source_folder, \"output\")\n",
    "for file_number in range(1, 5):\n",
    "    src = os.path.join(source_folder, f\"RGC{file_number:03d}_.mp3\")\n",
    "    result = os.path.join(get_output_folder(output_folder, file_number),\n",
    "                          f\"RGC{file_number:03d}_%d.mp3\")\n",
    "    print(file_number, end=\". \")\n",
    "    split_audio_file(src, result, split_interval, min_duration, max_duration)"
   ]
  },
  {
   "cell_type": "code",
   "execution_count": 38,
   "id": "234f68b0",
   "metadata": {
    "ExecuteTime": {
     "end_time": "2022-03-31T23:50:17.544919Z",
     "start_time": "2022-03-31T23:49:54.797485Z"
    },
    "collapsed": true
   },
   "outputs": [
    {
     "name": "stdout",
     "output_type": "stream",
     "text": [
      "5. The X:/Music/RightlyGuidedCalifate\\RGC005_.mp3 file was split successfuly\n",
      "6. The X:/Music/RightlyGuidedCalifate\\RGC006_.mp3 file was split successfuly\n",
      "7. The X:/Music/RightlyGuidedCalifate\\RGC007_.mp3 file was split successfuly\n",
      "8. The X:/Music/RightlyGuidedCalifate\\RGC008_.mp3 file was split successfuly\n",
      "9. The X:/Music/RightlyGuidedCalifate\\RGC009_.mp3 file was split successfuly\n",
      "10. Error during split of X:/Music/RightlyGuidedCalifate\\RGC010_.mp3 file\n",
      "11. "
     ]
    },
    {
     "ename": "IndexError",
     "evalue": "list index out of range",
     "output_type": "error",
     "traceback": [
      "\u001b[1;31m---------------------------------------------------------------------------\u001b[0m",
      "\u001b[1;31mIndexError\u001b[0m                                Traceback (most recent call last)",
      "Input \u001b[1;32mIn [38]\u001b[0m, in \u001b[0;36m<cell line: 4>\u001b[1;34m()\u001b[0m\n\u001b[0;32m      6\u001b[0m result \u001b[38;5;241m=\u001b[39m os\u001b[38;5;241m.\u001b[39mpath\u001b[38;5;241m.\u001b[39mjoin(get_output_folder(output_folder, file_number),\n\u001b[0;32m      7\u001b[0m                       \u001b[38;5;124mf\u001b[39m\u001b[38;5;124m\"\u001b[39m\u001b[38;5;124mRGC\u001b[39m\u001b[38;5;132;01m{\u001b[39;00mfile_number\u001b[38;5;132;01m:\u001b[39;00m\u001b[38;5;124m03d\u001b[39m\u001b[38;5;132;01m}\u001b[39;00m\u001b[38;5;124m_%d.mp3\u001b[39m\u001b[38;5;124m\"\u001b[39m)\n\u001b[0;32m      8\u001b[0m \u001b[38;5;28mprint\u001b[39m(file_number, end\u001b[38;5;241m=\u001b[39m\u001b[38;5;124m\"\u001b[39m\u001b[38;5;124m. \u001b[39m\u001b[38;5;124m\"\u001b[39m)\n\u001b[1;32m----> 9\u001b[0m \u001b[43msplit_audio_file\u001b[49m\u001b[43m(\u001b[49m\u001b[43msrc\u001b[49m\u001b[43m,\u001b[49m\u001b[43m \u001b[49m\u001b[43mresult\u001b[49m\u001b[43m,\u001b[49m\u001b[43m \u001b[49m\u001b[43msplit_interval\u001b[49m\u001b[43m,\u001b[49m\u001b[43m \u001b[49m\u001b[43mmin_duration\u001b[49m\u001b[43m,\u001b[49m\u001b[43m \u001b[49m\u001b[43mmax_duration\u001b[49m\u001b[43m)\u001b[49m\n",
      "Input \u001b[1;32mIn [36]\u001b[0m, in \u001b[0;36msplit_audio_file\u001b[1;34m(src, result, split_interval, min_duration, max_duration)\u001b[0m\n\u001b[0;32m     34\u001b[0m bwd_arr \u001b[38;5;241m=\u001b[39m merge_small_durations(fwd_arr[::\u001b[38;5;241m-\u001b[39m\u001b[38;5;241m1\u001b[39m],\n\u001b[0;32m     35\u001b[0m                                 min_duration,\n\u001b[0;32m     36\u001b[0m                                 max_duration,\n\u001b[0;32m     37\u001b[0m                                 fwd\u001b[38;5;241m=\u001b[39m\u001b[38;5;28;01mFalse\u001b[39;00m)[::\u001b[38;5;241m-\u001b[39m\u001b[38;5;241m1\u001b[39m]\n\u001b[0;32m     38\u001b[0m \u001b[38;5;66;03m# stage 1\u001b[39;00m\n\u001b[1;32m---> 39\u001b[0m final_stops \u001b[38;5;241m=\u001b[39m [x \u001b[38;5;28;01mfor\u001b[39;00m i, x \u001b[38;5;129;01min\u001b[39;00m \u001b[38;5;28menumerate\u001b[39m(dur_array[\u001b[38;5;241m1\u001b[39m:]) \u001b[38;5;28;01mif\u001b[39;00m bwd_arr[i] \u001b[38;5;241m!=\u001b[39m \u001b[38;5;241m0\u001b[39m]\n\u001b[0;32m     40\u001b[0m \u001b[38;5;66;03m# stage 2\u001b[39;00m\n\u001b[0;32m     41\u001b[0m final_stops \u001b[38;5;241m=\u001b[39m final_stops[:\u001b[38;5;241m-\u001b[39m\u001b[38;5;241m1\u001b[39m]\n",
      "Input \u001b[1;32mIn [36]\u001b[0m, in \u001b[0;36m<listcomp>\u001b[1;34m(.0)\u001b[0m\n\u001b[0;32m     34\u001b[0m bwd_arr \u001b[38;5;241m=\u001b[39m merge_small_durations(fwd_arr[::\u001b[38;5;241m-\u001b[39m\u001b[38;5;241m1\u001b[39m],\n\u001b[0;32m     35\u001b[0m                                 min_duration,\n\u001b[0;32m     36\u001b[0m                                 max_duration,\n\u001b[0;32m     37\u001b[0m                                 fwd\u001b[38;5;241m=\u001b[39m\u001b[38;5;28;01mFalse\u001b[39;00m)[::\u001b[38;5;241m-\u001b[39m\u001b[38;5;241m1\u001b[39m]\n\u001b[0;32m     38\u001b[0m \u001b[38;5;66;03m# stage 1\u001b[39;00m\n\u001b[1;32m---> 39\u001b[0m final_stops \u001b[38;5;241m=\u001b[39m [x \u001b[38;5;28;01mfor\u001b[39;00m i, x \u001b[38;5;129;01min\u001b[39;00m \u001b[38;5;28menumerate\u001b[39m(dur_array[\u001b[38;5;241m1\u001b[39m:]) \u001b[38;5;28;01mif\u001b[39;00m \u001b[43mbwd_arr\u001b[49m\u001b[43m[\u001b[49m\u001b[43mi\u001b[49m\u001b[43m]\u001b[49m \u001b[38;5;241m!=\u001b[39m \u001b[38;5;241m0\u001b[39m]\n\u001b[0;32m     40\u001b[0m \u001b[38;5;66;03m# stage 2\u001b[39;00m\n\u001b[0;32m     41\u001b[0m final_stops \u001b[38;5;241m=\u001b[39m final_stops[:\u001b[38;5;241m-\u001b[39m\u001b[38;5;241m1\u001b[39m]\n",
      "\u001b[1;31mIndexError\u001b[0m: list index out of range"
     ]
    }
   ],
   "source": [
    "split_interval, min_duration, max_duration = 180, 30, 240\n",
    "source_folder = \"X:/Music/RightlyGuidedCalifate\"\n",
    "output_folder = os.path.join(source_folder, \"output\")\n",
    "for file_number in range(5, 113): #From 5 to 112\n",
    "    src = os.path.join(source_folder, f\"RGC{file_number:03d}_.mp3\")\n",
    "    result = os.path.join(get_output_folder(output_folder, file_number),\n",
    "                          f\"RGC{file_number:03d}_%d.mp3\")\n",
    "    print(file_number, end=\". \")\n",
    "    split_audio_file(src, result, split_interval, min_duration, max_duration)"
   ]
  },
  {
   "cell_type": "code",
   "execution_count": 40,
   "id": "d2239ad2",
   "metadata": {
    "ExecuteTime": {
     "end_time": "2022-04-01T00:21:28.943012Z",
     "start_time": "2022-04-01T00:15:25.236763Z"
    }
   },
   "outputs": [
    {
     "name": "stdout",
     "output_type": "stream",
     "text": [
      "10. The X:/Music/RightlyGuidedCalifate\\RGC010_.mp3 file was split successfuly\n",
      "11. The X:/Music/RightlyGuidedCalifate\\RGC011_.mp3 file was split successfuly\n",
      "12. The X:/Music/RightlyGuidedCalifate\\RGC012_.mp3 file was split successfuly\n",
      "13. The X:/Music/RightlyGuidedCalifate\\RGC013_.mp3 file was split successfuly\n",
      "14. The X:/Music/RightlyGuidedCalifate\\RGC014_.mp3 file was split successfuly\n",
      "15. The X:/Music/RightlyGuidedCalifate\\RGC015_.mp3 file was split successfuly\n",
      "16. The X:/Music/RightlyGuidedCalifate\\RGC016_.mp3 file was split successfuly\n",
      "17. The X:/Music/RightlyGuidedCalifate\\RGC017_.mp3 file was split successfuly\n",
      "18. The X:/Music/RightlyGuidedCalifate\\RGC018_.mp3 file was split successfuly\n",
      "19. The X:/Music/RightlyGuidedCalifate\\RGC019_.mp3 file was split successfuly\n",
      "20. The X:/Music/RightlyGuidedCalifate\\RGC020_.mp3 file was split successfuly\n",
      "21. The X:/Music/RightlyGuidedCalifate\\RGC021_.mp3 file was split successfuly\n",
      "22. The X:/Music/RightlyGuidedCalifate\\RGC022_.mp3 file was split successfuly\n",
      "23. The X:/Music/RightlyGuidedCalifate\\RGC023_.mp3 file was split successfuly\n",
      "24. The X:/Music/RightlyGuidedCalifate\\RGC024_.mp3 file was split successfuly\n",
      "25. The X:/Music/RightlyGuidedCalifate\\RGC025_.mp3 file was split successfuly\n",
      "26. The X:/Music/RightlyGuidedCalifate\\RGC026_.mp3 file was split successfuly\n",
      "27. The X:/Music/RightlyGuidedCalifate\\RGC027_.mp3 file was split successfuly\n",
      "28. The X:/Music/RightlyGuidedCalifate\\RGC028_.mp3 file was split successfuly\n",
      "29. The X:/Music/RightlyGuidedCalifate\\RGC029_.mp3 file was split successfuly\n",
      "30. The X:/Music/RightlyGuidedCalifate\\RGC030_.mp3 file was split successfuly\n",
      "31. The X:/Music/RightlyGuidedCalifate\\RGC031_.mp3 file was split successfuly\n",
      "32. The X:/Music/RightlyGuidedCalifate\\RGC032_.mp3 file was split successfuly\n",
      "33. The X:/Music/RightlyGuidedCalifate\\RGC033_.mp3 file was split successfuly\n",
      "34. The X:/Music/RightlyGuidedCalifate\\RGC034_.mp3 file was split successfuly\n",
      "35. The X:/Music/RightlyGuidedCalifate\\RGC035_.mp3 file was split successfuly\n",
      "36. The X:/Music/RightlyGuidedCalifate\\RGC036_.mp3 file was split successfuly\n",
      "37. The X:/Music/RightlyGuidedCalifate\\RGC037_.mp3 file was split successfuly\n",
      "38. The X:/Music/RightlyGuidedCalifate\\RGC038_.mp3 file was split successfuly\n",
      "39. The X:/Music/RightlyGuidedCalifate\\RGC039_.mp3 file was split successfuly\n",
      "40. The X:/Music/RightlyGuidedCalifate\\RGC040_.mp3 file was split successfuly\n",
      "41. The X:/Music/RightlyGuidedCalifate\\RGC041_.mp3 file was split successfuly\n",
      "42. The X:/Music/RightlyGuidedCalifate\\RGC042_.mp3 file was split successfuly\n",
      "43. The X:/Music/RightlyGuidedCalifate\\RGC043_.mp3 file was split successfuly\n",
      "44. The X:/Music/RightlyGuidedCalifate\\RGC044_.mp3 file was split successfuly\n",
      "45. The X:/Music/RightlyGuidedCalifate\\RGC045_.mp3 file was split successfuly\n",
      "46. The X:/Music/RightlyGuidedCalifate\\RGC046_.mp3 file was split successfuly\n",
      "47. The X:/Music/RightlyGuidedCalifate\\RGC047_.mp3 file was split successfuly\n",
      "48. The X:/Music/RightlyGuidedCalifate\\RGC048_.mp3 file was split successfuly\n",
      "49. The X:/Music/RightlyGuidedCalifate\\RGC049_.mp3 file was split successfuly\n",
      "50. The X:/Music/RightlyGuidedCalifate\\RGC050_.mp3 file was split successfuly\n",
      "51. The X:/Music/RightlyGuidedCalifate\\RGC051_.mp3 file was split successfuly\n",
      "52. The X:/Music/RightlyGuidedCalifate\\RGC052_.mp3 file was split successfuly\n",
      "53. The X:/Music/RightlyGuidedCalifate\\RGC053_.mp3 file was split successfuly\n",
      "54. The X:/Music/RightlyGuidedCalifate\\RGC054_.mp3 file was split successfuly\n",
      "55. The X:/Music/RightlyGuidedCalifate\\RGC055_.mp3 file was split successfuly\n",
      "56. The X:/Music/RightlyGuidedCalifate\\RGC056_.mp3 file was split successfuly\n",
      "57. The X:/Music/RightlyGuidedCalifate\\RGC057_.mp3 file was split successfuly\n",
      "58. The X:/Music/RightlyGuidedCalifate\\RGC058_.mp3 file was split successfuly\n",
      "59. The X:/Music/RightlyGuidedCalifate\\RGC059_.mp3 file was split successfuly\n",
      "60. The X:/Music/RightlyGuidedCalifate\\RGC060_.mp3 file was split successfuly\n",
      "61. The X:/Music/RightlyGuidedCalifate\\RGC061_.mp3 file was split successfuly\n",
      "62. The X:/Music/RightlyGuidedCalifate\\RGC062_.mp3 file was split successfuly\n",
      "63. The X:/Music/RightlyGuidedCalifate\\RGC063_.mp3 file was split successfuly\n",
      "64. The X:/Music/RightlyGuidedCalifate\\RGC064_.mp3 file was split successfuly\n",
      "65. The X:/Music/RightlyGuidedCalifate\\RGC065_.mp3 file was split successfuly\n",
      "66. The X:/Music/RightlyGuidedCalifate\\RGC066_.mp3 file was split successfuly\n",
      "67. The X:/Music/RightlyGuidedCalifate\\RGC067_.mp3 file was split successfuly\n",
      "68. The X:/Music/RightlyGuidedCalifate\\RGC068_.mp3 file was split successfuly\n",
      "69. The X:/Music/RightlyGuidedCalifate\\RGC069_.mp3 file was split successfuly\n",
      "70. The X:/Music/RightlyGuidedCalifate\\RGC070_.mp3 file was split successfuly\n",
      "71. The X:/Music/RightlyGuidedCalifate\\RGC071_.mp3 file was split successfuly\n",
      "72. The X:/Music/RightlyGuidedCalifate\\RGC072_.mp3 file was split successfuly\n",
      "73. The X:/Music/RightlyGuidedCalifate\\RGC073_.mp3 file was split successfuly\n",
      "74. The X:/Music/RightlyGuidedCalifate\\RGC074_.mp3 file was split successfuly\n",
      "75. The X:/Music/RightlyGuidedCalifate\\RGC075_.mp3 file was split successfuly\n",
      "76. The X:/Music/RightlyGuidedCalifate\\RGC076_.mp3 file was split successfuly\n",
      "77. The X:/Music/RightlyGuidedCalifate\\RGC077_.mp3 file was split successfuly\n",
      "78. The X:/Music/RightlyGuidedCalifate\\RGC078_.mp3 file was split successfuly\n",
      "79. The X:/Music/RightlyGuidedCalifate\\RGC079_.mp3 file was split successfuly\n",
      "80. The X:/Music/RightlyGuidedCalifate\\RGC080_.mp3 file was split successfuly\n",
      "81. The X:/Music/RightlyGuidedCalifate\\RGC081_.mp3 file was split successfuly\n",
      "82. The X:/Music/RightlyGuidedCalifate\\RGC082_.mp3 file was split successfuly\n",
      "83. The X:/Music/RightlyGuidedCalifate\\RGC083_.mp3 file was split successfuly\n",
      "84. The X:/Music/RightlyGuidedCalifate\\RGC084_.mp3 file was split successfuly\n",
      "85. The X:/Music/RightlyGuidedCalifate\\RGC085_.mp3 file was split successfuly\n",
      "86. The X:/Music/RightlyGuidedCalifate\\RGC086_.mp3 file was split successfuly\n",
      "87. The X:/Music/RightlyGuidedCalifate\\RGC087_.mp3 file was split successfuly\n",
      "88. The X:/Music/RightlyGuidedCalifate\\RGC088_.mp3 file was split successfuly\n",
      "89. The X:/Music/RightlyGuidedCalifate\\RGC089_.mp3 file was split successfuly\n",
      "90. The X:/Music/RightlyGuidedCalifate\\RGC090_.mp3 file was split successfuly\n",
      "91. The X:/Music/RightlyGuidedCalifate\\RGC091_.mp3 file was split successfuly\n",
      "92. The X:/Music/RightlyGuidedCalifate\\RGC092_.mp3 file was split successfuly\n",
      "93. The X:/Music/RightlyGuidedCalifate\\RGC093_.mp3 file was split successfuly\n",
      "94. The X:/Music/RightlyGuidedCalifate\\RGC094_.mp3 file was split successfuly\n",
      "95. The X:/Music/RightlyGuidedCalifate\\RGC095_.mp3 file was split successfuly\n",
      "96. The X:/Music/RightlyGuidedCalifate\\RGC096_.mp3 file was split successfuly\n",
      "97. The X:/Music/RightlyGuidedCalifate\\RGC097_.mp3 file was split successfuly\n",
      "98. The X:/Music/RightlyGuidedCalifate\\RGC098_.mp3 file was split successfuly\n",
      "99. The X:/Music/RightlyGuidedCalifate\\RGC099_.mp3 file was split successfuly\n",
      "100. The X:/Music/RightlyGuidedCalifate\\RGC100_.mp3 file was split successfuly\n",
      "101. The X:/Music/RightlyGuidedCalifate\\RGC101_.mp3 file was split successfuly\n",
      "102. The X:/Music/RightlyGuidedCalifate\\RGC102_.mp3 file was split successfuly\n",
      "103. The X:/Music/RightlyGuidedCalifate\\RGC103_.mp3 file was split successfuly\n",
      "104. The X:/Music/RightlyGuidedCalifate\\RGC104_.mp3 file was split successfuly\n",
      "105. The X:/Music/RightlyGuidedCalifate\\RGC105_.mp3 file was split successfuly\n",
      "106. The X:/Music/RightlyGuidedCalifate\\RGC106_.mp3 file was split successfuly\n",
      "107. The X:/Music/RightlyGuidedCalifate\\RGC107_.mp3 file was split successfuly\n",
      "108. The X:/Music/RightlyGuidedCalifate\\RGC108_.mp3 file was split successfuly\n",
      "109. The X:/Music/RightlyGuidedCalifate\\RGC109_.mp3 file was split successfuly\n",
      "110. The X:/Music/RightlyGuidedCalifate\\RGC110_.mp3 file was split successfuly\n",
      "111. The X:/Music/RightlyGuidedCalifate\\RGC111_.mp3 file was split successfuly\n",
      "112. The X:/Music/RightlyGuidedCalifate\\RGC112_.mp3 file was split successfuly\n"
     ]
    }
   ],
   "source": [
    "split_interval, min_duration, max_duration = 180, 30, 240\n",
    "source_folder = \"X:/Music/RightlyGuidedCalifate\"\n",
    "output_folder = os.path.join(source_folder, \"output\")\n",
    "for file_number in range(10, 113): #From 5 to 112\n",
    "    src = os.path.join(source_folder, f\"RGC{file_number:03d}_.mp3\")\n",
    "    result = os.path.join(get_output_folder(output_folder, file_number),\n",
    "                          f\"RGC{file_number:03d}_%d.mp3\")\n",
    "    print(file_number, end=\". \")\n",
    "    split_audio_file(src, result, split_interval, min_duration, max_duration)"
   ]
  },
  {
   "cell_type": "code",
   "execution_count": null,
   "id": "e9fc1a64",
   "metadata": {},
   "outputs": [],
   "source": []
  }
 ],
 "metadata": {
  "kernelspec": {
   "display_name": "Python 3 (ipykernel)",
   "language": "python",
   "name": "python3"
  },
  "language_info": {
   "codemirror_mode": {
    "name": "ipython",
    "version": 3
   },
   "file_extension": ".py",
   "mimetype": "text/x-python",
   "name": "python",
   "nbconvert_exporter": "python",
   "pygments_lexer": "ipython3",
   "version": "3.8.12"
  },
  "varInspector": {
   "cols": {
    "lenName": 16,
    "lenType": 16,
    "lenVar": 40
   },
   "kernels_config": {
    "python": {
     "delete_cmd_postfix": "",
     "delete_cmd_prefix": "del ",
     "library": "var_list.py",
     "varRefreshCmd": "print(var_dic_list())"
    },
    "r": {
     "delete_cmd_postfix": ") ",
     "delete_cmd_prefix": "rm(",
     "library": "var_list.r",
     "varRefreshCmd": "cat(var_dic_list()) "
    }
   },
   "types_to_exclude": [
    "module",
    "function",
    "builtin_function_or_method",
    "instance",
    "_Feature"
   ],
   "window_display": false
  }
 },
 "nbformat": 4,
 "nbformat_minor": 5
}
