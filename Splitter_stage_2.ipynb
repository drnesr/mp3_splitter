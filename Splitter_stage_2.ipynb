{
 "cells": [
  {
   "cell_type": "code",
   "execution_count": 1,
   "id": "acb008b8",
   "metadata": {
    "ExecuteTime": {
     "end_time": "2022-03-17T22:41:58.365168Z",
     "start_time": "2022-03-17T22:41:58.006192Z"
    }
   },
   "outputs": [],
   "source": [
    "# Imports\n",
    "import ffmpeg\n",
    "import os\n",
    "import subprocess\n",
    "import re\n",
    "import pandas as pd\n",
    "import numpy as np"
   ]
  },
  {
   "cell_type": "code",
   "execution_count": 2,
   "id": "cbc9dc9f",
   "metadata": {
    "ExecuteTime": {
     "end_time": "2022-03-17T22:41:58.380293Z",
     "start_time": "2022-03-17T22:41:58.366167Z"
    }
   },
   "outputs": [],
   "source": [
    "# Defining parameters\n",
    "source = \"TestFile.mp3\"\n",
    "output = \"OutFile.mp3\"\n",
    "check = \"TestFile2.mp3\"\n",
    "\n",
    "spd = 1.5  # output speed\n",
    "vol = 1.0  # volume rise ratio if any\n",
    "bit = 16  # BitRate: 16K\n",
    "frq = 24000  # sampling stream frequency\n",
    "\n",
    "split_interval = 60\n",
    "\n",
    "min_duration = 0.8 * split_interval\n",
    "max_duration = 2.5 * split_interval"
   ]
  },
  {
   "cell_type": "code",
   "execution_count": 3,
   "id": "105434ba",
   "metadata": {
    "ExecuteTime": {
     "end_time": "2022-03-17T22:41:58.395677Z",
     "start_time": "2022-03-17T22:41:58.382080Z"
    }
   },
   "outputs": [],
   "source": [
    "# ffmpeg commands and temporary parameters\n",
    "\n",
    "#Temporary parameters\n",
    "src, out = source, output\n",
    "\n",
    "# commands\n",
    "split_cmd = f\"ffmpeg -i {src} -af silencedetect=n=-30dB:d=0.25 -f null - \"\n",
    "stg1 = f'ffmpeg -i {src} -filter:a \"atempo={spd},volume={vol}\" -q:a 100 {out}'\n",
    "stg2 = f\"ffmpeg -i {src} -ac 1 -b:a {bit}k -ar {frq} -write_xing 0 {output}\""
   ]
  },
  {
   "cell_type": "markdown",
   "id": "c6ba5cb9",
   "metadata": {},
   "source": [
    "**Finding silence and intervals, from this post**\n",
    "https://stackoverflow.com/questions/14590279/error-nameerror-name-subprocess-is-not-defined"
   ]
  },
  {
   "cell_type": "code",
   "execution_count": 4,
   "id": "6ea8f700",
   "metadata": {
    "ExecuteTime": {
     "end_time": "2022-03-17T22:41:58.945460Z",
     "start_time": "2022-03-17T22:41:58.396676Z"
    }
   },
   "outputs": [
    {
     "data": {
      "text/plain": [
       "b\"ffmpeg version 4.3.1 Copyright (c) 2000-2020 the FFmpeg developers\\r\\n  built with gcc 10.2.1 (GCC) 20200726\\r\\n  configuration: --disable-static --enable-shared --enable-gpl --enable-version3 --enable-sdl2 --enable-fontconfig --enable-gnutls --enable-iconv --enable-libass --enable-libdav1d --enable-libbluray --enable-libfreetype --enable-libmp3lame --enable-libopencore-amrnb --enable-libopencore-amrwb --enable-libopenjpeg --enable-libopus --enable-libshine --enable-libsnappy --enable-libsoxr --enable-libsrt --enable-libtheora --enable-libtwolame --enable-libvpx --enable-libwavpack --enable-libwebp --enable-libx264 --enable-libx265 --enable-libxml2 --enable-libzimg --enable-lzma --enable-zlib --enable-gmp --enable-libvidstab --enable-libvmaf --enable-libvorbis --enable-libvo-amrwbenc --enable-libmysofa --enable-libspeex --enable-libxvid --enable-libaom --enable-libgsm --enable-librav1e --disable-w32threads --enable-libmfx --enable-ffnvcodec --enable-cuda-llvm --enable-cuvid --enable-d3d11va --enable-nvenc --enable-nvdec --enable-dxva2 --enable-avisynth --enable-libopenmpt --enable-amf\\r\\n  libavutil      56. 51.100 / 56. 51.100\\r\\n  libavcodec     58. 91.100 / 58. 91.100\\r\\n  libavformat    58. 45.100 / 58. 45.100\\r\\n  libavdevice    58. 10.100 / 58. 10.100\\r\\n  libavfilter     7. 85.100 /  7. 85.100\\r\\n  libswscale      5.  7.100 /  5.  7.100\\r\\n  libswresample   3.  7.100 /  3.  7.100\\r\\n  libpostproc    55.  7.100 / 55.  7.100\\r\\nInput #0, mp3, from 'TestFile.mp3':\\r\\n  Metadata:\\r\\n    title           : TestFile_1/4\\r\\n  Duration: 00:07:20.50, start: 0.025057, bitrate: 128 kb/s\\r\\n    Stream #0:0: Audio: mp3, 44100 Hz, stereo, fltp, 128 kb/s\\r\\nStream mapping:\\r\\n  Stream #0:0 -> #0:0 (mp3 (mp3float) -> pcm_s16le (native))\\r\\nPress [q] to stop, [?] for help\\r\\nOutput #0, null, to 'pipe:':\\r\\n  Metadata:\\r\\n    title           : TestFile_1/4\\r\\n    encoder         : Lavf58.45.100\\r\\n    Stream #0:0: Audio: pcm_s16le, 44100 Hz, stereo, s16, 1411 kb/s\\r\\n    Metadata:\\r\\n      encoder         : Lavc58.91.100 pcm_s16le\\r\\n[silencedetect @ 00000229f41d6c00] silence_start: 14.1607\\r\\n[silencedetect @ 00000229f41d6c00] silence_end: 14.5508 | silence_duration: 0.390113\\r\\n[silencedetect @ 00000229f41d6c00] silence_start: 14.5509\\r\\n[silencedetect @ 00000229f41d6c00] silence_end: 14.8773 | silence_duration: 0.32644\\r\\n[silencedetect @ 00000229f41d6c00] silence_start: 53.0442\\r\\n[silencedetect @ 00000229f41d6c00] silence_end: 53.3589 | silence_duration: 0.314671\\r\\n[silencedetect @ 00000229f41d6c00] silence_start: 67.8339\\r\\n[silencedetect @ 00000229f41d6c00] silence_end: 68.1681 | silence_duration: 0.334218\\r\\n[silencedetect @ 00000229f41d6c00] silence_start: 114.954\\r\\n[silencedetect @ 00000229f41d6c00] silence_end: 115.233 | silence_duration: 0.279206\\r\\n[silencedetect @ 00000229f41d6c00] silence_start: 131.051\\r\\n[silencedetect @ 00000229f41d6c00] silence_end: 131.385 | silence_duration: 0.333991\\r\\n[silencedetect @ 00000229f41d6c00] silence_start: 143.995\\r\\n[silencedetect @ 00000229f41d6c00] silence_end: 144.25 | silence_duration: 0.255125\\r\\n[silencedetect @ 00000229f41d6c00] silence_start: 168.528\\r\\n[silencedetect @ 00000229f41d6c00] silence_end: 168.838 | silence_duration: 0.30966\\r\\n[silencedetect @ 00000229f41d6c00] silence_start: 174.488\\r\\n[silencedetect @ 00000229f41d6c00] silence_end: 174.809 | silence_duration: 0.321088\\r\\n[silencedetect @ 00000229f41d6c00] silence_start: 186.484\\r\\n[silencedetect @ 00000229f41d6c00] silence_end: 186.759 | silence_duration: 0.274921\\r\\n[silencedetect @ 00000229f41d6c00] silence_start: 246.877\\r\\n[silencedetect @ 00000229f41d6c00] silence_end: 247.2 | silence_duration: 0.322494\\r\\n[silencedetect @ 00000229f41d6c00] silence_start: 354.82\\r\\n[silencedetect @ 00000229f41d6c00] silence_end: 355.123 | silence_duration: 0.302766\\r\\n[silencedetect @ 00000229f41d6c00] silence_start: 381.662\\r\\n[silencedetect @ 00000229f41d6c00] silence_end: 382.15 | silence_duration: 0.487982\\r\\n[silencedetect @ 00000229f41d6c00] silence_start: 387.647\\r\\n[silencedetect @ 00000229f41d6c00] silence_end: 387.954 | silence_duration: 0.307256\\r\\n[silencedetect @ 00000229f41d6c00] silence_start: 391.426\\r\\n[silencedetect @ 00000229f41d6c00] silence_end: 391.968 | silence_duration: 0.541338\\r\\n[silencedetect @ 00000229f41d6c00] silence_start: 411.457\\r\\n[silencedetect @ 00000229f41d6c00] silence_end: 411.745 | silence_duration: 0.287506\\r\\n[silencedetect @ 00000229f41d6c00] silence_start: 413.169\\r\\n[silencedetect @ 00000229f41d6c00] silence_end: 413.475 | silence_duration: 0.305624\\r\\n[silencedetect @ 00000229f41d6c00] silence_start: 414.698\\r\\n[silencedetect @ 00000229f41d6c00] silence_end: 415.037 | silence_duration: 0.338889\\r\\n[silencedetect @ 00000229f41d6c00] silence_start: 415.894\\r\\n[silencedetect @ 00000229f41d6c00] silence_end: 416.155 | silence_duration: 0.260975\\r\\n[silencedetect @ 00000229f41d6c00] silence_start: 417.332\\r\\n[silencedetect @ 00000229f41d6c00] silence_end: 417.977 | silence_duration: 0.644603\\r\\n[silencedetect @ 00000229f41d6c00] silence_start: 421.379\\r\\n[silencedetect @ 00000229f41d6c00] silence_end: 421.786 | silence_duration: 0.406893\\r\\n[silencedetect @ 00000229f41d6c00] silence_start: 424.438\\r\\n[silencedetect @ 00000229f41d6c00] silence_end: 424.878 | silence_duration: 0.439841\\r\\n[silencedetect @ 00000229f41d6c00] silence_start: 439.395\\r\\n[silencedetect @ 00000229f41d6c00] silence_end: 439.699 | silence_duration: 0.304059\\r\\nsize=N/A time=00:07:20.47 bitrate=N/A speed= 930x    \\r\\nvideo:0kB audio:75879kB subtitle:0kB other streams:0kB global headers:0kB muxing overhead: unknown\\r\\n\""
      ]
     },
     "execution_count": 4,
     "metadata": {},
     "output_type": "execute_result"
    }
   ],
   "source": [
    "out = subprocess.Popen(split_cmd,\n",
    "                       stdout=subprocess.PIPE,\n",
    "                       stderr=subprocess.STDOUT)\n",
    "stdout, stderr = out.communicate()\n",
    "stdout"
   ]
  },
  {
   "cell_type": "markdown",
   "id": "35dc5f0c",
   "metadata": {},
   "source": [
    "**Finding silence values using RegeX**\n"
   ]
  },
  {
   "cell_type": "code",
   "execution_count": 8,
   "id": "183ef87d",
   "metadata": {
    "ExecuteTime": {
     "end_time": "2022-03-17T22:48:06.869136Z",
     "start_time": "2022-03-17T22:48:06.851184Z"
    }
   },
   "outputs": [
    {
     "data": {
      "text/plain": [
       "[(14.1607, 14.5508, 0.390113),\n",
       " (14.5509, 14.8773, 0.32644),\n",
       " (53.0442, 53.3589, 0.314671),\n",
       " (67.8339, 68.1681, 0.334218),\n",
       " (114.954, 115.233, 0.279206),\n",
       " (131.051, 131.385, 0.333991),\n",
       " (143.995, 144.25, 0.255125),\n",
       " (168.528, 168.838, 0.30966),\n",
       " (174.488, 174.809, 0.321088),\n",
       " (186.484, 186.759, 0.274921),\n",
       " (246.877, 247.2, 0.322494),\n",
       " (354.82, 355.123, 0.302766),\n",
       " (381.662, 382.15, 0.487982),\n",
       " (387.647, 387.954, 0.307256),\n",
       " (391.426, 391.968, 0.541338),\n",
       " (411.457, 411.745, 0.287506),\n",
       " (413.169, 413.475, 0.305624),\n",
       " (414.698, 415.037, 0.338889),\n",
       " (415.894, 416.155, 0.260975),\n",
       " (417.332, 417.977, 0.644603),\n",
       " (421.379, 421.786, 0.406893),\n",
       " (424.438, 424.878, 0.439841),\n",
       " (439.395, 439.699, 0.304059)]"
      ]
     },
     "execution_count": 8,
     "metadata": {},
     "output_type": "execute_result"
    }
   ],
   "source": [
    "str_out = str(stdout)\n",
    "# FInding all and converting to float in one step\n",
    "s_start = map(float, re.findall(r'silence_start: (\\d+.\\d+)', str_out))\n",
    "s_end = map(float, re.findall(r'silence_end: (\\d+.\\d+)', str_out))\n",
    "s_duration = map(float, re.findall(r'silence_duration: (\\d+.\\d+)', str_out))\n",
    "\n",
    "# zipping all together\n",
    "results = list(zip(s_start, s_end, s_duration))\n",
    "results"
   ]
  },
  {
   "cell_type": "markdown",
   "id": "34875ee8",
   "metadata": {},
   "source": [
    "## Splitting\n",
    "The file `TestFile.mp3` duration is 7:21. (441 seconds)\n",
    "\n",
    "Consider splitting the file every 60 seconds, \n",
    "\n",
    "i.e. @60, 120, 180, 240, 300, 360, 420 seconds\n",
    "\n",
    "If the remaining portion is less than 30 seconds, then it should be merged to the last portion.\n",
    "\n",
    "***We need to import pandas to deal with the table faster***"
   ]
  },
  {
   "cell_type": "code",
   "execution_count": 9,
   "id": "5159c1f7",
   "metadata": {
    "ExecuteTime": {
     "end_time": "2022-03-17T22:48:09.460018Z",
     "start_time": "2022-03-17T22:48:09.450019Z"
    }
   },
   "outputs": [
    {
     "data": {
      "text/html": [
       "<div>\n",
       "<style scoped>\n",
       "    .dataframe tbody tr th:only-of-type {\n",
       "        vertical-align: middle;\n",
       "    }\n",
       "\n",
       "    .dataframe tbody tr th {\n",
       "        vertical-align: top;\n",
       "    }\n",
       "\n",
       "    .dataframe thead th {\n",
       "        text-align: right;\n",
       "    }\n",
       "</style>\n",
       "<table border=\"1\" class=\"dataframe\">\n",
       "  <thead>\n",
       "    <tr style=\"text-align: right;\">\n",
       "      <th></th>\n",
       "      <th>silence_start</th>\n",
       "      <th>silence_end</th>\n",
       "      <th>silence_duration</th>\n",
       "    </tr>\n",
       "  </thead>\n",
       "  <tbody>\n",
       "    <tr>\n",
       "      <th>0</th>\n",
       "      <td>14.1607</td>\n",
       "      <td>14.5508</td>\n",
       "      <td>0.390113</td>\n",
       "    </tr>\n",
       "    <tr>\n",
       "      <th>1</th>\n",
       "      <td>14.5509</td>\n",
       "      <td>14.8773</td>\n",
       "      <td>0.326440</td>\n",
       "    </tr>\n",
       "    <tr>\n",
       "      <th>2</th>\n",
       "      <td>53.0442</td>\n",
       "      <td>53.3589</td>\n",
       "      <td>0.314671</td>\n",
       "    </tr>\n",
       "  </tbody>\n",
       "</table>\n",
       "</div>"
      ],
      "text/plain": [
       "   silence_start  silence_end  silence_duration\n",
       "0        14.1607      14.5508          0.390113\n",
       "1        14.5509      14.8773          0.326440\n",
       "2        53.0442      53.3589          0.314671"
      ]
     },
     "execution_count": 9,
     "metadata": {},
     "output_type": "execute_result"
    }
   ],
   "source": [
    "results_df = pd.DataFrame(\n",
    "    results, columns=['silence_start', 'silence_end', 'silence_duration'])\n",
    "results_df.head(3)"
   ]
  },
  {
   "cell_type": "markdown",
   "id": "7b77a1d6",
   "metadata": {},
   "source": [
    "We need to split at the middle of the silence period,\n",
    " i.e., @ `silence_start + silence_duration / 2`"
   ]
  },
  {
   "cell_type": "code",
   "execution_count": 10,
   "id": "61409e50",
   "metadata": {
    "ExecuteTime": {
     "end_time": "2022-03-17T22:48:15.960839Z",
     "start_time": "2022-03-17T22:48:15.949868Z"
    }
   },
   "outputs": [
    {
     "data": {
      "text/html": [
       "<div>\n",
       "<style scoped>\n",
       "    .dataframe tbody tr th:only-of-type {\n",
       "        vertical-align: middle;\n",
       "    }\n",
       "\n",
       "    .dataframe tbody tr th {\n",
       "        vertical-align: top;\n",
       "    }\n",
       "\n",
       "    .dataframe thead th {\n",
       "        text-align: right;\n",
       "    }\n",
       "</style>\n",
       "<table border=\"1\" class=\"dataframe\">\n",
       "  <thead>\n",
       "    <tr style=\"text-align: right;\">\n",
       "      <th></th>\n",
       "      <th>silence_start</th>\n",
       "      <th>silence_end</th>\n",
       "      <th>silence_duration</th>\n",
       "      <th>silence_mid</th>\n",
       "    </tr>\n",
       "  </thead>\n",
       "  <tbody>\n",
       "    <tr>\n",
       "      <th>0</th>\n",
       "      <td>14.1607</td>\n",
       "      <td>14.5508</td>\n",
       "      <td>0.390113</td>\n",
       "      <td>14.355757</td>\n",
       "    </tr>\n",
       "    <tr>\n",
       "      <th>1</th>\n",
       "      <td>14.5509</td>\n",
       "      <td>14.8773</td>\n",
       "      <td>0.326440</td>\n",
       "      <td>14.714120</td>\n",
       "    </tr>\n",
       "    <tr>\n",
       "      <th>2</th>\n",
       "      <td>53.0442</td>\n",
       "      <td>53.3589</td>\n",
       "      <td>0.314671</td>\n",
       "      <td>53.201535</td>\n",
       "    </tr>\n",
       "  </tbody>\n",
       "</table>\n",
       "</div>"
      ],
      "text/plain": [
       "   silence_start  silence_end  silence_duration  silence_mid\n",
       "0        14.1607      14.5508          0.390113    14.355757\n",
       "1        14.5509      14.8773          0.326440    14.714120\n",
       "2        53.0442      53.3589          0.314671    53.201535"
      ]
     },
     "execution_count": 10,
     "metadata": {},
     "output_type": "execute_result"
    }
   ],
   "source": [
    "results_df[\n",
    "    'silence_mid'] = results_df.silence_start + results_df.silence_duration / 2\n",
    "\n",
    "results_df.head(3)"
   ]
  },
  {
   "cell_type": "markdown",
   "id": "3c9fe91e",
   "metadata": {},
   "source": [
    "Getting the file length\n",
    "From this post:\n",
    "    https://stackoverflow.com/a/64582429/5820024"
   ]
  },
  {
   "cell_type": "code",
   "execution_count": 11,
   "id": "62390fcf",
   "metadata": {
    "ExecuteTime": {
     "end_time": "2022-03-17T22:48:19.703457Z",
     "start_time": "2022-03-17T22:48:19.646371Z"
    }
   },
   "outputs": [
    {
     "data": {
      "text/plain": [
       "440.502857"
      ]
     },
     "execution_count": 11,
     "metadata": {},
     "output_type": "execute_result"
    }
   ],
   "source": [
    "end_time = float(ffmpeg.probe(src)['format']['duration'])\n",
    "end_time"
   ]
  },
  {
   "cell_type": "code",
   "execution_count": 12,
   "id": "761122bc",
   "metadata": {
    "ExecuteTime": {
     "end_time": "2022-03-17T22:48:21.610256Z",
     "start_time": "2022-03-17T22:48:21.600284Z"
    }
   },
   "outputs": [
    {
     "data": {
      "text/plain": [
       "array([ 60, 120, 180, 240, 300, 360, 420])"
      ]
     },
     "execution_count": 12,
     "metadata": {},
     "output_type": "execute_result"
    }
   ],
   "source": [
    "# Creating a split array\n",
    "split_arr = np.arange(split_interval, int(end_time), split_interval)\n",
    "split_arr"
   ]
  },
  {
   "cell_type": "markdown",
   "id": "a3148365",
   "metadata": {},
   "source": [
    "getting an array of `silence_mid`"
   ]
  },
  {
   "cell_type": "code",
   "execution_count": 13,
   "id": "d30045ef",
   "metadata": {
    "ExecuteTime": {
     "end_time": "2022-03-17T22:48:22.986859Z",
     "start_time": "2022-03-17T22:48:22.969903Z"
    }
   },
   "outputs": [
    {
     "data": {
      "text/plain": [
       "array([ 14.3557565,  14.71412  ,  53.2015355,  68.001009 , 115.093603 ,\n",
       "       131.2179955, 144.1225625, 168.68283  , 174.648544 , 186.6214605,\n",
       "       247.038247 , 354.971383 , 381.905991 , 387.800628 , 391.696669 ,\n",
       "       411.600753 , 413.321812 , 414.8674445, 416.0244875, 417.6543015,\n",
       "       421.5824465, 424.6579205, 439.5470295])"
      ]
     },
     "execution_count": 13,
     "metadata": {},
     "output_type": "execute_result"
    }
   ],
   "source": [
    "silence_mid = results_df.silence_mid.to_numpy()\n",
    "silence_mid"
   ]
  },
  {
   "cell_type": "code",
   "execution_count": 14,
   "id": "222a51e7",
   "metadata": {
    "ExecuteTime": {
     "end_time": "2022-03-17T22:48:24.338576Z",
     "start_time": "2022-03-17T22:48:24.327630Z"
    }
   },
   "outputs": [],
   "source": [
    "# adding a function to round values of a list\n",
    "def round_list_values(the_list, rounding=3):\n",
    "    return list(np.round(the_list, rounding))"
   ]
  },
  {
   "cell_type": "markdown",
   "id": "1ee642d2",
   "metadata": {},
   "source": [
    "Getting the nearest neighbor from the `silence_mid` to the `split_arr`\n",
    "\n",
    "We call this a `success_array`"
   ]
  },
  {
   "cell_type": "code",
   "execution_count": 17,
   "id": "18a1f8ce",
   "metadata": {
    "ExecuteTime": {
     "end_time": "2022-03-17T22:51:08.628184Z",
     "start_time": "2022-03-17T22:51:08.603250Z"
    }
   },
   "outputs": [
    {
     "data": {
      "text/plain": [
       "[53.202, 115.094, 174.649, 247.038, 354.971, 381.906, 421.582]"
      ]
     },
     "execution_count": 17,
     "metadata": {},
     "output_type": "execute_result"
    }
   ],
   "source": [
    "def get_success_array(silence_middle):\n",
    "    i = 0\n",
    "    success_array = []\n",
    "    for j, silence_time in enumerate(silence_middle):\n",
    "        if silence_time < split_arr[i]:\n",
    "            continue\n",
    "        else:\n",
    "            # compare which item is closer to our suggested split time\n",
    "            prev_silence = silence_middle[j - 1]\n",
    "            if silence_time - split_arr[i] > split_arr[i] - prev_silence:\n",
    "                if prev_silence not in success_array:\n",
    "                    success_array.append(prev_silence)\n",
    "                else:\n",
    "                    success_array.append(silence_time)\n",
    "            else:\n",
    "                success_array.append(silence_time)\n",
    "            # move to the next time in the split_arr\n",
    "            if i < len(split_arr) - 1:\n",
    "                i += 1\n",
    "            else:\n",
    "                break\n",
    "    return round_list_values(success_array)\n",
    "\n",
    "\n",
    "# Test\n",
    "success_array = get_success_array(silence_mid)\n",
    "success_array"
   ]
  },
  {
   "cell_type": "markdown",
   "id": "289696c7",
   "metadata": {},
   "source": [
    "Getting the difference between each two intervals, to get the lengths of split files\n",
    "1. add zero before the array\n",
    "1. add the lenght of the mp3 file after the array"
   ]
  },
  {
   "cell_type": "code",
   "execution_count": 18,
   "id": "79de6dc1",
   "metadata": {
    "ExecuteTime": {
     "end_time": "2022-03-17T22:51:14.767538Z",
     "start_time": "2022-03-17T22:51:14.761554Z"
    }
   },
   "outputs": [
    {
     "data": {
      "text/plain": [
       "[0, 53.202, 115.094, 174.649, 247.038, 354.971, 381.906, 421.582, 440.502857]"
      ]
     },
     "execution_count": 18,
     "metadata": {},
     "output_type": "execute_result"
    }
   ],
   "source": [
    "dur_array = [0] + success_array + [end_time]\n",
    "# dur_array= success_array+[end_time]\n",
    "dur_array"
   ]
  },
  {
   "cell_type": "code",
   "execution_count": 20,
   "id": "4135c68f",
   "metadata": {
    "ExecuteTime": {
     "end_time": "2022-03-17T22:51:42.754815Z",
     "start_time": "2022-03-17T22:51:42.749828Z"
    }
   },
   "outputs": [
    {
     "data": {
      "text/plain": [
       "[53.202, 61.892, 59.555, 72.389, 107.933, 26.935, 39.676, 18.921]"
      ]
     },
     "execution_count": 20,
     "metadata": {},
     "output_type": "execute_result"
    }
   ],
   "source": [
    "difference_array = round_list_values(np.diff(np.array(dur_array)))\n",
    "difference_array"
   ]
  },
  {
   "cell_type": "markdown",
   "id": "b21fa0a0",
   "metadata": {},
   "source": [
    "### Merging small parts\n",
    "Small part is considdered small if it is less than `x` seconds\n",
    "\n",
    "The small part should be merged to the next part, so that the sum does not exceeds `y` seconds"
   ]
  },
  {
   "cell_type": "code",
   "execution_count": 21,
   "id": "a623ef7c",
   "metadata": {
    "ExecuteTime": {
     "end_time": "2022-03-17T22:53:06.006944Z",
     "start_time": "2022-03-17T22:53:05.988965Z"
    }
   },
   "outputs": [],
   "source": [
    "def merge_small_durations(diff_arr, min_dur, max_dur, fwd=True):\n",
    "    dur_arr_mod = []\n",
    "    flag_raised = False  # the flag will be raised if we merges occur\n",
    "    for i, dur in enumerate(diff_arr):\n",
    "        if flag_raised:\n",
    "            flag_raised = False\n",
    "            continue\n",
    "        if (dur < min_dur) & (dur > 0):\n",
    "            # if dur < min_dur:\n",
    "            if i + 1 < len(diff_arr):\n",
    "                next_diff = diff_arr[i + 1]\n",
    "                if dur + next_diff < max_dur:\n",
    "                    if fwd: dur_arr_mod.append(0)\n",
    "                    dur_arr_mod.append(dur + next_diff)\n",
    "                    if not fwd: dur_arr_mod.append(0)\n",
    "                    flag_raised = True\n",
    "            else:\n",
    "                dur_arr_mod.append(dur)\n",
    "        else:\n",
    "            dur_arr_mod.append(dur)\n",
    "    return round_list_values(dur_arr_mod)"
   ]
  },
  {
   "cell_type": "code",
   "execution_count": 22,
   "id": "5081c147",
   "metadata": {
    "ExecuteTime": {
     "end_time": "2022-03-17T22:53:07.211223Z",
     "start_time": "2022-03-17T22:53:07.202247Z"
    }
   },
   "outputs": [
    {
     "name": "stdout",
     "output_type": "stream",
     "text": [
      "7 [53.202, 115.094, 174.649, 247.038, 354.971, 381.906, 421.582]\n",
      "9 [0, 53.202, 115.094, 174.649, 247.038, 354.971, 381.906, 421.582, 440.502857]\n",
      "8 [53.202, 61.892, 59.555, 72.389, 107.933, 26.935, 39.676, 18.921]\n",
      "8 [53.202, 61.892, 59.555, 72.389, 107.933, 0.0, 66.611, 18.921]\n",
      "8 [53.202, 61.892, 59.555, 72.389, 107.933, 0.0, 0.0, 85.532]\n"
     ]
    }
   ],
   "source": [
    "fwd_arr = merge_small_durations(difference_array, min_duration, max_duration)\n",
    "\n",
    "bwd_arr = merge_small_durations(fwd_arr[::-1],\n",
    "                                min_duration,\n",
    "                                max_duration,\n",
    "                                fwd=False)[::-1]\n",
    "\n",
    "# getting the modified success_array\n",
    "for ary in [success_array, dur_array, difference_array, fwd_arr, bwd_arr]:\n",
    "    print(len(ary), ary)\n"
   ]
  },
  {
   "cell_type": "code",
   "execution_count": 23,
   "id": "808fd5db",
   "metadata": {
    "ExecuteTime": {
     "end_time": "2022-03-17T22:53:13.959511Z",
     "start_time": "2022-03-17T22:53:13.948539Z"
    }
   },
   "outputs": [
    {
     "data": {
      "text/plain": [
       "[(53.202, 53.202, 53.202),\n",
       " (115.094, 61.892, 61.892),\n",
       " (174.649, 59.555, 59.555),\n",
       " (247.038, 72.389, 72.389),\n",
       " (354.971, 107.933, 107.933),\n",
       " (381.906, 26.935, 0.0),\n",
       " (421.582, 39.676, 0.0),\n",
       " (440.502857, 18.921, 85.532)]"
      ]
     },
     "execution_count": 23,
     "metadata": {},
     "output_type": "execute_result"
    }
   ],
   "source": [
    "# View results\n",
    "list(zip(dur_array[1:], difference_array, bwd_arr))"
   ]
  },
  {
   "cell_type": "markdown",
   "id": "1864d204",
   "metadata": {},
   "source": [
    "**Calculating final stops after merge**\n",
    "1. take elements equavalent to non zeros\n",
    "2. remove the last element (end of file timestamp)"
   ]
  },
  {
   "cell_type": "code",
   "execution_count": 24,
   "id": "4fdd480e",
   "metadata": {
    "ExecuteTime": {
     "end_time": "2022-03-17T22:53:18.068555Z",
     "start_time": "2022-03-17T22:53:18.054201Z"
    }
   },
   "outputs": [
    {
     "data": {
      "text/plain": [
       "[53.202, 115.094, 174.649, 247.038, 354.971]"
      ]
     },
     "execution_count": 24,
     "metadata": {},
     "output_type": "execute_result"
    }
   ],
   "source": [
    "# stage 1\n",
    "final_stops = [x for i, x in enumerate(dur_array[1:]) if bwd_arr[i] != 0]\n",
    "# stage 2\n",
    "final_stops = final_stops[:-1]\n",
    "final_stops"
   ]
  },
  {
   "cell_type": "markdown",
   "id": "9a44e42e",
   "metadata": {},
   "source": [
    "**The final durations**"
   ]
  },
  {
   "cell_type": "code",
   "execution_count": 25,
   "id": "ba37534b",
   "metadata": {
    "ExecuteTime": {
     "end_time": "2022-03-17T22:53:21.902016Z",
     "start_time": "2022-03-17T22:53:21.892011Z"
    }
   },
   "outputs": [
    {
     "data": {
      "text/plain": [
       "[53.202, 61.892, 59.555, 72.389, 107.933, 85.532]"
      ]
     },
     "execution_count": 25,
     "metadata": {},
     "output_type": "execute_result"
    }
   ],
   "source": [
    "final_durations = round_list_values(\n",
    "    np.diff(np.array([0] + final_stops + [end_time])))\n",
    "final_durations"
   ]
  },
  {
   "cell_type": "markdown",
   "id": "d68fa681",
   "metadata": {},
   "source": [
    "## Executing The splitting process\n",
    "I found the **ffmpeg code** in this post:<br>\n",
    "https://unix.stackexchange.com/a/545955/406518<br>\n",
    "and found **how to execute ffmpeg commands via python** in this post:<br>\n",
    "https://stackoverflow.com/a/42438502/5820024"
   ]
  },
  {
   "cell_type": "code",
   "execution_count": 52,
   "id": "89a87253",
   "metadata": {
    "ExecuteTime": {
     "end_time": "2022-03-18T00:24:49.745089Z",
     "start_time": "2022-03-18T00:24:49.734088Z"
    }
   },
   "outputs": [],
   "source": [
    "# split_cmd = f\"ffmpeg -i {src} -af silencedetect=n=-30dB:d=0.25 -f null - \"\n",
    "# ffmpeg -i input.mp3 -vn -c copy -f segment -segment_times 0,8,22 output%d.mp3\n",
    "slice_cmd = f\"ffmpeg -i {src} -vn -c copy -f segment -segment_times 53,115,174,247,354 Outputs/output%d.mp3\"\n"
   ]
  },
  {
   "cell_type": "code",
   "execution_count": 53,
   "id": "10e26285",
   "metadata": {
    "ExecuteTime": {
     "end_time": "2022-03-18T00:24:52.366664Z",
     "start_time": "2022-03-18T00:24:52.192382Z"
    }
   },
   "outputs": [
    {
     "data": {
      "text/plain": [
       "0"
      ]
     },
     "execution_count": 53,
     "metadata": {},
     "output_type": "execute_result"
    }
   ],
   "source": [
    "os.system(slice_cmd)"
   ]
  },
  {
   "cell_type": "markdown",
   "id": "bf794e23",
   "metadata": {},
   "source": [
    "**SUCCESS!**\n",
    "\n",
    "Trying to put the list values automatically"
   ]
  },
  {
   "cell_type": "code",
   "execution_count": 48,
   "id": "3e8d8d9e",
   "metadata": {
    "ExecuteTime": {
     "end_time": "2022-03-18T00:24:04.765091Z",
     "start_time": "2022-03-18T00:24:04.759134Z"
    }
   },
   "outputs": [
    {
     "data": {
      "text/plain": [
       "'ffmpeg -i TestFile.mp3 -vn -c copy -f segment -segment_times 53.202, 115.094, 174.649, 247.038, 354.971 Outputs/output%d.mp3'"
      ]
     },
     "execution_count": 48,
     "metadata": {},
     "output_type": "execute_result"
    }
   ],
   "source": [
    "out_times = \", \".join(str(e) for e in final_stops)\n",
    "slice_cmd = f\"ffmpeg -i {src} -vn -c copy -f segment -segment_times \"\n",
    "slice_cmd += f\"{out_times} Outputs/output%d.mp3\"\n",
    "slice_cmd"
   ]
  },
  {
   "cell_type": "code",
   "execution_count": 51,
   "id": "7edfd8d9",
   "metadata": {
    "ExecuteTime": {
     "end_time": "2022-03-18T00:24:09.241850Z",
     "start_time": "2022-03-18T00:24:09.144036Z"
    }
   },
   "outputs": [
    {
     "data": {
      "text/plain": [
       "1"
      ]
     },
     "execution_count": 51,
     "metadata": {},
     "output_type": "execute_result"
    }
   ],
   "source": [
    "os.system(slice_cmd)"
   ]
  },
  {
   "cell_type": "code",
   "execution_count": 55,
   "id": "3e0c30e2",
   "metadata": {
    "ExecuteTime": {
     "end_time": "2022-03-18T00:26:25.469538Z",
     "start_time": "2022-03-18T00:26:25.290121Z"
    }
   },
   "outputs": [
    {
     "data": {
      "text/plain": [
       "0"
      ]
     },
     "execution_count": 55,
     "metadata": {},
     "output_type": "execute_result"
    }
   ],
   "source": [
    "slice_cmd = f\"ffmpeg -i {src} -vn -c copy -f segment -segment_times 53.2,115.1,174.6,247.0,354.9 Outputs/output%d.mp3\"\n",
    "os.system(slice_cmd)"
   ]
  },
  {
   "cell_type": "markdown",
   "id": "cd033acc",
   "metadata": {
    "ExecuteTime": {
     "end_time": "2022-03-18T00:24:08.697608Z",
     "start_time": "2022-03-18T00:24:08.681659Z"
    }
   },
   "source": [
    "**I realized that the times should not be separated by spaces**"
   ]
  },
  {
   "cell_type": "code",
   "execution_count": 59,
   "id": "c7ffaa79",
   "metadata": {
    "ExecuteTime": {
     "end_time": "2022-03-18T00:30:22.796667Z",
     "start_time": "2022-03-18T00:30:22.615380Z"
    }
   },
   "outputs": [
    {
     "data": {
      "text/plain": [
       "0"
      ]
     },
     "execution_count": 59,
     "metadata": {},
     "output_type": "execute_result"
    }
   ],
   "source": [
    "out_times = \",\".join(str(e) for e in final_stops)\n",
    "slice_cmd = f\"ffmpeg -i {src} -vn -c copy -f segment -segment_times \"\n",
    "slice_cmd += f\"{out_times} Outputs/output%d.mp3\"\n",
    "os.system(slice_cmd)"
   ]
  },
  {
   "cell_type": "code",
   "execution_count": null,
   "id": "1ef03809",
   "metadata": {},
   "outputs": [],
   "source": []
  }
 ],
 "metadata": {
  "kernelspec": {
   "display_name": "Python 3 (ipykernel)",
   "language": "python",
   "name": "python3"
  },
  "language_info": {
   "codemirror_mode": {
    "name": "ipython",
    "version": 3
   },
   "file_extension": ".py",
   "mimetype": "text/x-python",
   "name": "python",
   "nbconvert_exporter": "python",
   "pygments_lexer": "ipython3",
   "version": "3.8.12"
  },
  "varInspector": {
   "cols": {
    "lenName": 16,
    "lenType": 16,
    "lenVar": 40
   },
   "kernels_config": {
    "python": {
     "delete_cmd_postfix": "",
     "delete_cmd_prefix": "del ",
     "library": "var_list.py",
     "varRefreshCmd": "print(var_dic_list())"
    },
    "r": {
     "delete_cmd_postfix": ") ",
     "delete_cmd_prefix": "rm(",
     "library": "var_list.r",
     "varRefreshCmd": "cat(var_dic_list()) "
    }
   },
   "types_to_exclude": [
    "module",
    "function",
    "builtin_function_or_method",
    "instance",
    "_Feature"
   ],
   "window_display": false
  }
 },
 "nbformat": 4,
 "nbformat_minor": 5
}
