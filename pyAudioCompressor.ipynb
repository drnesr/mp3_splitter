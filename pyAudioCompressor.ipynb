{
 "cells": [
  {
   "cell_type": "code",
   "execution_count": 4,
   "id": "cb1d50fd",
   "metadata": {
    "ExecuteTime": {
     "end_time": "2022-04-01T00:38:19.836386Z",
     "start_time": "2022-04-01T00:38:19.824419Z"
    }
   },
   "outputs": [],
   "source": [
    "# Imports\n",
    "import ffmpeg\n",
    "import os\n",
    "import subprocess\n",
    "import re\n",
    "import pandas as pd\n",
    "import numpy as np\n",
    "from mutagen.easyid3 import EasyID3\n",
    "import shlex"
   ]
  },
  {
   "cell_type": "code",
   "execution_count": 10,
   "id": "41680785",
   "metadata": {
    "ExecuteTime": {
     "end_time": "2022-04-01T00:42:19.411592Z",
     "start_time": "2022-04-01T00:42:19.404610Z"
    }
   },
   "outputs": [],
   "source": [
    "source = \"TestFile.mp3\"\n",
    "output = \"Outputs/OutFile.mp3\"\n",
    "check = \"TestFile2.mp3\""
   ]
  },
  {
   "cell_type": "code",
   "execution_count": 18,
   "id": "f1c3771d",
   "metadata": {
    "ExecuteTime": {
     "end_time": "2022-04-01T00:50:07.580761Z",
     "start_time": "2022-04-01T00:50:07.566824Z"
    }
   },
   "outputs": [],
   "source": [
    "spd = 1.35 # output speed\n",
    "vol = 1.03 # volume rise ratio if any\n",
    "bit = 16 # BitRate: 16K\n",
    "frq = 24000 # sampling stream frequency\n",
    "\n",
    "#Temporary parameters\n",
    "src, out = source, output\n",
    "# commands\n",
    "stg1 = f'ffmpeg -i {src} -filter:a \"atempo={spd},volume={vol}\" -q:a 100 {out}'\n",
    "stg2 = f\"ffmpeg -i {src} -ac 1 -b:a {bit}k -ar {frq} -write_xing 0 {out}\""
   ]
  },
  {
   "cell_type": "code",
   "execution_count": 19,
   "id": "62e3f61c",
   "metadata": {
    "ExecuteTime": {
     "end_time": "2022-04-01T00:50:10.161796Z",
     "start_time": "2022-04-01T00:50:10.146867Z"
    }
   },
   "outputs": [
    {
     "data": {
      "text/plain": [
       "'ffmpeg -i TestFile.mp3 -filter:a \"atempo=1.35,volume=1.03\" -q:a 100 Outputs/OutFile.mp3'"
      ]
     },
     "execution_count": 19,
     "metadata": {},
     "output_type": "execute_result"
    }
   ],
   "source": [
    "stg1"
   ]
  },
  {
   "cell_type": "code",
   "execution_count": 8,
   "id": "a37381e2",
   "metadata": {
    "ExecuteTime": {
     "end_time": "2022-04-01T00:39:46.814787Z",
     "start_time": "2022-04-01T00:39:46.808803Z"
    }
   },
   "outputs": [
    {
     "data": {
      "text/plain": [
       "['ffmpeg',\n",
       " '-i',\n",
       " 'TestFile.mp3',\n",
       " '-filter:a',\n",
       " 'atempo=1.5,volume=1.0',\n",
       " '-q:a',\n",
       " '100',\n",
       " 'OutFile.mp3']"
      ]
     },
     "execution_count": 8,
     "metadata": {},
     "output_type": "execute_result"
    }
   ],
   "source": [
    "cmnd = shlex.split(stg1)\n",
    "cmnd"
   ]
  },
  {
   "cell_type": "code",
   "execution_count": 9,
   "id": "6d3ef2f0",
   "metadata": {
    "ExecuteTime": {
     "end_time": "2022-04-01T00:40:26.517056Z",
     "start_time": "2022-04-01T00:40:26.507084Z"
    }
   },
   "outputs": [
    {
     "data": {
      "text/plain": [
       "['ffmpeg',\n",
       " '-i',\n",
       " 'TestFile.mp3',\n",
       " '-filter:a',\n",
       " '\"atempo=1.5,volume=1.0\"',\n",
       " '-q:a',\n",
       " '100',\n",
       " 'OutFile.mp3']"
      ]
     },
     "execution_count": 9,
     "metadata": {},
     "output_type": "execute_result"
    }
   ],
   "source": [
    "# See if they are different\n",
    "stg1.split(\" \")"
   ]
  },
  {
   "cell_type": "markdown",
   "id": "a69ac591",
   "metadata": {},
   "source": [
    "**Trying to execute `ffmpeg` commands from python**\n",
    "\n",
    "Here: https://stackoverflow.com/a/67998291/5820024"
   ]
  },
  {
   "cell_type": "code",
   "execution_count": 20,
   "id": "fb80206b",
   "metadata": {
    "ExecuteTime": {
     "end_time": "2022-04-01T00:50:21.907527Z",
     "start_time": "2022-04-01T00:50:19.794734Z"
    }
   },
   "outputs": [
    {
     "data": {
      "text/plain": [
       "0"
      ]
     },
     "execution_count": 20,
     "metadata": {},
     "output_type": "execute_result"
    }
   ],
   "source": [
    "#Stage 1\n",
    "src, out = source, output\n",
    "stg1 = f'ffmpeg -i {src} -filter:a \"atempo={spd},volume={vol}\" -q:a 100 {out}'\n",
    "subprocess.call(stg1, shell=True)"
   ]
  },
  {
   "cell_type": "code",
   "execution_count": 23,
   "id": "135f5993",
   "metadata": {
    "ExecuteTime": {
     "end_time": "2022-04-01T00:55:52.313609Z",
     "start_time": "2022-04-01T00:55:05.101932Z"
    }
   },
   "outputs": [
    {
     "data": {
      "text/plain": [
       "0"
      ]
     },
     "execution_count": 23,
     "metadata": {},
     "output_type": "execute_result"
    }
   ],
   "source": [
    "# Stage 2\n",
    "src, out = out, 'Outputs/OutFileStage2.mp3'\n",
    "stg2 = f\"ffmpeg -i {src} -ac 1 -b:a {bit}k -ar {frq} -write_xing 0 {out}\"\n",
    "\n",
    "subprocess.call(stg2, shell=True)"
   ]
  },
  {
   "cell_type": "code",
   "execution_count": 24,
   "id": "eaf926aa",
   "metadata": {
    "ExecuteTime": {
     "end_time": "2022-04-01T00:56:42.966224Z",
     "start_time": "2022-04-01T00:56:42.947284Z"
    }
   },
   "outputs": [
    {
     "data": {
      "text/plain": [
       "'ffmpeg -i Outputs/OutFile.mp3 -ac 1 -b:a 16k -ar 24000 -write_xing 0 Outputs/OutFileStage2.mp3'"
      ]
     },
     "execution_count": 24,
     "metadata": {},
     "output_type": "execute_result"
    }
   ],
   "source": [
    "stg2"
   ]
  },
  {
   "cell_type": "code",
   "execution_count": 27,
   "id": "3aa06c00",
   "metadata": {
    "ExecuteTime": {
     "end_time": "2022-04-01T01:00:00.657840Z",
     "start_time": "2022-04-01T01:00:00.649860Z"
    }
   },
   "outputs": [
    {
     "data": {
      "text/plain": [
       "True"
      ]
     },
     "execution_count": 27,
     "metadata": {},
     "output_type": "execute_result"
    }
   ],
   "source": [
    "\"ffmpeg -i Fast\\023_Al_Mu_Z_minun\\23AlMu_Z_minun13o14T7.9o9.3.mp3 -ac 1 -b:a 16k -ar 24000 -write_xing 0 Final\\023_Al_Mu_Z_minun\\23Nesr13o14T7.9o9.3.mp3\"\n",
    "\"ffmpeg -i Outputs/OutFile.mp3 -ac 1 -b:a 16k -ar 24000 -write_xing 0 Outputs/OutFileStage2.mp3\" ==stg2"
   ]
  },
  {
   "cell_type": "markdown",
   "id": "7c96da2f",
   "metadata": {},
   "source": [
    "Trying to find the best ffmpeg commands,\n",
    "\n",
    "from these posts:\n",
    "1. https://stackoverflow.com/a/12952172/5820024\n",
    "2. https://stackoverflow.com/a/39789131/5820024\n",
    "3. https://superuser.com/a/553049/724450\n",
    "4. https://superuser.com/a/704535/724450\n",
    "    "
   ]
  },
  {
   "cell_type": "code",
   "execution_count": 32,
   "id": "8a754568",
   "metadata": {
    "ExecuteTime": {
     "end_time": "2022-04-01T02:12:11.685386Z",
     "start_time": "2022-04-01T02:12:09.656159Z"
    }
   },
   "outputs": [
    {
     "name": "stdout",
     "output_type": "stream",
     "text": [
      "ffmpeg -y -i TestFile.mp3 -filter:a \"atempo=1.35,volume=0.95\" -vn -ar 44100 -ac 2 -b:a 16k -write_xing 0 Outputs/OutFileOneShot.mp3\n",
      "*Done*\n"
     ]
    }
   ],
   "source": [
    "src = source\n",
    "out = 'Outputs/OutFileOneShot.mp3'\n",
    "vol = 0.95\n",
    "ffmpeg_command = f'ffmpeg -y -i {src} -filter:a \"atempo={spd},volume={vol}\" '\n",
    "ffmpeg_command += f'-vn -ar 44100 -ac 2 -b:a 16k -write_xing 0 {out}'\n",
    "print(ffmpeg_command)\n",
    "performed = subprocess.call(ffmpeg_command, shell=True)\n",
    "if performed==0:\n",
    "    print(\"*Done*\")\n",
    "else:\n",
    "    print(\"failed :-\\(\")"
   ]
  },
  {
   "cell_type": "markdown",
   "id": "555e1cb0",
   "metadata": {},
   "source": [
    "**Applying the successful command to all files**\n",
    "\n",
    "Benefitted from:https://stackoverflow.com/a/30255302/5820024"
   ]
  },
  {
   "cell_type": "code",
   "execution_count": 34,
   "id": "61a754ed",
   "metadata": {
    "ExecuteTime": {
     "end_time": "2022-04-01T02:21:29.360043Z",
     "start_time": "2022-04-01T02:21:29.342091Z"
    }
   },
   "outputs": [
    {
     "name": "stdout",
     "output_type": "stream",
     "text": [
      "['Group_01', 'Group_02', 'Group_03', 'Group_04', 'Group_05', 'Group_06', 'Group_07', 'Group_08', 'Group_09', 'Group_10', 'Group_11', 'Group_12', 'Group_13', 'Group_14', 'Group_15', 'Group_16']\n"
     ]
    }
   ],
   "source": [
    "folder = \"X:/Music/RightlyGuidedCalifate/output/\"\n",
    "print(os.listdir(folder))"
   ]
  },
  {
   "cell_type": "code",
   "execution_count": 49,
   "id": "d48ef9bb",
   "metadata": {
    "ExecuteTime": {
     "end_time": "2022-04-01T02:34:28.813727Z",
     "start_time": "2022-04-01T02:34:28.806746Z"
    }
   },
   "outputs": [
    {
     "data": {
      "text/plain": [
       "'X:Music\\\\RightlyGuidedCalifate\\\\output\\\\Group_01'"
      ]
     },
     "execution_count": 49,
     "metadata": {},
     "output_type": "execute_result"
    }
   ],
   "source": [
    "# add the star to decompress the list\n",
    "os.path.join(*['X:', 'Music', 'RightlyGuidedCalifate', 'output', 'Group_01'])"
   ]
  },
  {
   "cell_type": "code",
   "execution_count": 61,
   "id": "9f0a41c5",
   "metadata": {
    "ExecuteTime": {
     "end_time": "2022-04-01T03:16:27.957836Z",
     "start_time": "2022-04-01T02:53:53.644000Z"
    }
   },
   "outputs": [
    {
     "name": "stdout",
     "output_type": "stream",
     "text": [
      "1 RGC001_0.mp3 >>> *Done* ~2 RGC001_1.mp3 >>> *Done* ~3 RGC001_2.mp3 >>> *Done* ~4 RGC001_3.mp3 >>> *Done* ~5 RGC001_4.mp3 >>> *Done* ~6 RGC001_5.mp3 >>> *Done* ~7 RGC001_6.mp3 >>> *Done* ~8 RGC001_7.mp3 >>> *Done* ~9 RGC001_8.mp3 >>> *Done* ~10 RGC001_9.mp3 >>> *Done* ~11 RGC002_0.mp3 >>> *Done* ~12 RGC002_1.mp3 >>> *Done* ~13 RGC002_2.mp3 >>> *Done* ~14 RGC002_3.mp3 >>> *Done* ~15 RGC002_4.mp3 >>> *Done* ~16 RGC002_5.mp3 >>> *Done* ~17 RGC002_6.mp3 >>> *Done* ~18 RGC002_7.mp3 >>> *Done* ~19 RGC002_8.mp3 >>> *Done* ~20 RGC003_0.mp3 >>> *Done* ~21 RGC003_1.mp3 >>> *Done* ~22 RGC003_2.mp3 >>> *Done* ~23 RGC003_3.mp3 >>> *Done* ~24 RGC003_4.mp3 >>> *Done* ~25 RGC003_5.mp3 >>> *Done* ~26 RGC003_6.mp3 >>> *Done* ~27 RGC003_7.mp3 >>> *Done* ~28 RGC003_8.mp3 >>> *Done* ~29 RGC003_9.mp3 >>> *Done* ~30 RGC004_0.mp3 >>> *Done* ~31 RGC004_1.mp3 >>> *Done* ~32 RGC004_2.mp3 >>> *Done* ~33 RGC004_3.mp3 >>> *Done* ~34 RGC004_4.mp3 >>> *Done* ~35 RGC004_5.mp3 >>> *Done* ~36 RGC004_6.mp3 >>> *Done* ~37 RGC004_7.mp3 >>> *Done* ~38 RGC004_8.mp3 >>> *Done* ~39 RGC004_9.mp3 >>> *Done* ~40 RGC005_0.mp3 >>> *Done* ~41 RGC005_1.mp3 >>> *Done* ~42 RGC005_2.mp3 >>> *Done* ~43 RGC005_3.mp3 >>> *Done* ~44 RGC005_4.mp3 >>> *Done* ~45 RGC005_5.mp3 >>> *Done* ~46 RGC005_6.mp3 >>> *Done* ~47 RGC005_7.mp3 >>> *Done* ~48 RGC005_8.mp3 >>> *Done* ~49 RGC005_9.mp3 >>> *Done* ~50 RGC006_0.mp3 >>> *Done* ~51 RGC006_1.mp3 >>> *Done* ~52 RGC006_2.mp3 >>> *Done* ~53 RGC006_3.mp3 >>> *Done* ~54 RGC006_4.mp3 >>> *Done* ~55 RGC006_5.mp3 >>> *Done* ~56 RGC006_6.mp3 >>> *Done* ~57 RGC006_7.mp3 >>> *Done* ~58 RGC006_8.mp3 >>> *Done* ~59 RGC006_9.mp3 >>> *Done* ~60 RGC007_0.mp3 >>> *Done* ~61 RGC007_1.mp3 >>> *Done* ~62 RGC007_2.mp3 >>> *Done* ~63 RGC007_3.mp3 >>> *Done* ~64 RGC007_4.mp3 >>> *Done* ~65 RGC007_5.mp3 >>> *Done* ~66 RGC007_6.mp3 >>> *Done* ~67 RGC007_7.mp3 >>> *Done* ~68 RGC007_8.mp3 >>> *Done* ~69 RGC007_9.mp3 >>> *Done* ~70 RGC008_0.mp3 >>> *Done* ~71 RGC008_1.mp3 >>> *Done* ~72 RGC008_10.mp3 >>> *Done* ~73 RGC008_2.mp3 >>> *Done* ~74 RGC008_3.mp3 >>> *Done* ~75 RGC008_4.mp3 >>> *Done* ~76 RGC008_5.mp3 >>> *Done* ~77 RGC008_6.mp3 >>> *Done* ~78 RGC008_7.mp3 >>> *Done* ~79 RGC008_8.mp3 >>> *Done* ~80 RGC008_9.mp3 >>> *Done* ~81 RGC009_0.mp3 >>> *Done* ~82 RGC009_1.mp3 >>> *Done* ~83 RGC009_2.mp3 >>> *Done* ~84 RGC009_3.mp3 >>> *Done* ~85 RGC009_4.mp3 >>> *Done* ~86 RGC009_5.mp3 >>> *Done* ~87 RGC009_6.mp3 >>> *Done* ~88 RGC009_7.mp3 >>> *Done* ~89 RGC009_8.mp3 >>> *Done* ~90 RGC009_9.mp3 >>> *Done* ~91 RGC010_0.mp3 >>> *Done* ~92 RGC010_1.mp3 >>> *Done* ~93 RGC010_2.mp3 >>> *Done* ~94 RGC010_3.mp3 >>> *Done* ~95 RGC010_4.mp3 >>> *Done* ~96 RGC010_5.mp3 >>> *Done* ~97 RGC010_6.mp3 >>> *Done* ~98 RGC010_7.mp3 >>> *Done* ~99 RGC010_8.mp3 >>> *Done* ~100 RGC010_9.mp3 >>> *Done* ~101 RGC011_0.mp3 >>> *Done* ~102 RGC011_1.mp3 >>> *Done* ~103 RGC011_2.mp3 >>> *Done* ~104 RGC011_3.mp3 >>> *Done* ~105 RGC011_4.mp3 >>> *Done* ~106 RGC011_5.mp3 >>> *Done* ~107 RGC011_6.mp3 >>> *Done* ~108 RGC011_7.mp3 >>> *Done* ~109 RGC011_8.mp3 >>> *Done* ~110 RGC011_9.mp3 >>> *Done* ~111 RGC012_0.mp3 >>> *Done* ~112 RGC012_1.mp3 >>> *Done* ~113 RGC012_2.mp3 >>> *Done* ~114 RGC012_3.mp3 >>> *Done* ~115 RGC012_4.mp3 >>> *Done* ~116 RGC012_5.mp3 >>> *Done* ~117 RGC012_6.mp3 >>> *Done* ~118 RGC012_7.mp3 >>> *Done* ~119 RGC012_8.mp3 >>> *Done* ~120 RGC012_9.mp3 >>> *Done* ~121 RGC013_0.mp3 >>> *Done* ~122 RGC013_1.mp3 >>> *Done* ~123 RGC013_2.mp3 >>> *Done* ~124 RGC013_3.mp3 >>> *Done* ~125 RGC013_4.mp3 >>> *Done* ~126 RGC013_5.mp3 >>> *Done* ~127 RGC013_6.mp3 >>> *Done* ~128 RGC013_7.mp3 >>> *Done* ~129 RGC013_8.mp3 >>> *Done* ~130 RGC013_9.mp3 >>> *Done* ~131 RGC014_0.mp3 >>> *Done* ~132 RGC014_1.mp3 >>> *Done* ~133 RGC014_2.mp3 >>> *Done* ~134 RGC014_3.mp3 >>> *Done* ~135 RGC014_4.mp3 >>> *Done* ~136 RGC014_5.mp3 >>> *Done* ~137 RGC014_6.mp3 >>> *Done* ~138 RGC014_7.mp3 >>> *Done* ~139 RGC014_8.mp3 >>> *Done* ~140 RGC014_9.mp3 >>> *Done* ~141 RGC015_0.mp3 >>> *Done* ~142 RGC015_1.mp3 >>> *Done* ~143 RGC015_2.mp3 >>> *Done* ~144 RGC015_3.mp3 >>> *Done* ~145 RGC015_4.mp3 >>> *Done* ~146 RGC015_5.mp3 >>> *Done* ~147 RGC015_6.mp3 >>> *Done* ~148 RGC015_7.mp3 >>> *Done* ~149 RGC015_8.mp3 >>> *Done* ~150 RGC015_9.mp3 >>> *Done* ~151 RGC016_0.mp3 >>> *Done* ~152 RGC016_1.mp3 >>> *Done* ~153 RGC016_2.mp3 >>> *Done* ~154 RGC016_3.mp3 >>> *Done* ~155 RGC016_4.mp3 >>> *Done* ~156 RGC016_5.mp3 >>> *Done* ~157 RGC016_6.mp3 >>> *Done* ~158 RGC016_7.mp3 >>> *Done* ~159 RGC016_8.mp3 >>> *Done* ~160 RGC016_9.mp3 >>> *Done* ~161 RGC017_0.mp3 >>> *Done* ~162 RGC017_1.mp3 >>> *Done* ~163 RGC017_2.mp3 >>> *Done* ~164 RGC017_3.mp3 >>> *Done* ~165 RGC017_4.mp3 >>> *Done* ~166 RGC017_5.mp3 >>> *Done* ~167 RGC017_6.mp3 >>> *Done* ~168 RGC017_7.mp3 >>> *Done* ~169 RGC017_8.mp3 >>> *Done* ~170 RGC018_0.mp3 >>> *Done* ~171 RGC018_1.mp3 >>> *Done* ~172 RGC018_2.mp3 >>> *Done* ~173 RGC018_3.mp3 >>> *Done* ~174 RGC018_4.mp3 >>> *Done* ~175 RGC018_5.mp3 >>> *Done* ~176 RGC018_6.mp3 >>> *Done* ~177 RGC018_7.mp3 >>> *Done* ~178 RGC018_8.mp3 >>> *Done* ~179 RGC018_9.mp3 >>> *Done* ~180 RGC019_0.mp3 >>> *Done* ~181 RGC019_1.mp3 >>> *Done* ~182 RGC019_2.mp3 >>> *Done* ~183 RGC019_3.mp3 >>> *Done* ~184 RGC019_4.mp3 >>> *Done* ~185 RGC019_5.mp3 >>> *Done* ~186 RGC019_6.mp3 >>> *Done* ~187 RGC019_7.mp3 >>> *Done* ~188 RGC019_8.mp3 >>> *Done* ~189 RGC019_9.mp3 >>> *Done* ~190 RGC020_0.mp3 >>> *Done* ~191 RGC020_1.mp3 >>> *Done* ~192 RGC020_2.mp3 >>> *Done* ~193 RGC020_3.mp3 >>> *Done* ~194 RGC020_4.mp3 >>> *Done* ~195 RGC020_5.mp3 >>> *Done* ~196 RGC020_6.mp3 >>> *Done* ~197 RGC020_7.mp3 >>> *Done* ~198 RGC020_8.mp3 >>> *Done* ~199 RGC020_9.mp3 >>> *Done* ~200 RGC021_0.mp3 >>> *Done* ~201 RGC021_1.mp3 >>> *Done* ~202 RGC021_2.mp3 >>> *Done* ~203 RGC021_3.mp3 >>> *Done* ~204 RGC021_4.mp3 >>> *Done* ~205 RGC021_5.mp3 >>> *Done* ~206 RGC021_6.mp3 >>> *Done* ~207 RGC021_7.mp3 >>> *Done* ~208 RGC021_8.mp3 >>> *Done* ~209 RGC021_9.mp3 >>> *Done* ~210 RGC022_0.mp3 >>> *Done* ~211 RGC022_1.mp3 >>> *Done* ~212 RGC022_2.mp3 >>> *Done* ~213 RGC022_3.mp3 >>> *Done* ~214 RGC022_4.mp3 >>> *Done* ~215 RGC022_5.mp3 >>> *Done* ~216 RGC022_6.mp3 >>> *Done* ~217 RGC022_7.mp3 >>> *Done* ~218 RGC022_8.mp3 >>> *Done* ~219 RGC022_9.mp3 >>> *Done* ~220 RGC023_0.mp3 >>> *Done* ~221 RGC023_1.mp3 >>> *Done* ~222 RGC023_2.mp3 >>> *Done* ~223 RGC023_3.mp3 >>> *Done* ~224 RGC023_4.mp3 >>> *Done* ~225 RGC023_5.mp3 >>> *Done* ~226 RGC023_6.mp3 >>> *Done* ~227 RGC023_7.mp3 >>> *Done* ~228 RGC023_8.mp3 >>> *Done* ~229 RGC023_9.mp3 >>> *Done* ~230 RGC024_0.mp3 >>> *Done* ~231 RGC024_1.mp3 >>> *Done* ~232 RGC024_2.mp3 >>> *Done* ~233 RGC024_3.mp3 >>> *Done* ~234 RGC024_4.mp3 >>> *Done* ~235 RGC024_5.mp3 >>> *Done* ~236 RGC024_6.mp3 >>> *Done* ~237 RGC024_7.mp3 >>> *Done* ~238 RGC024_8.mp3 >>> *Done* ~239 RGC024_9.mp3 >>> *Done* ~240 RGC025_0.mp3 >>> *Done* ~241 RGC025_1.mp3 >>> *Done* ~242 RGC025_2.mp3 >>> *Done* ~243 RGC025_3.mp3 >>> *Done* ~244 RGC025_4.mp3 >>> *Done* ~245 RGC025_5.mp3 >>> *Done* ~246 RGC025_6.mp3 >>> *Done* ~247 RGC025_7.mp3 >>> *Done* ~248 RGC025_8.mp3 >>> *Done* ~249 RGC025_9.mp3 >>> *Done* ~250 RGC026_0.mp3 >>> *Done* ~251 RGC026_1.mp3 >>> *Done* ~252 RGC026_2.mp3 >>> *Done* ~253 RGC026_3.mp3 >>> *Done* ~254 RGC026_4.mp3 >>> *Done* ~255 RGC026_5.mp3 >>> *Done* ~256 RGC026_6.mp3 >>> *Done* ~257 RGC026_7.mp3 >>> *Done* ~258 RGC026_8.mp3 >>> *Done* ~259 RGC026_9.mp3 >>> *Done* ~260 RGC027_0.mp3 >>> *Done* ~261 RGC027_1.mp3 >>> *Done* ~262 RGC027_2.mp3 >>> *Done* ~263 RGC027_3.mp3 >>> *Done* ~264 RGC027_4.mp3 >>> *Done* ~265 RGC027_5.mp3 >>> *Done* ~266 RGC027_6.mp3 >>> *Done* ~267 RGC027_7.mp3 >>> *Done* ~268 RGC027_8.mp3 >>> *Done* ~269 RGC027_9.mp3 >>> *Done* ~270 RGC028_0.mp3 >>> *Done* ~271 RGC028_1.mp3 >>> *Done* ~272 RGC028_2.mp3 >>> *Done* ~273 RGC028_3.mp3 >>> *Done* ~274 RGC028_4.mp3 >>> *Done* ~275 RGC028_5.mp3 >>> *Done* ~276 RGC028_6.mp3 >>> *Done* ~277 RGC028_7.mp3 >>> *Done* ~278 RGC028_8.mp3 >>> *Done* ~279 RGC028_9.mp3 >>> *Done* ~280 RGC029_0.mp3 >>> *Done* ~281 RGC029_1.mp3 >>> *Done* ~282 RGC029_2.mp3 >>> *Done* ~283 RGC029_3.mp3 >>> *Done* ~284 RGC029_4.mp3 >>> *Done* ~285 RGC029_5.mp3 >>> *Done* ~286 RGC029_6.mp3 >>> *Done* ~287 RGC029_7.mp3 >>> "
     ]
    },
    {
     "name": "stdout",
     "output_type": "stream",
     "text": [
      "*Done* ~288 RGC029_8.mp3 >>> *Done* ~289 RGC029_9.mp3 >>> *Done* ~290 RGC030_0.mp3 >>> *Done* ~291 RGC030_1.mp3 >>> *Done* ~292 RGC030_2.mp3 >>> *Done* ~293 RGC030_3.mp3 >>> *Done* ~294 RGC030_4.mp3 >>> *Done* ~295 RGC030_5.mp3 >>> *Done* ~296 RGC030_6.mp3 >>> *Done* ~297 RGC030_7.mp3 >>> *Done* ~298 RGC030_8.mp3 >>> *Done* ~299 RGC030_9.mp3 >>> *Done* ~300 RGC031_0.mp3 >>> *Done* ~301 RGC031_1.mp3 >>> *Done* ~302 RGC031_2.mp3 >>> *Done* ~303 RGC031_3.mp3 >>> *Done* ~304 RGC031_4.mp3 >>> *Done* ~305 RGC031_5.mp3 >>> *Done* ~306 RGC031_6.mp3 >>> *Done* ~307 RGC031_7.mp3 >>> *Done* ~308 RGC031_8.mp3 >>> *Done* ~309 RGC031_9.mp3 >>> *Done* ~310 RGC032_0.mp3 >>> *Done* ~311 RGC032_1.mp3 >>> *Done* ~312 RGC032_2.mp3 >>> *Done* ~313 RGC032_3.mp3 >>> *Done* ~314 RGC032_4.mp3 >>> *Done* ~315 RGC032_5.mp3 >>> *Done* ~316 RGC032_6.mp3 >>> *Done* ~317 RGC032_7.mp3 >>> *Done* ~318 RGC032_8.mp3 >>> *Done* ~319 RGC032_9.mp3 >>> *Done* ~320 RGC033_0.mp3 >>> *Done* ~321 RGC033_1.mp3 >>> *Done* ~322 RGC033_2.mp3 >>> *Done* ~323 RGC033_3.mp3 >>> *Done* ~324 RGC033_4.mp3 >>> *Done* ~325 RGC033_5.mp3 >>> *Done* ~326 RGC033_6.mp3 >>> *Done* ~327 RGC033_7.mp3 >>> *Done* ~328 RGC033_8.mp3 >>> *Done* ~329 RGC033_9.mp3 >>> *Done* ~330 RGC034_0.mp3 >>> *Done* ~331 RGC034_1.mp3 >>> *Done* ~332 RGC034_2.mp3 >>> *Done* ~333 RGC034_3.mp3 >>> *Done* ~334 RGC034_4.mp3 >>> *Done* ~335 RGC034_5.mp3 >>> *Done* ~336 RGC034_6.mp3 >>> *Done* ~337 RGC034_7.mp3 >>> *Done* ~338 RGC034_8.mp3 >>> *Done* ~339 RGC034_9.mp3 >>> *Done* ~340 RGC035_0.mp3 >>> *Done* ~341 RGC035_1.mp3 >>> *Done* ~342 RGC035_2.mp3 >>> *Done* ~343 RGC035_3.mp3 >>> *Done* ~344 RGC035_4.mp3 >>> *Done* ~345 RGC035_5.mp3 >>> *Done* ~346 RGC035_6.mp3 >>> *Done* ~347 RGC035_7.mp3 >>> *Done* ~348 RGC035_8.mp3 >>> *Done* ~349 RGC035_9.mp3 >>> *Done* ~350 RGC036_0.mp3 >>> *Done* ~351 RGC036_1.mp3 >>> *Done* ~352 RGC036_2.mp3 >>> *Done* ~353 RGC036_3.mp3 >>> *Done* ~354 RGC036_4.mp3 >>> *Done* ~355 RGC036_5.mp3 >>> *Done* ~356 RGC036_6.mp3 >>> *Done* ~357 RGC036_7.mp3 >>> *Done* ~358 RGC036_8.mp3 >>> *Done* ~359 RGC036_9.mp3 >>> *Done* ~360 RGC037_0.mp3 >>> *Done* ~361 RGC037_1.mp3 >>> *Done* ~362 RGC037_2.mp3 >>> *Done* ~363 RGC037_3.mp3 >>> *Done* ~364 RGC037_4.mp3 >>> *Done* ~365 RGC037_5.mp3 >>> *Done* ~366 RGC037_6.mp3 >>> *Done* ~367 RGC037_7.mp3 >>> *Done* ~368 RGC037_8.mp3 >>> *Done* ~369 RGC037_9.mp3 >>> *Done* ~370 RGC038_0.mp3 >>> *Done* ~371 RGC038_1.mp3 >>> *Done* ~372 RGC038_2.mp3 >>> *Done* ~373 RGC038_3.mp3 >>> *Done* ~374 RGC038_4.mp3 >>> *Done* ~375 RGC038_5.mp3 >>> *Done* ~376 RGC038_6.mp3 >>> *Done* ~377 RGC038_7.mp3 >>> *Done* ~378 RGC038_8.mp3 >>> *Done* ~379 RGC038_9.mp3 >>> *Done* ~380 RGC039_0.mp3 >>> *Done* ~381 RGC039_1.mp3 >>> *Done* ~382 RGC039_2.mp3 >>> *Done* ~383 RGC039_3.mp3 >>> *Done* ~384 RGC039_4.mp3 >>> *Done* ~385 RGC039_5.mp3 >>> *Done* ~386 RGC039_6.mp3 >>> *Done* ~387 RGC039_7.mp3 >>> *Done* ~388 RGC039_8.mp3 >>> *Done* ~389 RGC039_9.mp3 >>> *Done* ~390 RGC040_0.mp3 >>> *Done* ~391 RGC040_1.mp3 >>> *Done* ~392 RGC040_2.mp3 >>> *Done* ~393 RGC040_3.mp3 >>> *Done* ~394 RGC040_4.mp3 >>> *Done* ~395 RGC040_5.mp3 >>> *Done* ~396 RGC040_6.mp3 >>> *Done* ~397 RGC040_7.mp3 >>> *Done* ~398 RGC040_8.mp3 >>> *Done* ~399 RGC040_9.mp3 >>> *Done* ~400 RGC041_0.mp3 >>> *Done* ~401 RGC041_1.mp3 >>> *Done* ~402 RGC041_2.mp3 >>> *Done* ~403 RGC041_3.mp3 >>> *Done* ~404 RGC041_4.mp3 >>> *Done* ~405 RGC041_5.mp3 >>> *Done* ~406 RGC041_6.mp3 >>> *Done* ~407 RGC041_7.mp3 >>> *Done* ~408 RGC041_8.mp3 >>> *Done* ~409 RGC041_9.mp3 >>> *Done* ~410 RGC042_0.mp3 >>> *Done* ~411 RGC042_1.mp3 >>> *Done* ~412 RGC042_2.mp3 >>> *Done* ~413 RGC042_3.mp3 >>> *Done* ~414 RGC042_4.mp3 >>> *Done* ~415 RGC042_5.mp3 >>> *Done* ~416 RGC042_6.mp3 >>> *Done* ~417 RGC042_7.mp3 >>> *Done* ~418 RGC042_8.mp3 >>> *Done* ~419 RGC042_9.mp3 >>> *Done* ~420 RGC043_0.mp3 >>> *Done* ~421 RGC043_1.mp3 >>> *Done* ~422 RGC043_2.mp3 >>> *Done* ~423 RGC043_3.mp3 >>> *Done* ~424 RGC043_4.mp3 >>> *Done* ~425 RGC043_5.mp3 >>> *Done* ~426 RGC043_6.mp3 >>> *Done* ~427 RGC043_7.mp3 >>> *Done* ~428 RGC043_8.mp3 >>> *Done* ~429 RGC043_9.mp3 >>> *Done* ~430 RGC044_0.mp3 >>> *Done* ~431 RGC044_1.mp3 >>> *Done* ~432 RGC044_2.mp3 >>> *Done* ~433 RGC044_3.mp3 >>> *Done* ~434 RGC044_4.mp3 >>> *Done* ~435 RGC044_5.mp3 >>> *Done* ~436 RGC044_6.mp3 >>> *Done* ~437 RGC044_7.mp3 >>> *Done* ~438 RGC044_8.mp3 >>> *Done* ~439 RGC044_9.mp3 >>> *Done* ~440 RGC045_0.mp3 >>> *Done* ~441 RGC045_1.mp3 >>> *Done* ~442 RGC045_2.mp3 >>> *Done* ~443 RGC045_3.mp3 >>> *Done* ~444 RGC045_4.mp3 >>> *Done* ~445 RGC045_5.mp3 >>> *Done* ~446 RGC045_6.mp3 >>> *Done* ~447 RGC045_7.mp3 >>> *Done* ~448 RGC045_8.mp3 >>> *Done* ~449 RGC045_9.mp3 >>> *Done* ~450 RGC046_0.mp3 >>> *Done* ~451 RGC046_1.mp3 >>> *Done* ~452 RGC046_2.mp3 >>> *Done* ~453 RGC046_3.mp3 >>> *Done* ~454 RGC046_4.mp3 >>> *Done* ~455 RGC046_5.mp3 >>> *Done* ~456 RGC046_6.mp3 >>> *Done* ~457 RGC046_7.mp3 >>> *Done* ~458 RGC046_8.mp3 >>> *Done* ~459 RGC046_9.mp3 >>> *Done* ~460 RGC047_0.mp3 >>> *Done* ~461 RGC047_1.mp3 >>> *Done* ~462 RGC047_2.mp3 >>> *Done* ~463 RGC047_3.mp3 >>> *Done* ~464 RGC047_4.mp3 >>> *Done* ~465 RGC047_5.mp3 >>> *Done* ~466 RGC047_6.mp3 >>> *Done* ~467 RGC047_7.mp3 >>> *Done* ~468 RGC047_8.mp3 >>> *Done* ~469 RGC047_9.mp3 >>> *Done* ~470 RGC048_0.mp3 >>> *Done* ~471 RGC048_1.mp3 >>> *Done* ~472 RGC048_2.mp3 >>> *Done* ~473 RGC048_3.mp3 >>> *Done* ~474 RGC048_4.mp3 >>> *Done* ~475 RGC048_5.mp3 >>> *Done* ~476 RGC048_6.mp3 >>> *Done* ~477 RGC048_7.mp3 >>> *Done* ~478 RGC048_8.mp3 >>> *Done* ~479 RGC048_9.mp3 >>> *Done* ~480 RGC049_0.mp3 >>> *Done* ~481 RGC049_1.mp3 >>> *Done* ~482 RGC049_2.mp3 >>> *Done* ~483 RGC049_3.mp3 >>> *Done* ~484 RGC049_4.mp3 >>> *Done* ~485 RGC049_5.mp3 >>> *Done* ~486 RGC049_6.mp3 >>> *Done* ~487 RGC049_7.mp3 >>> *Done* ~488 RGC049_8.mp3 >>> *Done* ~489 RGC049_9.mp3 >>> *Done* ~490 RGC050_0.mp3 >>> *Done* ~491 RGC050_1.mp3 >>> *Done* ~492 RGC050_2.mp3 >>> *Done* ~493 RGC050_3.mp3 >>> *Done* ~494 RGC050_4.mp3 >>> *Done* ~495 RGC050_5.mp3 >>> *Done* ~496 RGC050_6.mp3 >>> *Done* ~497 RGC050_7.mp3 >>> *Done* ~498 RGC050_8.mp3 >>> *Done* ~499 RGC050_9.mp3 >>> *Done* ~500 RGC051_0.mp3 >>> *Done* ~501 RGC051_1.mp3 >>> *Done* ~502 RGC051_2.mp3 >>> *Done* ~503 RGC051_3.mp3 >>> *Done* ~504 RGC051_4.mp3 >>> *Done* ~505 RGC051_5.mp3 >>> *Done* ~506 RGC051_6.mp3 >>> *Done* ~507 RGC051_7.mp3 >>> *Done* ~508 RGC051_8.mp3 >>> *Done* ~509 RGC051_9.mp3 >>> *Done* ~510 RGC052_0.mp3 >>> *Done* ~511 RGC052_1.mp3 >>> *Done* ~512 RGC052_2.mp3 >>> *Done* ~513 RGC052_3.mp3 >>> *Done* ~514 RGC052_4.mp3 >>> *Done* ~515 RGC052_5.mp3 >>> *Done* ~516 RGC052_6.mp3 >>> *Done* ~517 RGC052_7.mp3 >>> *Done* ~518 RGC052_8.mp3 >>> *Done* ~519 RGC052_9.mp3 >>> *Done* ~520 RGC053_0.mp3 >>> *Done* ~521 RGC053_1.mp3 >>> *Done* ~522 RGC053_2.mp3 >>> *Done* ~523 RGC053_3.mp3 >>> *Done* ~524 RGC053_4.mp3 >>> *Done* ~525 RGC053_5.mp3 >>> *Done* ~526 RGC053_6.mp3 >>> *Done* ~527 RGC053_7.mp3 >>> *Done* ~528 RGC053_8.mp3 >>> *Done* ~529 RGC053_9.mp3 >>> *Done* ~530 RGC054_0.mp3 >>> *Done* ~531 RGC054_1.mp3 >>> *Done* ~532 RGC054_2.mp3 >>> *Done* ~533 RGC054_3.mp3 >>> *Done* ~534 RGC054_4.mp3 >>> *Done* ~535 RGC054_5.mp3 >>> *Done* ~536 RGC054_6.mp3 >>> *Done* ~537 RGC054_7.mp3 >>> *Done* ~538 RGC054_8.mp3 >>> *Done* ~539 RGC054_9.mp3 >>> *Done* ~540 RGC055_0.mp3 >>> *Done* ~541 RGC055_1.mp3 >>> *Done* ~542 RGC055_2.mp3 >>> *Done* ~543 RGC055_3.mp3 >>> *Done* ~544 RGC055_4.mp3 >>> *Done* ~545 RGC055_5.mp3 >>> *Done* ~546 RGC055_6.mp3 >>> *Done* ~547 RGC055_7.mp3 >>> *Done* ~548 RGC055_8.mp3 >>> *Done* ~549 RGC055_9.mp3 >>> *Done* ~550 RGC056_0.mp3 >>> *Done* ~551 RGC056_1.mp3 >>> *Done* ~552 RGC056_2.mp3 >>> *Done* ~553 RGC056_3.mp3 >>> *Done* ~554 RGC056_4.mp3 >>> *Done* ~555 RGC056_5.mp3 >>> *Done* ~556 RGC056_6.mp3 >>> *Done* ~557 RGC056_7.mp3 >>> *Done* ~558 RGC056_8.mp3 >>> *Done* ~559 RGC056_9.mp3 >>> *Done* ~560 RGC057_0.mp3 >>> *Done* ~561 RGC057_1.mp3 >>> *Done* ~562 RGC057_2.mp3 >>> *Done* ~563 RGC057_3.mp3 >>> *Done* ~564 RGC057_4.mp3 >>> *Done* ~565 RGC057_5.mp3 >>> *Done* ~566 RGC057_6.mp3 >>> *Done* ~567 RGC057_7.mp3 >>> *Done* ~568 RGC057_8.mp3 >>> *Done* ~569 RGC057_9.mp3 >>> *Done* ~570 RGC058_0.mp3 >>> "
     ]
    },
    {
     "name": "stdout",
     "output_type": "stream",
     "text": [
      "*Done* ~571 RGC058_1.mp3 >>> *Done* ~572 RGC058_2.mp3 >>> *Done* ~573 RGC058_3.mp3 >>> *Done* ~574 RGC058_4.mp3 >>> *Done* ~575 RGC058_5.mp3 >>> *Done* ~576 RGC058_6.mp3 >>> *Done* ~577 RGC058_7.mp3 >>> *Done* ~578 RGC058_8.mp3 >>> *Done* ~579 RGC058_9.mp3 >>> *Done* ~580 RGC059_0.mp3 >>> *Done* ~581 RGC059_1.mp3 >>> *Done* ~582 RGC059_2.mp3 >>> *Done* ~583 RGC059_3.mp3 >>> *Done* ~584 RGC059_4.mp3 >>> *Done* ~585 RGC059_5.mp3 >>> *Done* ~586 RGC059_6.mp3 >>> *Done* ~587 RGC059_7.mp3 >>> *Done* ~588 RGC059_8.mp3 >>> *Done* ~589 RGC059_9.mp3 >>> *Done* ~590 RGC060_0.mp3 >>> *Done* ~591 RGC060_1.mp3 >>> *Done* ~592 RGC060_2.mp3 >>> *Done* ~593 RGC060_3.mp3 >>> *Done* ~594 RGC060_4.mp3 >>> *Done* ~595 RGC060_5.mp3 >>> *Done* ~596 RGC060_6.mp3 >>> *Done* ~597 RGC060_7.mp3 >>> *Done* ~598 RGC060_8.mp3 >>> *Done* ~599 RGC060_9.mp3 >>> *Done* ~600 RGC061_0.mp3 >>> *Done* ~601 RGC061_1.mp3 >>> *Done* ~602 RGC061_2.mp3 >>> *Done* ~603 RGC061_3.mp3 >>> *Done* ~604 RGC061_4.mp3 >>> *Done* ~605 RGC061_5.mp3 >>> *Done* ~606 RGC061_6.mp3 >>> *Done* ~607 RGC061_7.mp3 >>> *Done* ~608 RGC061_8.mp3 >>> *Done* ~609 RGC061_9.mp3 >>> *Done* ~610 RGC062_0.mp3 >>> *Done* ~611 RGC062_1.mp3 >>> *Done* ~612 RGC062_2.mp3 >>> *Done* ~613 RGC062_3.mp3 >>> *Done* ~614 RGC062_4.mp3 >>> *Done* ~615 RGC062_5.mp3 >>> *Done* ~616 RGC062_6.mp3 >>> *Done* ~617 RGC062_7.mp3 >>> *Done* ~618 RGC062_8.mp3 >>> *Done* ~619 RGC062_9.mp3 >>> *Done* ~620 RGC063_0.mp3 >>> *Done* ~621 RGC063_1.mp3 >>> *Done* ~622 RGC063_2.mp3 >>> *Done* ~623 RGC063_3.mp3 >>> *Done* ~624 RGC063_4.mp3 >>> *Done* ~625 RGC063_5.mp3 >>> *Done* ~626 RGC063_6.mp3 >>> *Done* ~627 RGC063_7.mp3 >>> *Done* ~628 RGC063_8.mp3 >>> *Done* ~629 RGC063_9.mp3 >>> *Done* ~630 RGC064_0.mp3 >>> *Done* ~631 RGC064_1.mp3 >>> *Done* ~632 RGC064_2.mp3 >>> *Done* ~633 RGC064_3.mp3 >>> *Done* ~634 RGC064_4.mp3 >>> *Done* ~635 RGC064_5.mp3 >>> *Done* ~636 RGC064_6.mp3 >>> *Done* ~637 RGC064_7.mp3 >>> *Done* ~638 RGC064_8.mp3 >>> *Done* ~639 RGC064_9.mp3 >>> *Done* ~640 RGC065_0.mp3 >>> *Done* ~641 RGC065_1.mp3 >>> *Done* ~642 RGC065_2.mp3 >>> *Done* ~643 RGC065_3.mp3 >>> *Done* ~644 RGC065_4.mp3 >>> *Done* ~645 RGC065_5.mp3 >>> *Done* ~646 RGC065_6.mp3 >>> *Done* ~647 RGC065_7.mp3 >>> *Done* ~648 RGC065_8.mp3 >>> *Done* ~649 RGC065_9.mp3 >>> *Done* ~650 RGC066_0.mp3 >>> *Done* ~651 RGC066_1.mp3 >>> *Done* ~652 RGC066_2.mp3 >>> *Done* ~653 RGC066_3.mp3 >>> *Done* ~654 RGC066_4.mp3 >>> *Done* ~655 RGC066_5.mp3 >>> *Done* ~656 RGC066_6.mp3 >>> *Done* ~657 RGC066_7.mp3 >>> *Done* ~658 RGC066_8.mp3 >>> *Done* ~659 RGC066_9.mp3 >>> *Done* ~660 RGC067_0.mp3 >>> *Done* ~661 RGC067_1.mp3 >>> *Done* ~662 RGC067_2.mp3 >>> *Done* ~663 RGC067_3.mp3 >>> *Done* ~664 RGC067_4.mp3 >>> *Done* ~665 RGC067_5.mp3 >>> *Done* ~666 RGC067_6.mp3 >>> *Done* ~667 RGC067_7.mp3 >>> *Done* ~668 RGC067_8.mp3 >>> *Done* ~669 RGC067_9.mp3 >>> *Done* ~670 RGC068_0.mp3 >>> *Done* ~671 RGC068_1.mp3 >>> *Done* ~672 RGC068_2.mp3 >>> *Done* ~673 RGC068_3.mp3 >>> *Done* ~674 RGC068_4.mp3 >>> *Done* ~675 RGC068_5.mp3 >>> *Done* ~676 RGC068_6.mp3 >>> *Done* ~677 RGC068_7.mp3 >>> *Done* ~678 RGC068_8.mp3 >>> *Done* ~679 RGC068_9.mp3 >>> *Done* ~680 RGC069_0.mp3 >>> *Done* ~681 RGC069_1.mp3 >>> *Done* ~682 RGC069_2.mp3 >>> *Done* ~683 RGC069_3.mp3 >>> *Done* ~684 RGC069_4.mp3 >>> *Done* ~685 RGC069_5.mp3 >>> *Done* ~686 RGC069_6.mp3 >>> *Done* ~687 RGC069_7.mp3 >>> *Done* ~688 RGC069_8.mp3 >>> *Done* ~689 RGC069_9.mp3 >>> *Done* ~690 RGC070_0.mp3 >>> *Done* ~691 RGC070_1.mp3 >>> *Done* ~692 RGC070_2.mp3 >>> *Done* ~693 RGC070_3.mp3 >>> *Done* ~694 RGC070_4.mp3 >>> *Done* ~695 RGC070_5.mp3 >>> *Done* ~696 RGC070_6.mp3 >>> *Done* ~697 RGC070_7.mp3 >>> *Done* ~698 RGC070_8.mp3 >>> *Done* ~699 RGC070_9.mp3 >>> *Done* ~700 RGC071_0.mp3 >>> *Done* ~701 RGC071_1.mp3 >>> *Done* ~702 RGC071_2.mp3 >>> *Done* ~703 RGC071_3.mp3 >>> *Done* ~704 RGC071_4.mp3 >>> *Done* ~705 RGC071_5.mp3 >>> *Done* ~706 RGC071_6.mp3 >>> *Done* ~707 RGC071_7.mp3 >>> *Done* ~708 RGC071_8.mp3 >>> *Done* ~709 RGC071_9.mp3 >>> *Done* ~710 RGC072_0.mp3 >>> *Done* ~711 RGC072_1.mp3 >>> *Done* ~712 RGC072_2.mp3 >>> *Done* ~713 RGC072_3.mp3 >>> *Done* ~714 RGC072_4.mp3 >>> *Done* ~715 RGC072_5.mp3 >>> *Done* ~716 RGC072_6.mp3 >>> *Done* ~717 RGC072_7.mp3 >>> *Done* ~718 RGC072_8.mp3 >>> *Done* ~719 RGC072_9.mp3 >>> *Done* ~720 RGC073_0.mp3 >>> *Done* ~721 RGC073_1.mp3 >>> *Done* ~722 RGC073_2.mp3 >>> *Done* ~723 RGC073_3.mp3 >>> *Done* ~724 RGC073_4.mp3 >>> *Done* ~725 RGC073_5.mp3 >>> *Done* ~726 RGC073_6.mp3 >>> *Done* ~727 RGC073_7.mp3 >>> *Done* ~728 RGC073_8.mp3 >>> *Done* ~729 RGC073_9.mp3 >>> *Done* ~730 RGC074_0.mp3 >>> *Done* ~731 RGC074_1.mp3 >>> *Done* ~732 RGC074_2.mp3 >>> *Done* ~733 RGC074_3.mp3 >>> *Done* ~734 RGC074_4.mp3 >>> *Done* ~735 RGC074_5.mp3 >>> *Done* ~736 RGC074_6.mp3 >>> *Done* ~737 RGC074_7.mp3 >>> *Done* ~738 RGC074_8.mp3 >>> *Done* ~739 RGC074_9.mp3 >>> *Done* ~740 RGC075_0.mp3 >>> *Done* ~741 RGC075_1.mp3 >>> *Done* ~742 RGC075_2.mp3 >>> *Done* ~743 RGC075_3.mp3 >>> *Done* ~744 RGC075_4.mp3 >>> *Done* ~745 RGC075_5.mp3 >>> *Done* ~746 RGC075_6.mp3 >>> *Done* ~747 RGC075_7.mp3 >>> *Done* ~748 RGC075_8.mp3 >>> *Done* ~749 RGC075_9.mp3 >>> *Done* ~750 RGC076_0.mp3 >>> *Done* ~751 RGC076_1.mp3 >>> *Done* ~752 RGC076_2.mp3 >>> *Done* ~753 RGC076_3.mp3 >>> *Done* ~754 RGC076_4.mp3 >>> *Done* ~755 RGC076_5.mp3 >>> *Done* ~756 RGC076_6.mp3 >>> *Done* ~757 RGC076_7.mp3 >>> *Done* ~758 RGC076_8.mp3 >>> *Done* ~759 RGC076_9.mp3 >>> *Done* ~760 RGC077_0.mp3 >>> *Done* ~761 RGC077_1.mp3 >>> *Done* ~762 RGC077_2.mp3 >>> *Done* ~763 RGC077_3.mp3 >>> *Done* ~764 RGC077_4.mp3 >>> *Done* ~765 RGC077_5.mp3 >>> *Done* ~766 RGC077_6.mp3 >>> *Done* ~767 RGC077_7.mp3 >>> *Done* ~768 RGC077_8.mp3 >>> *Done* ~769 RGC077_9.mp3 >>> *Done* ~770 RGC078_0.mp3 >>> *Done* ~771 RGC078_1.mp3 >>> *Done* ~772 RGC078_2.mp3 >>> *Done* ~773 RGC078_3.mp3 >>> *Done* ~774 RGC078_4.mp3 >>> *Done* ~775 RGC078_5.mp3 >>> *Done* ~776 RGC078_6.mp3 >>> *Done* ~777 RGC078_7.mp3 >>> *Done* ~778 RGC078_8.mp3 >>> *Done* ~779 RGC078_9.mp3 >>> *Done* ~780 RGC079_0.mp3 >>> *Done* ~781 RGC079_1.mp3 >>> *Done* ~782 RGC079_2.mp3 >>> *Done* ~783 RGC079_3.mp3 >>> *Done* ~784 RGC079_4.mp3 >>> *Done* ~785 RGC079_5.mp3 >>> *Done* ~786 RGC079_6.mp3 >>> *Done* ~787 RGC079_7.mp3 >>> *Done* ~788 RGC079_8.mp3 >>> *Done* ~789 RGC079_9.mp3 >>> *Done* ~790 RGC080_0.mp3 >>> *Done* ~791 RGC080_1.mp3 >>> *Done* ~792 RGC080_2.mp3 >>> *Done* ~793 RGC080_3.mp3 >>> *Done* ~794 RGC080_4.mp3 >>> *Done* ~795 RGC080_5.mp3 >>> *Done* ~796 RGC080_6.mp3 >>> *Done* ~797 RGC080_7.mp3 >>> *Done* ~798 RGC080_8.mp3 >>> *Done* ~799 RGC080_9.mp3 >>> *Done* ~800 RGC081_0.mp3 >>> *Done* ~801 RGC081_1.mp3 >>> *Done* ~802 RGC081_2.mp3 >>> *Done* ~803 RGC081_3.mp3 >>> *Done* ~804 RGC081_4.mp3 >>> *Done* ~805 RGC081_5.mp3 >>> *Done* ~806 RGC081_6.mp3 >>> *Done* ~807 RGC081_7.mp3 >>> *Done* ~808 RGC081_8.mp3 >>> *Done* ~809 RGC081_9.mp3 >>> *Done* ~810 RGC082_0.mp3 >>> *Done* ~811 RGC082_1.mp3 >>> *Done* ~812 RGC082_2.mp3 >>> *Done* ~813 RGC082_3.mp3 >>> *Done* ~814 RGC082_4.mp3 >>> *Done* ~815 RGC082_5.mp3 >>> *Done* ~816 RGC082_6.mp3 >>> *Done* ~817 RGC082_7.mp3 >>> *Done* ~818 RGC082_8.mp3 >>> *Done* ~819 RGC082_9.mp3 >>> *Done* ~820 RGC083_0.mp3 >>> *Done* ~821 RGC083_1.mp3 >>> *Done* ~822 RGC083_2.mp3 >>> *Done* ~823 RGC083_3.mp3 >>> *Done* ~824 RGC083_4.mp3 >>> *Done* ~825 RGC083_5.mp3 >>> *Done* ~826 RGC083_6.mp3 >>> *Done* ~827 RGC083_7.mp3 >>> *Done* ~828 RGC083_8.mp3 >>> *Done* ~829 RGC083_9.mp3 >>> *Done* ~830 RGC084_0.mp3 >>> *Done* ~831 RGC084_1.mp3 >>> *Done* ~832 RGC084_2.mp3 >>> *Done* ~833 RGC084_3.mp3 >>> *Done* ~834 RGC084_4.mp3 >>> *Done* ~835 RGC084_5.mp3 >>> *Done* ~836 RGC084_6.mp3 >>> *Done* ~837 RGC084_7.mp3 >>> *Done* ~838 RGC084_8.mp3 >>> *Done* ~839 RGC084_9.mp3 >>> *Done* ~840 RGC085_0.mp3 >>> *Done* ~841 RGC085_1.mp3 >>> *Done* ~842 RGC085_10.mp3 >>> *Done* ~843 RGC085_11.mp3 >>> *Done* ~844 RGC085_2.mp3 >>> *Done* ~845 RGC085_3.mp3 >>> *Done* ~846 RGC085_4.mp3 >>> *Done* ~847 RGC085_5.mp3 >>> *Done* ~848 RGC085_6.mp3 >>> *Done* ~849 RGC085_7.mp3 >>> *Done* ~850 RGC085_8.mp3 >>> *Done* ~851 RGC085_9.mp3 >>> *Done* ~852 RGC086_0.mp3 >>> *Done* ~853 RGC086_1.mp3 >>> "
     ]
    },
    {
     "name": "stdout",
     "output_type": "stream",
     "text": [
      "*Done* ~854 RGC086_2.mp3 >>> *Done* ~855 RGC086_3.mp3 >>> *Done* ~856 RGC086_4.mp3 >>> *Done* ~857 RGC086_5.mp3 >>> *Done* ~858 RGC086_6.mp3 >>> *Done* ~859 RGC086_7.mp3 >>> *Done* ~860 RGC086_8.mp3 >>> *Done* ~861 RGC086_9.mp3 >>> *Done* ~862 RGC087_0.mp3 >>> *Done* ~863 RGC087_1.mp3 >>> *Done* ~864 RGC087_2.mp3 >>> *Done* ~865 RGC087_3.mp3 >>> *Done* ~866 RGC087_4.mp3 >>> *Done* ~867 RGC087_5.mp3 >>> *Done* ~868 RGC087_6.mp3 >>> *Done* ~869 RGC087_7.mp3 >>> *Done* ~870 RGC087_8.mp3 >>> *Done* ~871 RGC087_9.mp3 >>> *Done* ~872 RGC088_0.mp3 >>> *Done* ~873 RGC088_1.mp3 >>> *Done* ~874 RGC088_2.mp3 >>> *Done* ~875 RGC088_3.mp3 >>> *Done* ~876 RGC088_4.mp3 >>> *Done* ~877 RGC088_5.mp3 >>> *Done* ~878 RGC088_6.mp3 >>> *Done* ~879 RGC088_7.mp3 >>> *Done* ~880 RGC088_8.mp3 >>> *Done* ~881 RGC088_9.mp3 >>> *Done* ~882 RGC089_0.mp3 >>> *Done* ~883 RGC089_1.mp3 >>> *Done* ~884 RGC089_2.mp3 >>> *Done* ~885 RGC089_3.mp3 >>> *Done* ~886 RGC089_4.mp3 >>> *Done* ~887 RGC089_5.mp3 >>> *Done* ~888 RGC089_6.mp3 >>> *Done* ~889 RGC089_7.mp3 >>> *Done* ~890 RGC089_8.mp3 >>> *Done* ~891 RGC089_9.mp3 >>> *Done* ~892 RGC090_0.mp3 >>> *Done* ~893 RGC090_1.mp3 >>> *Done* ~894 RGC090_2.mp3 >>> *Done* ~895 RGC090_3.mp3 >>> *Done* ~896 RGC090_4.mp3 >>> *Done* ~897 RGC090_5.mp3 >>> *Done* ~898 RGC090_6.mp3 >>> *Done* ~899 RGC090_7.mp3 >>> *Done* ~900 RGC090_8.mp3 >>> *Done* ~901 RGC090_9.mp3 >>> *Done* ~902 RGC091_0.mp3 >>> *Done* ~903 RGC091_1.mp3 >>> *Done* ~904 RGC091_2.mp3 >>> *Done* ~905 RGC091_3.mp3 >>> *Done* ~906 RGC091_4.mp3 >>> *Done* ~907 RGC091_5.mp3 >>> *Done* ~908 RGC091_6.mp3 >>> *Done* ~909 RGC091_7.mp3 >>> *Done* ~910 RGC091_8.mp3 >>> *Done* ~911 RGC091_9.mp3 >>> *Done* ~912 RGC092_0.mp3 >>> *Done* ~913 RGC092_1.mp3 >>> *Done* ~914 RGC092_2.mp3 >>> *Done* ~915 RGC092_3.mp3 >>> *Done* ~916 RGC092_4.mp3 >>> *Done* ~917 RGC092_5.mp3 >>> *Done* ~918 RGC092_6.mp3 >>> *Done* ~919 RGC092_7.mp3 >>> *Done* ~920 RGC092_8.mp3 >>> *Done* ~921 RGC092_9.mp3 >>> *Done* ~922 RGC093_0.mp3 >>> *Done* ~923 RGC093_1.mp3 >>> *Done* ~924 RGC093_2.mp3 >>> *Done* ~925 RGC093_3.mp3 >>> *Done* ~926 RGC093_4.mp3 >>> *Done* ~927 RGC093_5.mp3 >>> *Done* ~928 RGC093_6.mp3 >>> *Done* ~929 RGC093_7.mp3 >>> *Done* ~930 RGC093_8.mp3 >>> *Done* ~931 RGC093_9.mp3 >>> *Done* ~932 RGC094_0.mp3 >>> *Done* ~933 RGC094_1.mp3 >>> *Done* ~934 RGC094_2.mp3 >>> *Done* ~935 RGC094_3.mp3 >>> *Done* ~936 RGC094_4.mp3 >>> *Done* ~937 RGC094_5.mp3 >>> *Done* ~938 RGC094_6.mp3 >>> *Done* ~939 RGC094_7.mp3 >>> *Done* ~940 RGC094_8.mp3 >>> *Done* ~941 RGC094_9.mp3 >>> *Done* ~942 RGC095_0.mp3 >>> *Done* ~943 RGC095_1.mp3 >>> *Done* ~944 RGC095_2.mp3 >>> *Done* ~945 RGC095_3.mp3 >>> *Done* ~946 RGC095_4.mp3 >>> *Done* ~947 RGC095_5.mp3 >>> *Done* ~948 RGC095_6.mp3 >>> *Done* ~949 RGC095_7.mp3 >>> *Done* ~950 RGC095_8.mp3 >>> *Done* ~951 RGC095_9.mp3 >>> *Done* ~952 RGC096_0.mp3 >>> *Done* ~953 RGC096_1.mp3 >>> *Done* ~954 RGC096_10.mp3 >>> *Done* ~955 RGC096_11.mp3 >>> *Done* ~956 RGC096_2.mp3 >>> *Done* ~957 RGC096_3.mp3 >>> *Done* ~958 RGC096_4.mp3 >>> *Done* ~959 RGC096_5.mp3 >>> *Done* ~960 RGC096_6.mp3 >>> *Done* ~961 RGC096_7.mp3 >>> *Done* ~962 RGC096_8.mp3 >>> *Done* ~963 RGC096_9.mp3 >>> *Done* ~964 RGC097_0.mp3 >>> *Done* ~965 RGC097_1.mp3 >>> *Done* ~966 RGC097_2.mp3 >>> *Done* ~967 RGC097_3.mp3 >>> *Done* ~968 RGC097_4.mp3 >>> *Done* ~969 RGC097_5.mp3 >>> *Done* ~970 RGC097_6.mp3 >>> *Done* ~971 RGC097_7.mp3 >>> *Done* ~972 RGC097_8.mp3 >>> *Done* ~973 RGC097_9.mp3 >>> *Done* ~974 RGC098_0.mp3 >>> *Done* ~975 RGC098_1.mp3 >>> *Done* ~976 RGC098_10.mp3 >>> *Done* ~977 RGC098_2.mp3 >>> *Done* ~978 RGC098_3.mp3 >>> *Done* ~979 RGC098_4.mp3 >>> *Done* ~980 RGC098_5.mp3 >>> *Done* ~981 RGC098_6.mp3 >>> *Done* ~982 RGC098_7.mp3 >>> *Done* ~983 RGC098_8.mp3 >>> *Done* ~984 RGC098_9.mp3 >>> *Done* ~985 RGC099_0.mp3 >>> *Done* ~986 RGC099_1.mp3 >>> *Done* ~987 RGC099_2.mp3 >>> *Done* ~988 RGC099_3.mp3 >>> *Done* ~989 RGC099_4.mp3 >>> *Done* ~990 RGC099_5.mp3 >>> *Done* ~991 RGC099_6.mp3 >>> *Done* ~992 RGC099_7.mp3 >>> *Done* ~993 RGC099_8.mp3 >>> *Done* ~994 RGC099_9.mp3 >>> *Done* ~995 RGC100_0.mp3 >>> *Done* ~996 RGC100_1.mp3 >>> *Done* ~997 RGC100_10.mp3 >>> *Done* ~998 RGC100_2.mp3 >>> *Done* ~999 RGC100_3.mp3 >>> *Done* ~1000 RGC100_4.mp3 >>> *Done* ~1001 RGC100_5.mp3 >>> *Done* ~1002 RGC100_6.mp3 >>> *Done* ~1003 RGC100_7.mp3 >>> *Done* ~1004 RGC100_8.mp3 >>> *Done* ~1005 RGC100_9.mp3 >>> *Done* ~1006 RGC101_0.mp3 >>> *Done* ~1007 RGC101_1.mp3 >>> *Done* ~1008 RGC101_2.mp3 >>> *Done* ~1009 RGC101_3.mp3 >>> *Done* ~1010 RGC101_4.mp3 >>> *Done* ~1011 RGC101_5.mp3 >>> *Done* ~1012 RGC101_6.mp3 >>> *Done* ~1013 RGC101_7.mp3 >>> *Done* ~1014 RGC101_8.mp3 >>> *Done* ~1015 RGC101_9.mp3 >>> *Done* ~1016 RGC102_0.mp3 >>> *Done* ~1017 RGC102_1.mp3 >>> *Done* ~1018 RGC102_2.mp3 >>> *Done* ~1019 RGC102_3.mp3 >>> *Done* ~1020 RGC102_4.mp3 >>> *Done* ~1021 RGC102_5.mp3 >>> *Done* ~1022 RGC102_6.mp3 >>> *Done* ~1023 RGC102_7.mp3 >>> *Done* ~1024 RGC102_8.mp3 >>> *Done* ~1025 RGC102_9.mp3 >>> *Done* ~1026 RGC103_0.mp3 >>> *Done* ~1027 RGC103_1.mp3 >>> *Done* ~1028 RGC103_2.mp3 >>> *Done* ~1029 RGC103_3.mp3 >>> *Done* ~1030 RGC103_4.mp3 >>> *Done* ~1031 RGC103_5.mp3 >>> *Done* ~1032 RGC103_6.mp3 >>> *Done* ~1033 RGC103_7.mp3 >>> *Done* ~1034 RGC103_8.mp3 >>> *Done* ~1035 RGC103_9.mp3 >>> *Done* ~1036 RGC104_0.mp3 >>> *Done* ~1037 RGC104_1.mp3 >>> *Done* ~1038 RGC104_2.mp3 >>> *Done* ~1039 RGC104_3.mp3 >>> *Done* ~1040 RGC104_4.mp3 >>> *Done* ~1041 RGC104_5.mp3 >>> *Done* ~1042 RGC104_6.mp3 >>> *Done* ~1043 RGC104_7.mp3 >>> *Done* ~1044 RGC104_8.mp3 >>> *Done* ~1045 RGC104_9.mp3 >>> *Done* ~1046 RGC105_0.mp3 >>> *Done* ~1047 RGC105_1.mp3 >>> *Done* ~1048 RGC105_2.mp3 >>> *Done* ~1049 RGC105_3.mp3 >>> *Done* ~1050 RGC105_4.mp3 >>> *Done* ~1051 RGC105_5.mp3 >>> *Done* ~1052 RGC105_6.mp3 >>> *Done* ~1053 RGC105_7.mp3 >>> *Done* ~1054 RGC105_8.mp3 >>> *Done* ~1055 RGC105_9.mp3 >>> *Done* ~1056 RGC106_0.mp3 >>> *Done* ~1057 RGC106_1.mp3 >>> *Done* ~1058 RGC106_2.mp3 >>> *Done* ~1059 RGC106_3.mp3 >>> *Done* ~1060 RGC106_4.mp3 >>> *Done* ~1061 RGC106_5.mp3 >>> *Done* ~1062 RGC106_6.mp3 >>> *Done* ~1063 RGC106_7.mp3 >>> *Done* ~1064 RGC106_8.mp3 >>> *Done* ~1065 RGC106_9.mp3 >>> *Done* ~1066 RGC107_0.mp3 >>> *Done* ~1067 RGC107_1.mp3 >>> *Done* ~1068 RGC107_2.mp3 >>> *Done* ~1069 RGC107_3.mp3 >>> *Done* ~1070 RGC107_4.mp3 >>> *Done* ~1071 RGC107_5.mp3 >>> *Done* ~1072 RGC107_6.mp3 >>> *Done* ~1073 RGC107_7.mp3 >>> *Done* ~1074 RGC107_8.mp3 >>> *Done* ~1075 RGC107_9.mp3 >>> *Done* ~1076 RGC108_0.mp3 >>> *Done* ~1077 RGC108_1.mp3 >>> *Done* ~1078 RGC108_2.mp3 >>> *Done* ~1079 RGC108_3.mp3 >>> *Done* ~1080 RGC108_4.mp3 >>> *Done* ~1081 RGC108_5.mp3 >>> *Done* ~1082 RGC108_6.mp3 >>> *Done* ~1083 RGC108_7.mp3 >>> *Done* ~1084 RGC108_8.mp3 >>> *Done* ~1085 RGC108_9.mp3 >>> *Done* ~1086 RGC109_0.mp3 >>> *Done* ~1087 RGC109_1.mp3 >>> *Done* ~1088 RGC109_2.mp3 >>> *Done* ~1089 RGC109_3.mp3 >>> *Done* ~1090 RGC109_4.mp3 >>> *Done* ~1091 RGC109_5.mp3 >>> *Done* ~1092 RGC109_6.mp3 >>> *Done* ~1093 RGC109_7.mp3 >>> *Done* ~1094 RGC109_8.mp3 >>> *Done* ~1095 RGC109_9.mp3 >>> *Done* ~1096 RGC110_0.mp3 >>> *Done* ~1097 RGC110_1.mp3 >>> *Done* ~1098 RGC110_2.mp3 >>> *Done* ~1099 RGC110_3.mp3 >>> *Done* ~1100 RGC110_4.mp3 >>> *Done* ~1101 RGC110_5.mp3 >>> *Done* ~1102 RGC110_6.mp3 >>> *Done* ~1103 RGC110_7.mp3 >>> *Done* ~1104 RGC110_8.mp3 >>> *Done* ~1105 RGC110_9.mp3 >>> *Done* ~1106 RGC111_0.mp3 >>> *Done* ~1107 RGC111_1.mp3 >>> *Done* ~1108 RGC111_2.mp3 >>> *Done* ~1109 RGC111_3.mp3 >>> *Done* ~1110 RGC111_4.mp3 >>> *Done* ~1111 RGC111_5.mp3 >>> *Done* ~1112 RGC111_6.mp3 >>> *Done* ~1113 RGC111_7.mp3 >>> *Done* ~1114 RGC111_8.mp3 >>> *Done* ~1115 RGC111_9.mp3 >>> *Done* ~1116 RGC112_0.mp3 >>> *Done* ~1117 RGC112_1.mp3 >>> *Done* ~1118 RGC112_2.mp3 >>> *Done* ~1119 RGC112_3.mp3 >>> *Done* ~1120 RGC112_4.mp3 >>> *Done* ~1121 RGC112_5.mp3 >>> *Done* ~1122 RGC112_6.mp3 >>> *Done* ~1123 RGC112_7.mp3 >>> *Done* ~1124 RGC112_8.mp3 >>> *Done* ~1125 RGC112_9.mp3 >>> *Done* ~"
     ]
    }
   ],
   "source": [
    "i = 0\n",
    "vol = 0.95\n",
    "failed_list = []\n",
    "for subdir, dirs, files in os.walk(folder):\n",
    "    for file in files:\n",
    "        i += 1\n",
    "        if i > 0:  # It was <3, to limit outputs for testing, now to execute all!\n",
    "            #print(subdir, os.path.join(subdir, file))\n",
    "            subdir_list = subdir.split('/')\n",
    "            output_list = [element for element in subdir_list]  # Deep copy\n",
    "            output_list[3] = 'output2'\n",
    "            output_folder = os.path.join(*output_list)\n",
    "            exists = os.path.exists(output_folder)\n",
    "            if not exists:\n",
    "                os.makedirs(output_folder)\n",
    "            # print(file, output_list)#,subdir_list )#subdir.split('/'))\n",
    "            src = os.path.join(subdir, file)\n",
    "            out = os.path.join(output_folder, file)\n",
    "            # print(src, out)\n",
    "\n",
    "            ffmpeg_command = f'ffmpeg -y -i {src} -filter:a \"atempo={spd},volume={vol}\" '\n",
    "            ffmpeg_command += f'-vn -ar 44100 -ac 2 -b:a 16k -write_xing 0 {out}'\n",
    "            print(i, file, end=\" >>> \")\n",
    "            performed = subprocess.call(ffmpeg_command, shell=True)\n",
    "            if performed == 0:\n",
    "                print(\"*Done*\", end=\" ~\")\n",
    "            else:\n",
    "                failed_list.append((subdir, file))\n",
    "                print(\"failed :-\\(\")"
   ]
  },
  {
   "cell_type": "code",
   "execution_count": null,
   "id": "531c9b08",
   "metadata": {},
   "outputs": [],
   "source": []
  }
 ],
 "metadata": {
  "kernelspec": {
   "display_name": "Python 3 (ipykernel)",
   "language": "python",
   "name": "python3"
  },
  "language_info": {
   "codemirror_mode": {
    "name": "ipython",
    "version": 3
   },
   "file_extension": ".py",
   "mimetype": "text/x-python",
   "name": "python",
   "nbconvert_exporter": "python",
   "pygments_lexer": "ipython3",
   "version": "3.8.12"
  },
  "varInspector": {
   "cols": {
    "lenName": 16,
    "lenType": 16,
    "lenVar": 40
   },
   "kernels_config": {
    "python": {
     "delete_cmd_postfix": "",
     "delete_cmd_prefix": "del ",
     "library": "var_list.py",
     "varRefreshCmd": "print(var_dic_list())"
    },
    "r": {
     "delete_cmd_postfix": ") ",
     "delete_cmd_prefix": "rm(",
     "library": "var_list.r",
     "varRefreshCmd": "cat(var_dic_list()) "
    }
   },
   "types_to_exclude": [
    "module",
    "function",
    "builtin_function_or_method",
    "instance",
    "_Feature"
   ],
   "window_display": false
  }
 },
 "nbformat": 4,
 "nbformat_minor": 5
}
