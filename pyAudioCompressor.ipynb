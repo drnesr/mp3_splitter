{
 "cells": [
  {
   "cell_type": "code",
   "execution_count": 4,
   "id": "b5bf7b97",
   "metadata": {
    "ExecuteTime": {
     "end_time": "2022-04-01T00:38:19.836386Z",
     "start_time": "2022-04-01T00:38:19.824419Z"
    }
   },
   "outputs": [],
   "source": [
    "# Imports\n",
    "import ffmpeg\n",
    "import os\n",
    "import subprocess\n",
    "import re\n",
    "import pandas as pd\n",
    "import numpy as np\n",
    "from mutagen.easyid3 import EasyID3\n",
    "import shlex"
   ]
  },
  {
   "cell_type": "code",
   "execution_count": 10,
   "id": "e69d73a8",
   "metadata": {
    "ExecuteTime": {
     "end_time": "2022-04-01T00:42:19.411592Z",
     "start_time": "2022-04-01T00:42:19.404610Z"
    }
   },
   "outputs": [],
   "source": [
    "source = \"TestFile.mp3\"\n",
    "output = \"Outputs/OutFile.mp3\"\n",
    "check = \"TestFile2.mp3\""
   ]
  },
  {
   "cell_type": "code",
   "execution_count": 11,
   "id": "4694abd2",
   "metadata": {
    "ExecuteTime": {
     "end_time": "2022-04-01T00:43:04.542678Z",
     "start_time": "2022-04-01T00:43:04.532726Z"
    }
   },
   "outputs": [],
   "source": [
    "spd = 1.5 # output speed\n",
    "vol = 1.05 # volume rise ratio if any\n",
    "bit = 16 # BitRate: 16K\n",
    "frq = 24000 # sampling stream frequency\n",
    "\n",
    "#Temporary parameters\n",
    "src, out = source, output\n",
    "# commands\n",
    "stg1 = f'ffmpeg -i {src} -filter:a \"atempo={spd},volume={vol}\" -q:a 100 {out}'\n",
    "stg2 = f\"ffmpeg -i {src} -ac 1 -b:a {bit}k -ar {frq} -write_xing 0 {out}\""
   ]
  },
  {
   "cell_type": "code",
   "execution_count": 6,
   "id": "b321d7ea",
   "metadata": {
    "ExecuteTime": {
     "end_time": "2022-04-01T00:38:50.557517Z",
     "start_time": "2022-04-01T00:38:50.546522Z"
    }
   },
   "outputs": [
    {
     "data": {
      "text/plain": [
       "'ffmpeg -i TestFile.mp3 -filter:a \"atempo=1.5,volume=1.0\" -q:a 100 OutFile.mp3'"
      ]
     },
     "execution_count": 6,
     "metadata": {},
     "output_type": "execute_result"
    }
   ],
   "source": [
    "stg1"
   ]
  },
  {
   "cell_type": "code",
   "execution_count": 8,
   "id": "bbd5c27b",
   "metadata": {
    "ExecuteTime": {
     "end_time": "2022-04-01T00:39:46.814787Z",
     "start_time": "2022-04-01T00:39:46.808803Z"
    }
   },
   "outputs": [
    {
     "data": {
      "text/plain": [
       "['ffmpeg',\n",
       " '-i',\n",
       " 'TestFile.mp3',\n",
       " '-filter:a',\n",
       " 'atempo=1.5,volume=1.0',\n",
       " '-q:a',\n",
       " '100',\n",
       " 'OutFile.mp3']"
      ]
     },
     "execution_count": 8,
     "metadata": {},
     "output_type": "execute_result"
    }
   ],
   "source": [
    "cmnd = shlex.split(stg1)\n",
    "cmnd"
   ]
  },
  {
   "cell_type": "code",
   "execution_count": 9,
   "id": "492f889c",
   "metadata": {
    "ExecuteTime": {
     "end_time": "2022-04-01T00:40:26.517056Z",
     "start_time": "2022-04-01T00:40:26.507084Z"
    }
   },
   "outputs": [
    {
     "data": {
      "text/plain": [
       "['ffmpeg',\n",
       " '-i',\n",
       " 'TestFile.mp3',\n",
       " '-filter:a',\n",
       " '\"atempo=1.5,volume=1.0\"',\n",
       " '-q:a',\n",
       " '100',\n",
       " 'OutFile.mp3']"
      ]
     },
     "execution_count": 9,
     "metadata": {},
     "output_type": "execute_result"
    }
   ],
   "source": [
    "# See if they are different\n",
    "stg1.split(\" \")"
   ]
  },
  {
   "cell_type": "code",
   "execution_count": null,
   "id": "35896cfd",
   "metadata": {},
   "outputs": [],
   "source": []
  }
 ],
 "metadata": {
  "kernelspec": {
   "display_name": "Python 3 (ipykernel)",
   "language": "python",
   "name": "python3"
  },
  "language_info": {
   "codemirror_mode": {
    "name": "ipython",
    "version": 3
   },
   "file_extension": ".py",
   "mimetype": "text/x-python",
   "name": "python",
   "nbconvert_exporter": "python",
   "pygments_lexer": "ipython3",
   "version": "3.8.12"
  },
  "varInspector": {
   "cols": {
    "lenName": 16,
    "lenType": 16,
    "lenVar": 40
   },
   "kernels_config": {
    "python": {
     "delete_cmd_postfix": "",
     "delete_cmd_prefix": "del ",
     "library": "var_list.py",
     "varRefreshCmd": "print(var_dic_list())"
    },
    "r": {
     "delete_cmd_postfix": ") ",
     "delete_cmd_prefix": "rm(",
     "library": "var_list.r",
     "varRefreshCmd": "cat(var_dic_list()) "
    }
   },
   "types_to_exclude": [
    "module",
    "function",
    "builtin_function_or_method",
    "instance",
    "_Feature"
   ],
   "window_display": false
  }
 },
 "nbformat": 4,
 "nbformat_minor": 5
}
