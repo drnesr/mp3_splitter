{
 "cells": [
  {
   "cell_type": "code",
   "execution_count": 4,
   "id": "12c28b01",
   "metadata": {
    "ExecuteTime": {
     "end_time": "2022-04-01T00:38:19.836386Z",
     "start_time": "2022-04-01T00:38:19.824419Z"
    }
   },
   "outputs": [],
   "source": [
    "# Imports\n",
    "import ffmpeg\n",
    "import os\n",
    "import subprocess\n",
    "import re\n",
    "import pandas as pd\n",
    "import numpy as np\n",
    "from mutagen.easyid3 import EasyID3\n",
    "import shlex"
   ]
  },
  {
   "cell_type": "code",
   "execution_count": 10,
   "id": "64242883",
   "metadata": {
    "ExecuteTime": {
     "end_time": "2022-04-01T00:42:19.411592Z",
     "start_time": "2022-04-01T00:42:19.404610Z"
    }
   },
   "outputs": [],
   "source": [
    "source = \"TestFile.mp3\"\n",
    "output = \"Outputs/OutFile.mp3\"\n",
    "check = \"TestFile2.mp3\""
   ]
  },
  {
   "cell_type": "code",
   "execution_count": 18,
   "id": "d4a9dd11",
   "metadata": {
    "ExecuteTime": {
     "end_time": "2022-04-01T00:50:07.580761Z",
     "start_time": "2022-04-01T00:50:07.566824Z"
    }
   },
   "outputs": [],
   "source": [
    "spd = 1.35 # output speed\n",
    "vol = 1.03 # volume rise ratio if any\n",
    "bit = 16 # BitRate: 16K\n",
    "frq = 24000 # sampling stream frequency\n",
    "\n",
    "#Temporary parameters\n",
    "src, out = source, output\n",
    "# commands\n",
    "stg1 = f'ffmpeg -i {src} -filter:a \"atempo={spd},volume={vol}\" -q:a 100 {out}'\n",
    "stg2 = f\"ffmpeg -i {src} -ac 1 -b:a {bit}k -ar {frq} -write_xing 0 {out}\""
   ]
  },
  {
   "cell_type": "code",
   "execution_count": 19,
   "id": "9e7fa6e9",
   "metadata": {
    "ExecuteTime": {
     "end_time": "2022-04-01T00:50:10.161796Z",
     "start_time": "2022-04-01T00:50:10.146867Z"
    }
   },
   "outputs": [
    {
     "data": {
      "text/plain": [
       "'ffmpeg -i TestFile.mp3 -filter:a \"atempo=1.35,volume=1.03\" -q:a 100 Outputs/OutFile.mp3'"
      ]
     },
     "execution_count": 19,
     "metadata": {},
     "output_type": "execute_result"
    }
   ],
   "source": [
    "stg1"
   ]
  },
  {
   "cell_type": "code",
   "execution_count": 8,
   "id": "27c7ffaf",
   "metadata": {
    "ExecuteTime": {
     "end_time": "2022-04-01T00:39:46.814787Z",
     "start_time": "2022-04-01T00:39:46.808803Z"
    }
   },
   "outputs": [
    {
     "data": {
      "text/plain": [
       "['ffmpeg',\n",
       " '-i',\n",
       " 'TestFile.mp3',\n",
       " '-filter:a',\n",
       " 'atempo=1.5,volume=1.0',\n",
       " '-q:a',\n",
       " '100',\n",
       " 'OutFile.mp3']"
      ]
     },
     "execution_count": 8,
     "metadata": {},
     "output_type": "execute_result"
    }
   ],
   "source": [
    "cmnd = shlex.split(stg1)\n",
    "cmnd"
   ]
  },
  {
   "cell_type": "code",
   "execution_count": 9,
   "id": "f89369e2",
   "metadata": {
    "ExecuteTime": {
     "end_time": "2022-04-01T00:40:26.517056Z",
     "start_time": "2022-04-01T00:40:26.507084Z"
    }
   },
   "outputs": [
    {
     "data": {
      "text/plain": [
       "['ffmpeg',\n",
       " '-i',\n",
       " 'TestFile.mp3',\n",
       " '-filter:a',\n",
       " '\"atempo=1.5,volume=1.0\"',\n",
       " '-q:a',\n",
       " '100',\n",
       " 'OutFile.mp3']"
      ]
     },
     "execution_count": 9,
     "metadata": {},
     "output_type": "execute_result"
    }
   ],
   "source": [
    "# See if they are different\n",
    "stg1.split(\" \")"
   ]
  },
  {
   "cell_type": "markdown",
   "id": "bbe4b767",
   "metadata": {},
   "source": [
    "**Trying to execute `ffmpeg` commands from python**\n",
    "\n",
    "Here: https://stackoverflow.com/a/67998291/5820024"
   ]
  },
  {
   "cell_type": "code",
   "execution_count": 20,
   "id": "886d2422",
   "metadata": {
    "ExecuteTime": {
     "end_time": "2022-04-01T00:50:21.907527Z",
     "start_time": "2022-04-01T00:50:19.794734Z"
    }
   },
   "outputs": [
    {
     "data": {
      "text/plain": [
       "0"
      ]
     },
     "execution_count": 20,
     "metadata": {},
     "output_type": "execute_result"
    }
   ],
   "source": [
    "#Stage 1\n",
    "src, out = source, output\n",
    "stg1 = f'ffmpeg -i {src} -filter:a \"atempo={spd},volume={vol}\" -q:a 100 {out}'\n",
    "subprocess.call(stg1, shell=True)"
   ]
  },
  {
   "cell_type": "code",
   "execution_count": 23,
   "id": "2aa0d503",
   "metadata": {
    "ExecuteTime": {
     "end_time": "2022-04-01T00:55:52.313609Z",
     "start_time": "2022-04-01T00:55:05.101932Z"
    }
   },
   "outputs": [
    {
     "data": {
      "text/plain": [
       "0"
      ]
     },
     "execution_count": 23,
     "metadata": {},
     "output_type": "execute_result"
    }
   ],
   "source": [
    "# Stage 2\n",
    "src, out = out, 'Outputs/OutFileStage2.mp3'\n",
    "stg2 = f\"ffmpeg -i {src} -ac 1 -b:a {bit}k -ar {frq} -write_xing 0 {out}\"\n",
    "\n",
    "subprocess.call(stg2, shell=True)"
   ]
  },
  {
   "cell_type": "code",
   "execution_count": 24,
   "id": "ea92a460",
   "metadata": {
    "ExecuteTime": {
     "end_time": "2022-04-01T00:56:42.966224Z",
     "start_time": "2022-04-01T00:56:42.947284Z"
    }
   },
   "outputs": [
    {
     "data": {
      "text/plain": [
       "'ffmpeg -i Outputs/OutFile.mp3 -ac 1 -b:a 16k -ar 24000 -write_xing 0 Outputs/OutFileStage2.mp3'"
      ]
     },
     "execution_count": 24,
     "metadata": {},
     "output_type": "execute_result"
    }
   ],
   "source": [
    "stg2"
   ]
  },
  {
   "cell_type": "code",
   "execution_count": 27,
   "id": "21e9b982",
   "metadata": {
    "ExecuteTime": {
     "end_time": "2022-04-01T01:00:00.657840Z",
     "start_time": "2022-04-01T01:00:00.649860Z"
    }
   },
   "outputs": [
    {
     "data": {
      "text/plain": [
       "True"
      ]
     },
     "execution_count": 27,
     "metadata": {},
     "output_type": "execute_result"
    }
   ],
   "source": [
    "\"ffmpeg -i Fast\\023_Al_Mu_Z_minun\\23AlMu_Z_minun13o14T7.9o9.3.mp3 -ac 1 -b:a 16k -ar 24000 -write_xing 0 Final\\023_Al_Mu_Z_minun\\23Nesr13o14T7.9o9.3.mp3\"\n",
    "\"ffmpeg -i Outputs/OutFile.mp3 -ac 1 -b:a 16k -ar 24000 -write_xing 0 Outputs/OutFileStage2.mp3\" ==stg2"
   ]
  },
  {
   "cell_type": "markdown",
   "id": "56643d1e",
   "metadata": {},
   "source": [
    "Trying to find the best ffmpeg commands,\n",
    "\n",
    "from these posts:\n",
    "1. https://stackoverflow.com/a/12952172/5820024\n",
    "2. https://stackoverflow.com/a/39789131/5820024\n",
    "3. https://superuser.com/a/553049/724450\n",
    "4. https://superuser.com/a/704535/724450\n",
    "    "
   ]
  },
  {
   "cell_type": "code",
   "execution_count": 31,
   "id": "cff41b16",
   "metadata": {
    "ExecuteTime": {
     "end_time": "2022-04-01T02:11:49.068275Z",
     "start_time": "2022-04-01T02:11:47.066589Z"
    }
   },
   "outputs": [
    {
     "name": "stdout",
     "output_type": "stream",
     "text": [
      "ffmpeg -y -i TestFile.mp3 -filter:a \"atempo=1.35,volume=0.95\" -vn -ar 44100 -ac 2 -b:a 16k -write_xing 0 Outputs/OutFileOneShot.mp3\n",
      "failed :-\\(\n"
     ]
    }
   ],
   "source": [
    "src = source\n",
    "out = 'Outputs/OutFileOneShot.mp3'\n",
    "vol = 0.95\n",
    "ffmpeg_command = f'ffmpeg -y -i {src} -filter:a \"atempo={spd},volume={vol}\" '\n",
    "ffmpeg_command += f'-vn -ar 44100 -ac 2 -b:a 16k -write_xing 0 {out}'\n",
    "print(ffmpeg_command)\n",
    "performed = subprocess.call(ffmpeg_command, shell=True)\n",
    "if performed:\n",
    "    print(\"*Done*\")\n",
    "else:\n",
    "    print(\"failed :-\\(\")"
   ]
  },
  {
   "cell_type": "code",
   "execution_count": null,
   "id": "68d19ad0",
   "metadata": {},
   "outputs": [],
   "source": []
  }
 ],
 "metadata": {
  "kernelspec": {
   "display_name": "Python 3 (ipykernel)",
   "language": "python",
   "name": "python3"
  },
  "language_info": {
   "codemirror_mode": {
    "name": "ipython",
    "version": 3
   },
   "file_extension": ".py",
   "mimetype": "text/x-python",
   "name": "python",
   "nbconvert_exporter": "python",
   "pygments_lexer": "ipython3",
   "version": "3.8.12"
  },
  "varInspector": {
   "cols": {
    "lenName": 16,
    "lenType": 16,
    "lenVar": 40
   },
   "kernels_config": {
    "python": {
     "delete_cmd_postfix": "",
     "delete_cmd_prefix": "del ",
     "library": "var_list.py",
     "varRefreshCmd": "print(var_dic_list())"
    },
    "r": {
     "delete_cmd_postfix": ") ",
     "delete_cmd_prefix": "rm(",
     "library": "var_list.r",
     "varRefreshCmd": "cat(var_dic_list()) "
    }
   },
   "types_to_exclude": [
    "module",
    "function",
    "builtin_function_or_method",
    "instance",
    "_Feature"
   ],
   "window_display": false
  }
 },
 "nbformat": 4,
 "nbformat_minor": 5
}
