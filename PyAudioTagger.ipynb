{
 "cells": [
  {
   "cell_type": "code",
   "execution_count": 2,
   "id": "3669d197",
   "metadata": {
    "ExecuteTime": {
     "end_time": "2022-03-18T03:27:29.563320Z",
     "start_time": "2022-03-18T03:27:29.547363Z"
    }
   },
   "outputs": [],
   "source": [
    "# Imports\n",
    "import ffmpeg\n",
    "import os\n",
    "import subprocess\n",
    "import re\n",
    "import pandas as pd\n",
    "import numpy as np\n",
    "from mutagen.easyid3 import EasyID3"
   ]
  },
  {
   "cell_type": "code",
   "execution_count": 3,
   "id": "a70a6c09",
   "metadata": {
    "ExecuteTime": {
     "end_time": "2022-03-18T03:27:55.306026Z",
     "start_time": "2022-03-18T03:27:55.291063Z"
    }
   },
   "outputs": [],
   "source": [
    "source = \"TestFile.mp3\"\n",
    "output = \"OutFile.mp3\""
   ]
  },
  {
   "cell_type": "markdown",
   "id": "2e72abb5",
   "metadata": {},
   "source": [
    "Found the method of **changing MP3 metadata** in this post: <br>\n",
    "https://stackoverflow.com/a/34970600/5820024"
   ]
  },
  {
   "cell_type": "code",
   "execution_count": 4,
   "id": "51eafbf6",
   "metadata": {
    "ExecuteTime": {
     "end_time": "2022-03-18T03:28:41.771524Z",
     "start_time": "2022-03-18T03:28:41.761523Z"
    }
   },
   "outputs": [],
   "source": [
    "audio = EasyID3(source)"
   ]
  },
  {
   "cell_type": "code",
   "execution_count": 5,
   "id": "6b0b0541",
   "metadata": {
    "ExecuteTime": {
     "end_time": "2022-03-18T03:29:23.042011Z",
     "start_time": "2022-03-18T03:29:23.034032Z"
    }
   },
   "outputs": [
    {
     "data": {
      "text/plain": [
       "'TestFile.mp3'"
      ]
     },
     "execution_count": 5,
     "metadata": {},
     "output_type": "execute_result"
    }
   ],
   "source": [
    "audio.filename"
   ]
  },
  {
   "cell_type": "code",
   "execution_count": 6,
   "id": "e0a647bb",
   "metadata": {
    "ExecuteTime": {
     "end_time": "2022-03-18T03:29:39.893529Z",
     "start_time": "2022-03-18T03:29:39.883529Z"
    }
   },
   "outputs": [
    {
     "data": {
      "text/plain": [
       "['TestFile_1/4']"
      ]
     },
     "execution_count": 6,
     "metadata": {},
     "output_type": "execute_result"
    }
   ],
   "source": [
    "audio['title']"
   ]
  },
  {
   "cell_type": "code",
   "execution_count": 9,
   "id": "a923342f",
   "metadata": {
    "ExecuteTime": {
     "end_time": "2022-03-18T03:32:39.733535Z",
     "start_time": "2022-03-18T03:32:39.711592Z"
    }
   },
   "outputs": [],
   "source": [
    "audio['title'] = u\"Example Title\"\n",
    "audio['artist'] = u\"Me\"\n",
    "audio['album'] = u\"My album\"\n",
    "audio['composer'] = u\"\" # clear\n",
    "audio.save()"
   ]
  },
  {
   "cell_type": "code",
   "execution_count": 15,
   "id": "4d9327c5",
   "metadata": {
    "ExecuteTime": {
     "end_time": "2022-03-18T03:38:48.653268Z",
     "start_time": "2022-03-18T03:38:48.628308Z"
    }
   },
   "outputs": [
    {
     "name": "stdout",
     "output_type": "stream",
     "text": [
      "['ما الخلافة الراشدة؟ | قصة الخلافة الراشدة [01]']\n",
      "['سُنَّة الخلفاء الراشدين | قصة الخلافة الراشدة [02]']\n",
      "['الترتيب النبوي للخلفاء | قصة الخلافة الراشدة [03]']\n",
      "['الخلافة بين المهاجرين والأنصار | قصة الخلافة الراشدة [04]']\n",
      "['استخلاف أبي بكر الصديق | قصة الخلافة الراشدة [05]']\n",
      "['لماذا ارتدت العرب بعد وفاة الرسول صلى الله عليه وسلم؟ | قصة الخلافة الراشدة [06]']\n",
      "['بعث أسامة بن زيد | قصة الخلافة الراشدة [07]']\n",
      "['حُرُوبُ الرِّدَّةِ  | قصة الخلافة الراشدة [08]']\n",
      "['معركة اليمامة | قصة الخلافة الراشدة [09]']\n"
     ]
    }
   ],
   "source": [
    "folder = \"X:/Music/RightlyGuidedCalifate/\"\n",
    "for file_number in range(1, 10): # the last file is #107\n",
    "    src = f\"{folder}RGC{file_number:03d}_.mp3\"\n",
    "    audio = EasyID3(src)\n",
    "    print(audio['title'])\n"
   ]
  },
  {
   "cell_type": "markdown",
   "id": "a84cc5b7",
   "metadata": {},
   "source": [
    "**Sample Arabic output of the titles**<br>\n",
    "`['ما الخلافة الراشدة؟ | قصة الخلافة الراشدة [01]']\n",
    "['سُنَّة الخلفاء الراشدين | قصة الخلافة الراشدة [02]']\n",
    "['الترتيب النبوي للخلفاء | قصة الخلافة الراشدة [03]']\n",
    "['الخلافة بين المهاجرين والأنصار | قصة الخلافة الراشدة [04]']\n",
    "['استخلاف أبي بكر الصديق | قصة الخلافة الراشدة [05]']\n",
    "['لماذا ارتدت العرب بعد وفاة الرسول صلى الله عليه وسلم؟ | قصة الخلافة الراشدة [06]']\n",
    "['بعث أسامة بن زيد | قصة الخلافة الراشدة [07]']\n",
    "['حُرُوبُ الرِّدَّةِ  | قصة الخلافة الراشدة [08]']\n",
    "['معركة اليمامة | قصة الخلافة الراشدة [09]']`\n",
    "\n",
    "**Now, let's get the list of new titles**"
   ]
  },
  {
   "cell_type": "code",
   "execution_count": 16,
   "id": "a8fa8cb0",
   "metadata": {
    "ExecuteTime": {
     "end_time": "2022-03-18T03:50:28.152736Z",
     "start_time": "2022-03-18T03:50:28.116803Z"
    }
   },
   "outputs": [
    {
     "data": {
      "text/html": [
       "<div>\n",
       "<style scoped>\n",
       "    .dataframe tbody tr th:only-of-type {\n",
       "        vertical-align: middle;\n",
       "    }\n",
       "\n",
       "    .dataframe tbody tr th {\n",
       "        vertical-align: top;\n",
       "    }\n",
       "\n",
       "    .dataframe thead th {\n",
       "        text-align: right;\n",
       "    }\n",
       "</style>\n",
       "<table border=\"1\" class=\"dataframe\">\n",
       "  <thead>\n",
       "    <tr style=\"text-align: right;\">\n",
       "      <th></th>\n",
       "      <th>Number</th>\n",
       "      <th>EnName</th>\n",
       "    </tr>\n",
       "  </thead>\n",
       "  <tbody>\n",
       "    <tr>\n",
       "      <th>0</th>\n",
       "      <td>1</td>\n",
       "      <td>Rightly Guided Caliphate</td>\n",
       "    </tr>\n",
       "    <tr>\n",
       "      <th>1</th>\n",
       "      <td>2</td>\n",
       "      <td>Sunnah of the RGCs</td>\n",
       "    </tr>\n",
       "    <tr>\n",
       "      <th>2</th>\n",
       "      <td>3</td>\n",
       "      <td>Prophet's Order of Caliphs</td>\n",
       "    </tr>\n",
       "    <tr>\n",
       "      <th>3</th>\n",
       "      <td>4</td>\n",
       "      <td>MuhajirAnsarCaliphSelection</td>\n",
       "    </tr>\n",
       "    <tr>\n",
       "      <th>4</th>\n",
       "      <td>5</td>\n",
       "      <td>Abu Bakr as-Siddiq the calif</td>\n",
       "    </tr>\n",
       "  </tbody>\n",
       "</table>\n",
       "</div>"
      ],
      "text/plain": [
       "   Number                        EnName\n",
       "0       1      Rightly Guided Caliphate\n",
       "1       2            Sunnah of the RGCs\n",
       "2       3    Prophet's Order of Caliphs\n",
       "3       4   MuhajirAnsarCaliphSelection\n",
       "4       5  Abu Bakr as-Siddiq the calif"
      ]
     },
     "execution_count": 16,
     "metadata": {},
     "output_type": "execute_result"
    }
   ],
   "source": [
    "df=pd.read_csv(f'{folder}EnglishNames.csv')\n",
    "df.head()"
   ]
  },
  {
   "cell_type": "markdown",
   "id": "683ad670",
   "metadata": {},
   "source": [
    "**Put them all in a dictionary, to make it easy for merging**"
   ]
  },
  {
   "cell_type": "code",
   "execution_count": 19,
   "id": "a0b96627",
   "metadata": {
    "ExecuteTime": {
     "end_time": "2022-03-18T03:51:51.541845Z",
     "start_time": "2022-03-18T03:51:51.518906Z"
    }
   },
   "outputs": [
    {
     "data": {
      "text/plain": [
       "{0: 'Rightly Guided Caliphate',\n",
       " 1: 'Sunnah of the RGCs',\n",
       " 2: \"Prophet's Order of Caliphs\",\n",
       " 3: 'MuhajirAnsarCaliphSelection',\n",
       " 4: 'Abu Bakr as-Siddiq the calif',\n",
       " 5: 'Arabs apostate reasons',\n",
       " 6: 'Osama bin Zaid army',\n",
       " 7: 'Wars of apostasy',\n",
       " 8: 'Yamama battle',\n",
       " 9: 'The death of Fatima',\n",
       " 10: 'Quran collection',\n",
       " 11: 'Islamic conquests miracle',\n",
       " 12: 'WhyIslamicConquestsSucceeds?',\n",
       " 13: 'The islamic ethics of wars',\n",
       " 14: 'Why Muslims conquer Persia?',\n",
       " 15: 'Khalid, the sword of Allah',\n",
       " 16: 'The road to confusion',\n",
       " 17: 'open AlHira',\n",
       " 18: 'Khalid facing the allies',\n",
       " 19: \"Khalid's victories secret\",\n",
       " 20: 'KhalidMostDangerousDecision',\n",
       " 21: 'Fattouh Al-Sham begins',\n",
       " 22: 'Amr ibn al-Aas in the Levant',\n",
       " 23: 'Crossing AlSamawa desert',\n",
       " 24: 'Road to Bosra & Ajnadayn',\n",
       " 25: 'Iraq after Khalid',\n",
       " 26: 'AbuBakrDeath&OmarSuccession',\n",
       " 27: 'TheRightlyGuidedCaliph Omar ',\n",
       " 28: 'The virtues of Omar ',\n",
       " 29: 'OmarMobilizesToPersia',\n",
       " 30: 'AbiObaidBinMasoudAl-Thaqafi',\n",
       " 31: 'AbuObaid Al-Thaqafi to Iraq',\n",
       " 32: 'Get out of the bridge crisis',\n",
       " 33: 'Omar’sWill4UtbahBinGhazwan',\n",
       " 34: 'The road to Qadisiyah',\n",
       " 35: 'Al-Qadisiyah Battle Part1',\n",
       " 36: 'Al-Qadisiyah Battle Part2',\n",
       " 37: 'AlQadisiyah Battle thoughts',\n",
       " 38: \"open AlMada'en\",\n",
       " 39: 'Why did Omar Cry?',\n",
       " 40: 'Persian resistance',\n",
       " 41: 'StoppingFotouhFaresdecision',\n",
       " 42: \"Omar' way building cities\",\n",
       " 43: 'SunnahCommitment&StatePower',\n",
       " 44: 'open Tustor',\n",
       " 45: 'Why Muslims won in Tustur?',\n",
       " 46: 'MuslimsMoralsOpeningTostor',\n",
       " 47: 'Omar Court of Hormuzgan',\n",
       " 48: 'SaadDismissal&HormzanAdvice',\n",
       " 49: 'The road to Nahawand',\n",
       " 50: 'The two armies of Nahawand',\n",
       " 51: 'Nahawand Fateh Al Fotouh',\n",
       " 52: 'Jizya in Islamic Sharia',\n",
       " 53: 'Tribute (Jizya) in Persia',\n",
       " 54: 'Fall of the Persian Empire',\n",
       " 55: 'AlSham conquests beginning',\n",
       " 56: 'dismission of Khalid',\n",
       " 57: 'Between Omar and Khaled',\n",
       " 58: 'MuslimsAfterDismissingKhalid',\n",
       " 59: 'AlshamAfterKhaledDismissal',\n",
       " 60: 'Battle of Fahal Beisan',\n",
       " 61: 'Conquest of Damascus',\n",
       " 62: 'The road to Yarmouk',\n",
       " 63: 'The battle of Yarmouk',\n",
       " 64: 'The Yarmouk battle plan',\n",
       " 65: 'RomanLeaderIslam@Yarmouk',\n",
       " 66: 'The Battle of Yarmouk round1',\n",
       " 67: 'Details of Yarmouk Day',\n",
       " 68: \"Between Yarmouk and Mu'tah\",\n",
       " 69: 'Completing Fattouh Al Sham',\n",
       " 70: 'The road to Jerusalem',\n",
       " 71: 'Omar  in the Levant',\n",
       " 72: 'conquest of Jerusalem',\n",
       " 73: 'Q/A JerusalemConquest ',\n",
       " 74: 'The Roman Siege of Homs',\n",
       " 75: 'Plague of Emmaus 1',\n",
       " 76: 'Plague of Emmaus 2',\n",
       " 77: 'Plague of Emmaus end',\n",
       " 78: 'Is Corona a plague?',\n",
       " 79: 'Q/A plague vs Corona 1',\n",
       " 80: 'Q/A plague vs Corona 2',\n",
       " 81: 'Egypt conquest miracle',\n",
       " 82: 'Egypt before Islam',\n",
       " 83: 'The conquest of Egypt ',\n",
       " 84: 'Amr, the Conqueror of Egypt',\n",
       " 85: 'How do we write history?',\n",
       " 86: 'The Fattouh book of Egypt',\n",
       " 87: 'Narrators of Egypt conquest',\n",
       " 88: 'DifferentOpinion 4 FatehMisr',\n",
       " 89: 'Why Amr opened Egypt?',\n",
       " 90: 'Amr conquerence of Sinai',\n",
       " 91: 'Open Farma and Belbeis',\n",
       " 92: 'The world in Egypt fath era',\n",
       " 93: 'The road to Babylon',\n",
       " 94: 'Zubair vision of Imara',\n",
       " 95: 'Zubair, Miqdad and Obada',\n",
       " 96: 'Alsabiqoon',\n",
       " 97: 'How a man be like 1000',\n",
       " 98: 'YoungMen=1000Men',\n",
       " 99: 'Siege of Babylon',\n",
       " 100: \"EgyptConqr.Army's reputation\",\n",
       " 101: 'Negtn. Ubadah & al-Muqawqis',\n",
       " 102: 'AlMuqawqis and Romans',\n",
       " 103: 'The story of Hercules',\n",
       " 104: 'The ProphetMessage to romans',\n",
       " 105: 'Hercules mystery',\n",
       " 106: 'Zubair & Miracle of Babylon'}"
      ]
     },
     "execution_count": 19,
     "metadata": {},
     "output_type": "execute_result"
    }
   ],
   "source": [
    "english_names = df.EnName.to_dict()\n",
    "english_names"
   ]
  },
  {
   "cell_type": "markdown",
   "id": "5f83861d",
   "metadata": {},
   "source": [
    "**Create a loop of merging**\n",
    "\n",
    "***Valid keys are found here***\n",
    "`https://from-locals.com/python-mutagen-mp3-id3/`"
   ]
  },
  {
   "cell_type": "code",
   "execution_count": 26,
   "id": "1d605eee",
   "metadata": {
    "ExecuteTime": {
     "end_time": "2022-03-20T17:54:42.526623Z",
     "start_time": "2022-03-20T17:54:31.235165Z"
    }
   },
   "outputs": [],
   "source": [
    "folder = \"X:/Music/RightlyGuidedCalifate/\"\n",
    "for file_number in range(1, 10): # the last file is #107\n",
    "    print(src)\n",
    "    src = f\"{folder}RGC{file_number:03d}_.mp3\"\n",
    "    audio = EasyID3(src)\n",
    "    audio['title'] = f\"{english_names[file_number-1]}\"\n",
    "    audio['artist'] = u\"Dr. Ragheb ElSergany\"\n",
    "    audio['album'] = u\"The Rightly Guided Caliphate\"\n",
    "    audio['composer'] = u\"Dr. Mohammad Elnesr\" \n",
    "    audio['Date'] = u\"2021-2022\" \n",
    "    audio['genre'] = u\"Non fiction\" \n",
    "    #audio['COVER_FRONT'] = u\"\" # Clear\n",
    "    audio['website'] = u\"https://youtu.be/anQVP6g7UWc\" \n",
    "    audio.save()\n",
    "    audio = None # free memory"
   ]
  },
  {
   "cell_type": "code",
   "execution_count": 27,
   "id": "cae869d9",
   "metadata": {
    "ExecuteTime": {
     "end_time": "2022-03-20T18:02:39.188310Z",
     "start_time": "2022-03-20T18:02:28.324309Z"
    }
   },
   "outputs": [],
   "source": [
    "audio = EasyID3(src)"
   ]
  },
  {
   "cell_type": "code",
   "execution_count": 28,
   "id": "2506d636",
   "metadata": {
    "ExecuteTime": {
     "end_time": "2022-03-20T18:03:19.138805Z",
     "start_time": "2022-03-20T18:03:19.130811Z"
    }
   },
   "outputs": [
    {
     "data": {
      "text/plain": [
       "dict_keys(['performer:*', 'replaygain_*_gain'])"
      ]
     },
     "execution_count": 28,
     "metadata": {},
     "output_type": "execute_result"
    }
   ],
   "source": [
    "audio.List.keys()"
   ]
  },
  {
   "cell_type": "code",
   "execution_count": null,
   "id": "2ed14152",
   "metadata": {},
   "outputs": [],
   "source": []
  }
 ],
 "metadata": {
  "kernelspec": {
   "display_name": "Python 3 (ipykernel)",
   "language": "python",
   "name": "python3"
  },
  "language_info": {
   "codemirror_mode": {
    "name": "ipython",
    "version": 3
   },
   "file_extension": ".py",
   "mimetype": "text/x-python",
   "name": "python",
   "nbconvert_exporter": "python",
   "pygments_lexer": "ipython3",
   "version": "3.8.12"
  },
  "varInspector": {
   "cols": {
    "lenName": 16,
    "lenType": 16,
    "lenVar": 40
   },
   "kernels_config": {
    "python": {
     "delete_cmd_postfix": "",
     "delete_cmd_prefix": "del ",
     "library": "var_list.py",
     "varRefreshCmd": "print(var_dic_list())"
    },
    "r": {
     "delete_cmd_postfix": ") ",
     "delete_cmd_prefix": "rm(",
     "library": "var_list.r",
     "varRefreshCmd": "cat(var_dic_list()) "
    }
   },
   "types_to_exclude": [
    "module",
    "function",
    "builtin_function_or_method",
    "instance",
    "_Feature"
   ],
   "window_display": false
  }
 },
 "nbformat": 4,
 "nbformat_minor": 5
}
