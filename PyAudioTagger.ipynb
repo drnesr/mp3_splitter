{
 "cells": [
  {
   "cell_type": "code",
   "execution_count": 2,
   "id": "7d54d660",
   "metadata": {
    "ExecuteTime": {
     "end_time": "2022-03-18T03:27:29.563320Z",
     "start_time": "2022-03-18T03:27:29.547363Z"
    }
   },
   "outputs": [],
   "source": [
    "# Imports\n",
    "import ffmpeg\n",
    "import os\n",
    "import subprocess\n",
    "import re\n",
    "import pandas as pd\n",
    "import numpy as np\n",
    "from mutagen.easyid3 import EasyID3"
   ]
  },
  {
   "cell_type": "code",
   "execution_count": 3,
   "id": "6bf04149",
   "metadata": {
    "ExecuteTime": {
     "end_time": "2022-03-18T03:27:55.306026Z",
     "start_time": "2022-03-18T03:27:55.291063Z"
    }
   },
   "outputs": [],
   "source": [
    "source = \"TestFile.mp3\"\n",
    "output = \"OutFile.mp3\""
   ]
  },
  {
   "cell_type": "code",
   "execution_count": 4,
   "id": "485e1a21",
   "metadata": {
    "ExecuteTime": {
     "end_time": "2022-03-18T03:28:41.771524Z",
     "start_time": "2022-03-18T03:28:41.761523Z"
    }
   },
   "outputs": [],
   "source": [
    "audio = EasyID3(source)"
   ]
  },
  {
   "cell_type": "code",
   "execution_count": 5,
   "id": "0c71c72c",
   "metadata": {
    "ExecuteTime": {
     "end_time": "2022-03-18T03:29:23.042011Z",
     "start_time": "2022-03-18T03:29:23.034032Z"
    }
   },
   "outputs": [
    {
     "data": {
      "text/plain": [
       "'TestFile.mp3'"
      ]
     },
     "execution_count": 5,
     "metadata": {},
     "output_type": "execute_result"
    }
   ],
   "source": [
    "audio.filename"
   ]
  },
  {
   "cell_type": "code",
   "execution_count": 6,
   "id": "bf15d778",
   "metadata": {
    "ExecuteTime": {
     "end_time": "2022-03-18T03:29:39.893529Z",
     "start_time": "2022-03-18T03:29:39.883529Z"
    }
   },
   "outputs": [
    {
     "data": {
      "text/plain": [
       "['TestFile_1/4']"
      ]
     },
     "execution_count": 6,
     "metadata": {},
     "output_type": "execute_result"
    }
   ],
   "source": [
    "audio['title']"
   ]
  },
  {
   "cell_type": "code",
   "execution_count": 9,
   "id": "6fc15cf6",
   "metadata": {
    "ExecuteTime": {
     "end_time": "2022-03-18T03:32:39.733535Z",
     "start_time": "2022-03-18T03:32:39.711592Z"
    }
   },
   "outputs": [],
   "source": [
    "audio['title'] = u\"Example Title\"\n",
    "audio['artist'] = u\"Me\"\n",
    "audio['album'] = u\"My album\"\n",
    "audio['composer'] = u\"\" # clear\n",
    "audio.save()"
   ]
  },
  {
   "cell_type": "code",
   "execution_count": 15,
   "id": "3edb3058",
   "metadata": {
    "ExecuteTime": {
     "end_time": "2022-03-18T03:38:48.653268Z",
     "start_time": "2022-03-18T03:38:48.628308Z"
    }
   },
   "outputs": [
    {
     "name": "stdout",
     "output_type": "stream",
     "text": [
      "['ما الخلافة الراشدة؟ | قصة الخلافة الراشدة [01]']\n",
      "['سُنَّة الخلفاء الراشدين | قصة الخلافة الراشدة [02]']\n",
      "['الترتيب النبوي للخلفاء | قصة الخلافة الراشدة [03]']\n",
      "['الخلافة بين المهاجرين والأنصار | قصة الخلافة الراشدة [04]']\n",
      "['استخلاف أبي بكر الصديق | قصة الخلافة الراشدة [05]']\n",
      "['لماذا ارتدت العرب بعد وفاة الرسول صلى الله عليه وسلم؟ | قصة الخلافة الراشدة [06]']\n",
      "['بعث أسامة بن زيد | قصة الخلافة الراشدة [07]']\n",
      "['حُرُوبُ الرِّدَّةِ  | قصة الخلافة الراشدة [08]']\n",
      "['معركة اليمامة | قصة الخلافة الراشدة [09]']\n"
     ]
    }
   ],
   "source": [
    "folder = \"X:/Music/RightlyGuidedCalifate/\"\n",
    "for file_number in range(1, 10): # the last file is #107\n",
    "    src = f\"{folder}RGC{file_number:03d}_.mp3\"\n",
    "    audio = EasyID3(src)\n",
    "    print(audio['title'])\n"
   ]
  },
  {
   "cell_type": "code",
   "execution_count": null,
   "id": "9f926dac",
   "metadata": {},
   "outputs": [],
   "source": []
  }
 ],
 "metadata": {
  "kernelspec": {
   "display_name": "Python 3 (ipykernel)",
   "language": "python",
   "name": "python3"
  },
  "language_info": {
   "codemirror_mode": {
    "name": "ipython",
    "version": 3
   },
   "file_extension": ".py",
   "mimetype": "text/x-python",
   "name": "python",
   "nbconvert_exporter": "python",
   "pygments_lexer": "ipython3",
   "version": "3.8.12"
  },
  "varInspector": {
   "cols": {
    "lenName": 16,
    "lenType": 16,
    "lenVar": 40
   },
   "kernels_config": {
    "python": {
     "delete_cmd_postfix": "",
     "delete_cmd_prefix": "del ",
     "library": "var_list.py",
     "varRefreshCmd": "print(var_dic_list())"
    },
    "r": {
     "delete_cmd_postfix": ") ",
     "delete_cmd_prefix": "rm(",
     "library": "var_list.r",
     "varRefreshCmd": "cat(var_dic_list()) "
    }
   },
   "types_to_exclude": [
    "module",
    "function",
    "builtin_function_or_method",
    "instance",
    "_Feature"
   ],
   "window_display": false
  }
 },
 "nbformat": 4,
 "nbformat_minor": 5
}
