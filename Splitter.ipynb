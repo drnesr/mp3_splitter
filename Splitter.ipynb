{
 "cells": [
  {
   "cell_type": "code",
   "execution_count": 1,
   "id": "14b813c8",
   "metadata": {
    "ExecuteTime": {
     "end_time": "2022-03-16T04:58:29.719053Z",
     "start_time": "2022-03-16T04:58:29.715090Z"
    }
   },
   "outputs": [],
   "source": [
    "# !pip install ffmpeg-python"
   ]
  },
  {
   "cell_type": "markdown",
   "id": "bd026d3c",
   "metadata": {},
   "source": [
    "Collecting ffmpeg-python\n",
    "\n",
    "  Downloading ffmpeg_python-0.2.0-py3-none-any.whl (25 kB)\n",
    "  \n",
    "Requirement already satisfied: future in c:\\programdata\\anaconda3\\lib\\site-packages (from ffmpeg-python) (0.18.2)\n",
    "\n",
    "Installing collected packages: ffmpeg-python\n",
    "\n",
    "Successfully installed ffmpeg-python-0.2.0"
   ]
  },
  {
   "cell_type": "code",
   "execution_count": 6,
   "id": "f2380af2",
   "metadata": {
    "ExecuteTime": {
     "end_time": "2022-03-16T05:07:52.998508Z",
     "start_time": "2022-03-16T05:07:52.982551Z"
    }
   },
   "outputs": [],
   "source": [
    "import ffmpeg\n",
    "import os\n",
    "import subprocess"
   ]
  },
  {
   "cell_type": "code",
   "execution_count": 22,
   "id": "6ca3b4e9",
   "metadata": {
    "ExecuteTime": {
     "end_time": "2022-03-17T03:55:48.339786Z",
     "start_time": "2022-03-17T03:55:48.328814Z"
    }
   },
   "outputs": [],
   "source": [
    "source = \"TestFile.mp3\"\n",
    "output = \"OutFile.mp3\"\n",
    "check = \"TestFile2.mp3\""
   ]
  },
  {
   "cell_type": "code",
   "execution_count": 4,
   "id": "f4dbb055",
   "metadata": {
    "ExecuteTime": {
     "end_time": "2022-03-16T04:58:32.445693Z",
     "start_time": "2022-03-16T04:58:32.430733Z"
    }
   },
   "outputs": [],
   "source": [
    "spd = 1.5 # output speed\n",
    "vol = 1.0 # volume rise ratio if any\n",
    "bit = 16 # BitRate: 16K\n",
    "frq = 24000 # sampling stream frequency\n",
    "\n",
    "#Temporary parameters\n",
    "src, out = source, output\n",
    "# commands\n",
    "stg1 = f'ffmpeg -i {src} -filter:a \"atempo={spd},volume={vol}\" -q:a 100 {out}'\n",
    "stg2 = f\"ffmpeg -i {src} -ac 1 -b:a {bit}k -ar {frq} -write_xing 0 {output}\""
   ]
  },
  {
   "cell_type": "markdown",
   "id": "3b4ace68",
   "metadata": {},
   "source": [
    "### Finding silence and intervals, from this post\n",
    "https://stackoverflow.com/questions/14590279/error-nameerror-name-subprocess-is-not-defined"
   ]
  },
  {
   "cell_type": "code",
   "execution_count": 12,
   "id": "c928adff",
   "metadata": {
    "ExecuteTime": {
     "end_time": "2022-03-16T05:11:20.064001Z",
     "start_time": "2022-03-16T05:11:19.552098Z"
    }
   },
   "outputs": [
    {
     "data": {
      "text/plain": [
       "b\"ffmpeg version 4.3.1 Copyright (c) 2000-2020 the FFmpeg developers\\r\\n  built with gcc 10.2.1 (GCC) 20200726\\r\\n  configuration: --disable-static --enable-shared --enable-gpl --enable-version3 --enable-sdl2 --enable-fontconfig --enable-gnutls --enable-iconv --enable-libass --enable-libdav1d --enable-libbluray --enable-libfreetype --enable-libmp3lame --enable-libopencore-amrnb --enable-libopencore-amrwb --enable-libopenjpeg --enable-libopus --enable-libshine --enable-libsnappy --enable-libsoxr --enable-libsrt --enable-libtheora --enable-libtwolame --enable-libvpx --enable-libwavpack --enable-libwebp --enable-libx264 --enable-libx265 --enable-libxml2 --enable-libzimg --enable-lzma --enable-zlib --enable-gmp --enable-libvidstab --enable-libvmaf --enable-libvorbis --enable-libvo-amrwbenc --enable-libmysofa --enable-libspeex --enable-libxvid --enable-libaom --enable-libgsm --enable-librav1e --disable-w32threads --enable-libmfx --enable-ffnvcodec --enable-cuda-llvm --enable-cuvid --enable-d3d11va --enable-nvenc --enable-nvdec --enable-dxva2 --enable-avisynth --enable-libopenmpt --enable-amf\\r\\n  libavutil      56. 51.100 / 56. 51.100\\r\\n  libavcodec     58. 91.100 / 58. 91.100\\r\\n  libavformat    58. 45.100 / 58. 45.100\\r\\n  libavdevice    58. 10.100 / 58. 10.100\\r\\n  libavfilter     7. 85.100 /  7. 85.100\\r\\n  libswscale      5.  7.100 /  5.  7.100\\r\\n  libswresample   3.  7.100 /  3.  7.100\\r\\n  libpostproc    55.  7.100 / 55.  7.100\\r\\nInput #0, mp3, from 'TestFile.mp3':\\r\\n  Metadata:\\r\\n    title           : TestFile_1/4\\r\\n  Duration: 00:07:20.50, start: 0.025057, bitrate: 128 kb/s\\r\\n    Stream #0:0: Audio: mp3, 44100 Hz, stereo, fltp, 128 kb/s\\r\\nStream mapping:\\r\\n  Stream #0:0 -> #0:0 (mp3 (mp3float) -> pcm_s16le (native))\\r\\nPress [q] to stop, [?] for help\\r\\nOutput #0, null, to 'pipe:':\\r\\n  Metadata:\\r\\n    title           : TestFile_1/4\\r\\n    encoder         : Lavf58.45.100\\r\\n    Stream #0:0: Audio: pcm_s16le, 44100 Hz, stereo, s16, 1411 kb/s\\r\\n    Metadata:\\r\\n      encoder         : Lavc58.91.100 pcm_s16le\\r\\n[silencedetect @ 0000021c52e867c0] silence_start: 14.1607\\r\\n[silencedetect @ 0000021c52e867c0] silence_end: 14.5508 | silence_duration: 0.390113\\r\\n[silencedetect @ 0000021c52e867c0] silence_start: 14.5509\\r\\n[silencedetect @ 0000021c52e867c0] silence_end: 14.8773 | silence_duration: 0.32644\\r\\n[silencedetect @ 0000021c52e867c0] silence_start: 53.0442\\r\\n[silencedetect @ 0000021c52e867c0] silence_end: 53.3589 | silence_duration: 0.314671\\r\\n[silencedetect @ 0000021c52e867c0] silence_start: 67.8339\\r\\n[silencedetect @ 0000021c52e867c0] silence_end: 68.1681 | silence_duration: 0.334218\\r\\n[silencedetect @ 0000021c52e867c0] silence_start: 114.954\\r\\n[silencedetect @ 0000021c52e867c0] silence_end: 115.233 | silence_duration: 0.279206\\r\\n[silencedetect @ 0000021c52e867c0] silence_start: 131.051\\r\\n[silencedetect @ 0000021c52e867c0] silence_end: 131.385 | silence_duration: 0.333991\\r\\n[silencedetect @ 0000021c52e867c0] silence_start: 143.995\\r\\n[silencedetect @ 0000021c52e867c0] silence_end: 144.25 | silence_duration: 0.255125\\r\\n[silencedetect @ 0000021c52e867c0] silence_start: 168.528\\r\\n[silencedetect @ 0000021c52e867c0] silence_end: 168.838 | silence_duration: 0.30966\\r\\n[silencedetect @ 0000021c52e867c0] silence_start: 174.488\\r\\n[silencedetect @ 0000021c52e867c0] silence_end: 174.809 | silence_duration: 0.321088\\r\\n[silencedetect @ 0000021c52e867c0] silence_start: 186.484\\r\\n[silencedetect @ 0000021c52e867c0] silence_end: 186.759 | silence_duration: 0.274921\\r\\n[silencedetect @ 0000021c52e867c0] silence_start: 246.877\\r\\n[silencedetect @ 0000021c52e867c0] silence_end: 247.2 | silence_duration: 0.322494\\r\\n[silencedetect @ 0000021c52e867c0] silence_start: 354.82\\r\\n[silencedetect @ 0000021c52e867c0] silence_end: 355.123 | silence_duration: 0.302766\\r\\n[silencedetect @ 0000021c52e867c0] silence_start: 381.662\\r\\n[silencedetect @ 0000021c52e867c0] silence_end: 382.15 | silence_duration: 0.487982\\r\\n[silencedetect @ 0000021c52e867c0] silence_start: 387.647\\r\\n[silencedetect @ 0000021c52e867c0] silence_end: 387.954 | silence_duration: 0.307256\\r\\n[silencedetect @ 0000021c52e867c0] silence_start: 391.426\\r\\n[silencedetect @ 0000021c52e867c0] silence_end: 391.968 | silence_duration: 0.541338\\r\\n[silencedetect @ 0000021c52e867c0] silence_start: 411.457\\r\\n[silencedetect @ 0000021c52e867c0] silence_end: 411.745 | silence_duration: 0.287506\\r\\n[silencedetect @ 0000021c52e867c0] silence_start: 413.169\\r\\n[silencedetect @ 0000021c52e867c0] silence_end: 413.475 | silence_duration: 0.305624\\r\\n[silencedetect @ 0000021c52e867c0] silence_start: 414.698\\r\\n[silencedetect @ 0000021c52e867c0] silence_end: 415.037 | silence_duration: 0.338889\\r\\n[silencedetect @ 0000021c52e867c0] silence_start: 415.894\\r\\n[silencedetect @ 0000021c52e867c0] silence_end: 416.155 | silence_duration: 0.260975\\r\\n[silencedetect @ 0000021c52e867c0] silence_start: 417.332\\r\\n[silencedetect @ 0000021c52e867c0] silence_end: 417.977 | silence_duration: 0.644603\\r\\n[silencedetect @ 0000021c52e867c0] silence_start: 421.379\\r\\n[silencedetect @ 0000021c52e867c0] silence_end: 421.786 | silence_duration: 0.406893\\r\\n[silencedetect @ 0000021c52e867c0] silence_start: 424.438\\r\\n[silencedetect @ 0000021c52e867c0] silence_end: 424.878 | silence_duration: 0.439841\\r\\n[silencedetect @ 0000021c52e867c0] silence_start: 439.395\\r\\n[silencedetect @ 0000021c52e867c0] silence_end: 439.699 | silence_duration: 0.304059\\r\\nsize=N/A time=00:07:20.47 bitrate=N/A speed= 981x    \\r\\nvideo:0kB audio:75879kB subtitle:0kB other streams:0kB global headers:0kB muxing overhead: unknown\\r\\n\""
      ]
     },
     "execution_count": 12,
     "metadata": {},
     "output_type": "execute_result"
    }
   ],
   "source": [
    "command = f\"ffmpeg -i {src} -af silencedetect=n=-30dB:d=0.25 -f null - \"\n",
    "out = subprocess.Popen(command, stdout=subprocess.PIPE, stderr=subprocess.STDOUT)\n",
    "\n",
    "stdout, stderr = out.communicate()\n",
    "stdout"
   ]
  },
  {
   "cell_type": "code",
   "execution_count": 21,
   "id": "fec17f31",
   "metadata": {
    "ExecuteTime": {
     "end_time": "2022-03-16T05:20:08.507528Z",
     "start_time": "2022-03-16T05:20:08.493566Z"
    },
    "scrolled": true
   },
   "outputs": [
    {
     "data": {
      "text/plain": [
       "['[silencedetect @ 0000021c52e867c0] silence_start: 14.1607',\n",
       " '[silencedetect @ 0000021c52e867c0] silence_end: 14.5508 | silence_duration: 0.390113',\n",
       " '[silencedetect @ 0000021c52e867c0] silence_start: 14.5509',\n",
       " '[silencedetect @ 0000021c52e867c0] silence_end: 14.8773 | silence_duration: 0.32644',\n",
       " '[silencedetect @ 0000021c52e867c0] silence_start: 53.0442',\n",
       " '[silencedetect @ 0000021c52e867c0] silence_end: 53.3589 | silence_duration: 0.314671',\n",
       " '[silencedetect @ 0000021c52e867c0] silence_start: 67.8339',\n",
       " '[silencedetect @ 0000021c52e867c0] silence_end: 68.1681 | silence_duration: 0.334218',\n",
       " '[silencedetect @ 0000021c52e867c0] silence_start: 114.954',\n",
       " '[silencedetect @ 0000021c52e867c0] silence_end: 115.233 | silence_duration: 0.279206',\n",
       " '[silencedetect @ 0000021c52e867c0] silence_start: 131.051',\n",
       " '[silencedetect @ 0000021c52e867c0] silence_end: 131.385 | silence_duration: 0.333991',\n",
       " '[silencedetect @ 0000021c52e867c0] silence_start: 143.995',\n",
       " '[silencedetect @ 0000021c52e867c0] silence_end: 144.25 | silence_duration: 0.255125',\n",
       " '[silencedetect @ 0000021c52e867c0] silence_start: 168.528',\n",
       " '[silencedetect @ 0000021c52e867c0] silence_end: 168.838 | silence_duration: 0.30966',\n",
       " '[silencedetect @ 0000021c52e867c0] silence_start: 174.488',\n",
       " '[silencedetect @ 0000021c52e867c0] silence_end: 174.809 | silence_duration: 0.321088',\n",
       " '[silencedetect @ 0000021c52e867c0] silence_start: 186.484',\n",
       " '[silencedetect @ 0000021c52e867c0] silence_end: 186.759 | silence_duration: 0.274921',\n",
       " '[silencedetect @ 0000021c52e867c0] silence_start: 246.877',\n",
       " '[silencedetect @ 0000021c52e867c0] silence_end: 247.2 | silence_duration: 0.322494',\n",
       " '[silencedetect @ 0000021c52e867c0] silence_start: 354.82',\n",
       " '[silencedetect @ 0000021c52e867c0] silence_end: 355.123 | silence_duration: 0.302766',\n",
       " '[silencedetect @ 0000021c52e867c0] silence_start: 381.662',\n",
       " '[silencedetect @ 0000021c52e867c0] silence_end: 382.15 | silence_duration: 0.487982',\n",
       " '[silencedetect @ 0000021c52e867c0] silence_start: 387.647',\n",
       " '[silencedetect @ 0000021c52e867c0] silence_end: 387.954 | silence_duration: 0.307256',\n",
       " '[silencedetect @ 0000021c52e867c0] silence_start: 391.426',\n",
       " '[silencedetect @ 0000021c52e867c0] silence_end: 391.968 | silence_duration: 0.541338',\n",
       " '[silencedetect @ 0000021c52e867c0] silence_start: 411.457',\n",
       " '[silencedetect @ 0000021c52e867c0] silence_end: 411.745 | silence_duration: 0.287506',\n",
       " '[silencedetect @ 0000021c52e867c0] silence_start: 413.169',\n",
       " '[silencedetect @ 0000021c52e867c0] silence_end: 413.475 | silence_duration: 0.305624',\n",
       " '[silencedetect @ 0000021c52e867c0] silence_start: 414.698',\n",
       " '[silencedetect @ 0000021c52e867c0] silence_end: 415.037 | silence_duration: 0.338889',\n",
       " '[silencedetect @ 0000021c52e867c0] silence_start: 415.894',\n",
       " '[silencedetect @ 0000021c52e867c0] silence_end: 416.155 | silence_duration: 0.260975',\n",
       " '[silencedetect @ 0000021c52e867c0] silence_start: 417.332',\n",
       " '[silencedetect @ 0000021c52e867c0] silence_end: 417.977 | silence_duration: 0.644603',\n",
       " '[silencedetect @ 0000021c52e867c0] silence_start: 421.379',\n",
       " '[silencedetect @ 0000021c52e867c0] silence_end: 421.786 | silence_duration: 0.406893',\n",
       " '[silencedetect @ 0000021c52e867c0] silence_start: 424.438',\n",
       " '[silencedetect @ 0000021c52e867c0] silence_end: 424.878 | silence_duration: 0.439841',\n",
       " '[silencedetect @ 0000021c52e867c0] silence_start: 439.395',\n",
       " '[silencedetect @ 0000021c52e867c0] silence_end: 439.699 | silence_duration: 0.304059']"
      ]
     },
     "execution_count": 21,
     "metadata": {},
     "output_type": "execute_result"
    }
   ],
   "source": [
    "splits = str(stdout).split(\"100 pcm_s16le\\\\r\\\\n\")[1].split(\"\\\\r\\\\nsize=\")[0]\n",
    "splits = splits.split(\"\\\\r\\\\n\")\n",
    "splits"
   ]
  },
  {
   "cell_type": "markdown",
   "id": "4b523e2e",
   "metadata": {
    "ExecuteTime": {
     "end_time": "2022-03-16T05:13:31.045131Z",
     "start_time": "2022-03-16T05:13:31.022192Z"
    }
   },
   "source": [
    "#### Let's apply the same to other file, to see the output format"
   ]
  },
  {
   "cell_type": "code",
   "execution_count": 23,
   "id": "dedadd58",
   "metadata": {
    "ExecuteTime": {
     "end_time": "2022-03-17T03:58:30.128457Z",
     "start_time": "2022-03-17T03:58:30.122473Z"
    }
   },
   "outputs": [],
   "source": [
    "def get_silence_times(src):\n",
    "    command = f\"ffmpeg -i {src} -af silencedetect=n=-30dB:d=0.25 -f null - \"\n",
    "    out = subprocess.Popen(command,\n",
    "                           stdout=subprocess.PIPE,\n",
    "                           stderr=subprocess.STDOUT)\n",
    "    stdout, stderr = out.communicate()\n",
    "    splits = str(stdout).split(\"100 pcm_s16le\\\\r\\\\n\")[1].split(\n",
    "        \"\\\\r\\\\nsize=\")[0]\n",
    "    splits = splits.split(\"\\\\r\\\\n\")\n",
    "    return splits"
   ]
  },
  {
   "cell_type": "code",
   "execution_count": 24,
   "id": "7f36f507",
   "metadata": {
    "ExecuteTime": {
     "end_time": "2022-03-17T03:58:49.303513Z",
     "start_time": "2022-03-17T03:58:48.853060Z"
    }
   },
   "outputs": [
    {
     "data": {
      "text/plain": [
       "['[silencedetect @ 000001e510f2b080] silence_start: 0',\n",
       " '[silencedetect @ 000001e510f2b080] silence_end: 0.766417 | silence_duration: 0.766417',\n",
       " '[silencedetect @ 000001e510f2b080] silence_start: 3.41925',\n",
       " '[silencedetect @ 000001e510f2b080] silence_end: 5.25726 | silence_duration: 1.838',\n",
       " '[silencedetect @ 000001e510f2b080] silence_start: 6.18304',\n",
       " '[silencedetect @ 000001e510f2b080] silence_end: 6.96218 | silence_duration: 0.779138',\n",
       " '[silencedetect @ 000001e510f2b080] silence_start: 9.79152',\n",
       " '[silencedetect @ 000001e510f2b080] silence_end: 10.9414 | silence_duration: 1.14986',\n",
       " '[silencedetect @ 000001e510f2b080] silence_start: 11.2242',\n",
       " '[silencedetect @ 000001e510f2b080] silence_end: 12.2511 | silence_duration: 1.02696',\n",
       " '[silencedetect @ 000001e510f2b080] silence_start: 17.3094',\n",
       " '[silencedetect @ 000001e510f2b080] silence_end: 18.0719 | silence_duration: 0.762426',\n",
       " '[silencedetect @ 000001e510f2b080] silence_start: 18.7098',\n",
       " '[silencedetect @ 000001e510f2b080] silence_end: 22.1404 | silence_duration: 3.43063',\n",
       " '[silencedetect @ 000001e510f2b080] silence_start: 22.1626',\n",
       " '[silencedetect @ 000001e510f2b080] silence_end: 22.6374 | silence_duration: 0.474853',\n",
       " '[silencedetect @ 000001e510f2b080] silence_start: 28.4873',\n",
       " '[silencedetect @ 000001e510f2b080] silence_end: 29.0687 | silence_duration: 0.581406',\n",
       " '[silencedetect @ 000001e510f2b080] silence_start: 29.899',\n",
       " '[silencedetect @ 000001e510f2b080] silence_end: 30.7388 | silence_duration: 0.839773',\n",
       " '[silencedetect @ 000001e510f2b080] silence_start: 30.9517',\n",
       " '[silencedetect @ 000001e510f2b080] silence_end: 32.269 | silence_duration: 1.31732',\n",
       " '[silencedetect @ 000001e510f2b080] silence_start: 35.7883',\n",
       " '[silencedetect @ 000001e510f2b080] silence_end: 36.6472 | silence_duration: 0.858821',\n",
       " '[silencedetect @ 000001e510f2b080] silence_start: 38.4139',\n",
       " '[silencedetect @ 000001e510f2b080] silence_end: 39.0353 | silence_duration: 0.621361',\n",
       " '[silencedetect @ 000001e510f2b080] silence_start: 39.8746',\n",
       " '[silencedetect @ 000001e510f2b080] silence_end: 43.0145 | silence_duration: 3.13991',\n",
       " '[silencedetect @ 000001e510f2b080] silence_start: 49.5885',\n",
       " '[silencedetect @ 000001e510f2b080] silence_end: 50.9405 | silence_duration: 1.35195',\n",
       " '[silencedetect @ 000001e510f2b080] silence_start: 53.1159',\n",
       " '[silencedetect @ 000001e510f2b080] silence_end: 54.4277 | silence_duration: 1.31184',\n",
       " '[silencedetect @ 000001e510f2b080] silence_start: 56.528',\n",
       " '[silencedetect @ 000001e510f2b080] silence_end: 57.9782 | silence_duration: 1.45016',\n",
       " '[silencedetect @ 000001e510f2b080] silence_start: 58.3288',\n",
       " '[silencedetect @ 000001e510f2b080] silence_end: 59.7711 | silence_duration: 1.44227',\n",
       " '[silencedetect @ 000001e510f2b080] silence_start: 62.3716',\n",
       " '[silencedetect @ 000001e510f2b080] silence_end: 63.2592 | silence_duration: 0.887596',\n",
       " '[silencedetect @ 000001e510f2b080] silence_start: 64.9651',\n",
       " '[silencedetect @ 000001e510f2b080] silence_end: 66.1257 | silence_duration: 1.16059',\n",
       " '[silencedetect @ 000001e510f2b080] silence_start: 69.0374',\n",
       " '[silencedetect @ 000001e510f2b080] silence_end: 71.0567 | silence_duration: 2.01932',\n",
       " '[silencedetect @ 000001e510f2b080] silence_start: 71.4278',\n",
       " '[silencedetect @ 000001e510f2b080] silence_end: 72.2672 | silence_duration: 0.83941',\n",
       " '[silencedetect @ 000001e510f2b080] silence_start: 73.4959',\n",
       " '[silencedetect @ 000001e510f2b080] silence_end: 74.4388 | silence_duration: 0.942834',\n",
       " '[silencedetect @ 000001e510f2b080] silence_start: 76.0535',\n",
       " '[silencedetect @ 000001e510f2b080] silence_end: 77.5881 | silence_duration: 1.53458',\n",
       " '[silencedetect @ 000001e510f2b080] silence_start: 77.8046',\n",
       " '[silencedetect @ 000001e510f2b080] silence_end: 78.623 | silence_duration: 0.81839',\n",
       " '[silencedetect @ 000001e510f2b080] silence_start: 80.1644',\n",
       " '[silencedetect @ 000001e510f2b080] silence_end: 81.0156 | silence_duration: 0.851156',\n",
       " '[silencedetect @ 000001e510f2b080] silence_start: 83.2685',\n",
       " '[silencedetect @ 000001e510f2b080] silence_end: 83.9834 | silence_duration: 0.714875',\n",
       " '[silencedetect @ 000001e510f2b080] silence_start: 88.7981',\n",
       " '[silencedetect @ 000001e510f2b080] silence_end: 89.4598 | silence_duration: 0.661678',\n",
       " '[silencedetect @ 000001e510f2b080] silence_start: 91.2117',\n",
       " '[silencedetect @ 000001e510f2b080] silence_end: 93.6345 | silence_duration: 2.42283',\n",
       " '[silencedetect @ 000001e510f2b080] silence_start: 96.8612',\n",
       " '[silencedetect @ 000001e510f2b080] silence_end: 98.4044 | silence_duration: 1.54317',\n",
       " '[silencedetect @ 000001e510f2b080] silence_start: 98.5627',\n",
       " '[silencedetect @ 000001e510f2b080] silence_end: 100.133 | silence_duration: 1.57061',\n",
       " '[silencedetect @ 000001e510f2b080] silence_start: 103.998',\n",
       " '[silencedetect @ 000001e510f2b080] silence_end: 105.179 | silence_duration: 1.1812',\n",
       " '[silencedetect @ 000001e510f2b080] silence_start: 106.772',\n",
       " '[silencedetect @ 000001e510f2b080] silence_end: 108.52 | silence_duration: 1.74776',\n",
       " '[silencedetect @ 000001e510f2b080] silence_start: 111.945',\n",
       " '[silencedetect @ 000001e510f2b080] silence_end: 113.037 | silence_duration: 1.09202',\n",
       " '[silencedetect @ 000001e510f2b080] silence_start: 114.524',\n",
       " '[silencedetect @ 000001e510f2b080] silence_end: 115.148 | silence_duration: 0.624082',\n",
       " '[silencedetect @ 000001e510f2b080] silence_start: 116.142',\n",
       " '[silencedetect @ 000001e510f2b080] silence_end: 116.504 | silence_duration: 0.361859',\n",
       " '[silencedetect @ 000001e510f2b080] silence_start: 117.175',\n",
       " '[silencedetect @ 000001e510f2b080] silence_end: 117.774 | silence_duration: 0.599342',\n",
       " '[silencedetect @ 000001e510f2b080] silence_start: 120.872',\n",
       " '[silencedetect @ 000001e510f2b080] silence_end: 122.375 | silence_duration: 1.50311',\n",
       " '[silencedetect @ 000001e510f2b080] silence_start: 123.495',\n",
       " '[silencedetect @ 000001e510f2b080] silence_end: 129.709 | silence_duration: 6.21356',\n",
       " '[silencedetect @ 000001e510f2b080] silence_start: 131.384',\n",
       " '[silencedetect @ 000001e510f2b080] silence_end: 131.698 | silence_duration: 0.313673',\n",
       " '[silencedetect @ 000001e510f2b080] silence_start: 132.548',\n",
       " '[silencedetect @ 000001e510f2b080] silence_end: 132.816 | silence_duration: 0.267574',\n",
       " '[silencedetect @ 000001e510f2b080] silence_start: 134.024',\n",
       " '[silencedetect @ 000001e510f2b080] silence_end: 134.879 | silence_duration: 0.854921',\n",
       " '[silencedetect @ 000001e510f2b080] silence_start: 135.282',\n",
       " '[silencedetect @ 000001e510f2b080] silence_end: 139.852 | silence_duration: 4.5702',\n",
       " '[silencedetect @ 000001e510f2b080] silence_start: 140.369',\n",
       " '[silencedetect @ 000001e510f2b080] silence_end: 140.724 | silence_duration: 0.355011',\n",
       " '[silencedetect @ 000001e510f2b080] silence_start: 142.468',\n",
       " '[silencedetect @ 000001e510f2b080] silence_end: 143.312 | silence_duration: 0.844354',\n",
       " '[silencedetect @ 000001e510f2b080] silence_start: 144.436',\n",
       " '[silencedetect @ 000001e510f2b080] silence_end: 146.376 | silence_duration: 1.94045',\n",
       " '[silencedetect @ 000001e510f2b080] silence_start: 148.058',\n",
       " '[silencedetect @ 000001e510f2b080] silence_end: 149.407 | silence_duration: 1.34927',\n",
       " '[silencedetect @ 000001e510f2b080] silence_start: 150.067',\n",
       " '[silencedetect @ 000001e510f2b080] silence_end: 150.357 | silence_duration: 0.290703',\n",
       " '[silencedetect @ 000001e510f2b080] silence_start: 153.365',\n",
       " '[silencedetect @ 000001e510f2b080] silence_end: 154.211 | silence_duration: 0.846327',\n",
       " '[silencedetect @ 000001e510f2b080] silence_start: 155.444',\n",
       " '[silencedetect @ 000001e510f2b080] silence_end: 156.19 | silence_duration: 0.745601',\n",
       " '[silencedetect @ 000001e510f2b080] silence_start: 158.437',\n",
       " '[silencedetect @ 000001e510f2b080] silence_end: 159.84 | silence_duration: 1.40261',\n",
       " '[silencedetect @ 000001e510f2b080] silence_start: 160.061',\n",
       " '[silencedetect @ 000001e510f2b080] silence_end: 160.607 | silence_duration: 0.546485',\n",
       " '[silencedetect @ 000001e510f2b080] silence_start: 162.444',\n",
       " '[silencedetect @ 000001e510f2b080] silence_end: 163.468 | silence_duration: 1.02415',\n",
       " '[silencedetect @ 000001e510f2b080] silence_start: 164.847',\n",
       " '[silencedetect @ 000001e510f2b080] silence_end: 165.616 | silence_duration: 0.768594',\n",
       " '[silencedetect @ 000001e510f2b080] silence_start: 166.344',\n",
       " '[silencedetect @ 000001e510f2b080] silence_end: 167.638 | silence_duration: 1.29449',\n",
       " '[silencedetect @ 000001e510f2b080] silence_start: 168.119',\n",
       " '[silencedetect @ 000001e510f2b080] silence_end: 168.691 | silence_duration: 0.571973',\n",
       " '[silencedetect @ 000001e510f2b080] silence_start: 169.368',\n",
       " '[silencedetect @ 000001e510f2b080] silence_end: 170.209 | silence_duration: 0.840204',\n",
       " '[silencedetect @ 000001e510f2b080] silence_start: 171.331',\n",
       " '[silencedetect @ 000001e510f2b080] silence_end: 172.428 | silence_duration: 1.09744',\n",
       " '[silencedetect @ 000001e510f2b080] silence_start: 173.423',\n",
       " '[silencedetect @ 000001e510f2b080] silence_end: 173.895 | silence_duration: 0.471927',\n",
       " '[silencedetect @ 000001e510f2b080] silence_start: 176.6',\n",
       " '[silencedetect @ 000001e510f2b080] silence_end: 177.556 | silence_duration: 0.955918',\n",
       " '[silencedetect @ 000001e510f2b080] silence_start: 178.638',\n",
       " '[silencedetect @ 000001e510f2b080] silence_end: 178.947 | silence_duration: 0.30907',\n",
       " '[silencedetect @ 000001e510f2b080] silence_start: 181.833',\n",
       " '[silencedetect @ 000001e510f2b080] silence_end: 182.502 | silence_duration: 0.669796',\n",
       " '[silencedetect @ 000001e510f2b080] silence_start: 183.956',\n",
       " '[silencedetect @ 000001e510f2b080] silence_end: 184.269 | silence_duration: 0.312948',\n",
       " '[silencedetect @ 000001e510f2b080] silence_start: 186.001',\n",
       " '[silencedetect @ 000001e510f2b080] silence_end: 186.693 | silence_duration: 0.691587',\n",
       " '[silencedetect @ 000001e510f2b080] silence_start: 188.048',\n",
       " '[silencedetect @ 000001e510f2b080] silence_end: 188.457 | silence_duration: 0.40941',\n",
       " '[silencedetect @ 000001e510f2b080] silence_start: 190.359',\n",
       " '[silencedetect @ 000001e510f2b080] silence_end: 190.739 | silence_duration: 0.379864',\n",
       " '[silencedetect @ 000001e510f2b080] silence_start: 192.78',\n",
       " '[silencedetect @ 000001e510f2b080] silence_end: 193.074 | silence_duration: 0.294195',\n",
       " '[silencedetect @ 000001e510f2b080] silence_start: 194.751',\n",
       " '[silencedetect @ 000001e510f2b080] silence_end: 195.078 | silence_duration: 0.326077',\n",
       " '[silencedetect @ 000001e510f2b080] silence_start: 197.816',\n",
       " '[silencedetect @ 000001e510f2b080] silence_end: 198.312 | silence_duration: 0.495918',\n",
       " '[silencedetect @ 000001e510f2b080] silence_start: 200.219',\n",
       " '[silencedetect @ 000001e510f2b080] silence_end: 201.453 | silence_duration: 1.23433',\n",
       " '[silencedetect @ 000001e510f2b080] silence_start: 202.42',\n",
       " '[silencedetect @ 000001e510f2b080] silence_end: 203.457 | silence_duration: 1.03735',\n",
       " '[silencedetect @ 000001e510f2b080] silence_start: 204.274',\n",
       " '[silencedetect @ 000001e510f2b080] silence_end: 204.913 | silence_duration: 0.639002',\n",
       " '[silencedetect @ 000001e510f2b080] silence_start: 205.798',\n",
       " '[silencedetect @ 000001e510f2b080] silence_end: 206.126 | silence_duration: 0.327551',\n",
       " '[silencedetect @ 000001e510f2b080] silence_start: 206.99',\n",
       " '[silencedetect @ 000001e510f2b080] silence_end: 208.188 | silence_duration: 1.19878',\n",
       " '[silencedetect @ 000001e510f2b080] silence_start: 209.041',\n",
       " '[silencedetect @ 000001e510f2b080] silence_end: 209.334 | silence_duration: 0.29322',\n",
       " '[silencedetect @ 000001e510f2b080] silence_start: 209.388',\n",
       " '[silencedetect @ 000001e510f2b080] silence_end: 210.019 | silence_duration: 0.631723',\n",
       " '[silencedetect @ 000001e510f2b080] silence_start: 212.773',\n",
       " '[silencedetect @ 000001e510f2b080] silence_end: 213.03 | silence_duration: 0.25746',\n",
       " '[silencedetect @ 000001e510f2b080] silence_start: 213.761',\n",
       " '[silencedetect @ 000001e510f2b080] silence_end: 214.232 | silence_duration: 0.471224',\n",
       " '[silencedetect @ 000001e510f2b080] silence_start: 218.213',\n",
       " '[silencedetect @ 000001e510f2b080] silence_end: 218.535 | silence_duration: 0.321361',\n",
       " '[silencedetect @ 000001e510f2b080] silence_start: 219.419',\n",
       " '[silencedetect @ 000001e510f2b080] silence_end: 219.946 | silence_duration: 0.527596',\n",
       " '[silencedetect @ 000001e510f2b080] silence_start: 223.754',\n",
       " '[silencedetect @ 000001e510f2b080] silence_end: 224.978 | silence_duration: 1.22367',\n",
       " '[silencedetect @ 000001e510f2b080] silence_start: 234.242',\n",
       " '[silencedetect @ 000001e510f2b080] silence_end: 234.492 | silence_duration: 0.250408',\n",
       " '[silencedetect @ 000001e510f2b080] silence_start: 236.782',\n",
       " '[silencedetect @ 000001e510f2b080] silence_end: 237.105 | silence_duration: 0.32263',\n",
       " '[silencedetect @ 000001e510f2b080] silence_start: 238.219',\n",
       " '[silencedetect @ 000001e510f2b080] silence_end: 238.847 | silence_duration: 0.628231',\n",
       " '[silencedetect @ 000001e510f2b080] silence_start: 240.327',\n",
       " '[silencedetect @ 000001e510f2b080] silence_end: 240.703 | silence_duration: 0.375374',\n",
       " '[silencedetect @ 000001e510f2b080] silence_start: 244.689',\n",
       " '[silencedetect @ 000001e510f2b080] silence_end: 245.804 | silence_duration: 1.11515',\n",
       " '[silencedetect @ 000001e510f2b080] silence_start: 254.314',\n",
       " 'frame=    1 fps=0.0 q=-0.0 Lsize=N/A time=00:04:17.09 bitrate=N/A speed= 924x    ',\n",
       " 'video:1kB audio:44289kB subtitle:0kB other streams:0kB global headers:0kB muxing overhead: unknown',\n",
       " '[silencedetect @ 000001e510f2b080] silence_end: 257.098 | silence_duration: 2.78435',\n",
       " '\"']"
      ]
     },
     "execution_count": 24,
     "metadata": {},
     "output_type": "execute_result"
    }
   ],
   "source": [
    "get_silence_times(check)"
   ]
  },
  {
   "cell_type": "markdown",
   "id": "ffcc0182",
   "metadata": {},
   "source": [
    "It appears that there are 3 lines at the end of outputs that are not related to `silencedetect` \n"
   ]
  },
  {
   "cell_type": "code",
   "execution_count": null,
   "id": "7cb283e0",
   "metadata": {},
   "outputs": [],
   "source": []
  }
 ],
 "metadata": {
  "kernelspec": {
   "display_name": "Python 3 (ipykernel)",
   "language": "python",
   "name": "python3"
  },
  "language_info": {
   "codemirror_mode": {
    "name": "ipython",
    "version": 3
   },
   "file_extension": ".py",
   "mimetype": "text/x-python",
   "name": "python",
   "nbconvert_exporter": "python",
   "pygments_lexer": "ipython3",
   "version": "3.8.12"
  },
  "varInspector": {
   "cols": {
    "lenName": 16,
    "lenType": 16,
    "lenVar": 40
   },
   "kernels_config": {
    "python": {
     "delete_cmd_postfix": "",
     "delete_cmd_prefix": "del ",
     "library": "var_list.py",
     "varRefreshCmd": "print(var_dic_list())"
    },
    "r": {
     "delete_cmd_postfix": ") ",
     "delete_cmd_prefix": "rm(",
     "library": "var_list.r",
     "varRefreshCmd": "cat(var_dic_list()) "
    }
   },
   "types_to_exclude": [
    "module",
    "function",
    "builtin_function_or_method",
    "instance",
    "_Feature"
   ],
   "window_display": false
  }
 },
 "nbformat": 4,
 "nbformat_minor": 5
}
