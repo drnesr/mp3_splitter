{
 "cells": [
  {
   "cell_type": "code",
   "execution_count": 1,
   "id": "3f50a854",
   "metadata": {
    "ExecuteTime": {
     "end_time": "2022-03-16T04:58:29.719053Z",
     "start_time": "2022-03-16T04:58:29.715090Z"
    }
   },
   "outputs": [],
   "source": [
    "# !pip install ffmpeg-python"
   ]
  },
  {
   "cell_type": "markdown",
   "id": "b2cc8ce9",
   "metadata": {},
   "source": [
    "Collecting ffmpeg-python\n",
    "\n",
    "  Downloading ffmpeg_python-0.2.0-py3-none-any.whl (25 kB)\n",
    "  \n",
    "Requirement already satisfied: future in c:\\programdata\\anaconda3\\lib\\site-packages (from ffmpeg-python) (0.18.2)\n",
    "\n",
    "Installing collected packages: ffmpeg-python\n",
    "\n",
    "Successfully installed ffmpeg-python-0.2.0"
   ]
  },
  {
   "cell_type": "code",
   "execution_count": 6,
   "id": "26e331d8",
   "metadata": {
    "ExecuteTime": {
     "end_time": "2022-03-16T05:07:52.998508Z",
     "start_time": "2022-03-16T05:07:52.982551Z"
    }
   },
   "outputs": [],
   "source": [
    "import ffmpeg\n",
    "import os\n",
    "import subprocess"
   ]
  },
  {
   "cell_type": "code",
   "execution_count": 3,
   "id": "2a1229c8",
   "metadata": {
    "ExecuteTime": {
     "end_time": "2022-03-16T04:58:31.828725Z",
     "start_time": "2022-03-16T04:58:31.814728Z"
    }
   },
   "outputs": [],
   "source": [
    "source = \"TestFile.mp3\"\n",
    "output = \"OutFile.mp3\""
   ]
  },
  {
   "cell_type": "code",
   "execution_count": 4,
   "id": "8306f302",
   "metadata": {
    "ExecuteTime": {
     "end_time": "2022-03-16T04:58:32.445693Z",
     "start_time": "2022-03-16T04:58:32.430733Z"
    }
   },
   "outputs": [],
   "source": [
    "spd = 1.5 # output speed\n",
    "vol = 1.0 # volume rise ratio if any\n",
    "bit = 16 # BitRate: 16K\n",
    "frq = 24000 # sampling stream frequency\n",
    "\n",
    "#Temporary parameters\n",
    "src, out = source, output\n",
    "# commands\n",
    "stg1 = f'ffmpeg -i {src} -filter:a \"atempo={spd},volume={vol}\" -q:a 100 {out}'\n",
    "stg2 = f\"ffmpeg -i {src} -ac 1 -b:a {bit}k -ar {frq} -write_xing 0 {output}\""
   ]
  },
  {
   "cell_type": "markdown",
   "id": "eed94f10",
   "metadata": {},
   "source": [
    "### Finding silence and intervals, from this post\n",
    "https://stackoverflow.com/questions/14590279/error-nameerror-name-subprocess-is-not-defined"
   ]
  },
  {
   "cell_type": "code",
   "execution_count": 12,
   "id": "a9a895fb",
   "metadata": {
    "ExecuteTime": {
     "end_time": "2022-03-16T05:11:20.064001Z",
     "start_time": "2022-03-16T05:11:19.552098Z"
    }
   },
   "outputs": [
    {
     "data": {
      "text/plain": [
       "b\"ffmpeg version 4.3.1 Copyright (c) 2000-2020 the FFmpeg developers\\r\\n  built with gcc 10.2.1 (GCC) 20200726\\r\\n  configuration: --disable-static --enable-shared --enable-gpl --enable-version3 --enable-sdl2 --enable-fontconfig --enable-gnutls --enable-iconv --enable-libass --enable-libdav1d --enable-libbluray --enable-libfreetype --enable-libmp3lame --enable-libopencore-amrnb --enable-libopencore-amrwb --enable-libopenjpeg --enable-libopus --enable-libshine --enable-libsnappy --enable-libsoxr --enable-libsrt --enable-libtheora --enable-libtwolame --enable-libvpx --enable-libwavpack --enable-libwebp --enable-libx264 --enable-libx265 --enable-libxml2 --enable-libzimg --enable-lzma --enable-zlib --enable-gmp --enable-libvidstab --enable-libvmaf --enable-libvorbis --enable-libvo-amrwbenc --enable-libmysofa --enable-libspeex --enable-libxvid --enable-libaom --enable-libgsm --enable-librav1e --disable-w32threads --enable-libmfx --enable-ffnvcodec --enable-cuda-llvm --enable-cuvid --enable-d3d11va --enable-nvenc --enable-nvdec --enable-dxva2 --enable-avisynth --enable-libopenmpt --enable-amf\\r\\n  libavutil      56. 51.100 / 56. 51.100\\r\\n  libavcodec     58. 91.100 / 58. 91.100\\r\\n  libavformat    58. 45.100 / 58. 45.100\\r\\n  libavdevice    58. 10.100 / 58. 10.100\\r\\n  libavfilter     7. 85.100 /  7. 85.100\\r\\n  libswscale      5.  7.100 /  5.  7.100\\r\\n  libswresample   3.  7.100 /  3.  7.100\\r\\n  libpostproc    55.  7.100 / 55.  7.100\\r\\nInput #0, mp3, from 'TestFile.mp3':\\r\\n  Metadata:\\r\\n    title           : TestFile_1/4\\r\\n  Duration: 00:07:20.50, start: 0.025057, bitrate: 128 kb/s\\r\\n    Stream #0:0: Audio: mp3, 44100 Hz, stereo, fltp, 128 kb/s\\r\\nStream mapping:\\r\\n  Stream #0:0 -> #0:0 (mp3 (mp3float) -> pcm_s16le (native))\\r\\nPress [q] to stop, [?] for help\\r\\nOutput #0, null, to 'pipe:':\\r\\n  Metadata:\\r\\n    title           : TestFile_1/4\\r\\n    encoder         : Lavf58.45.100\\r\\n    Stream #0:0: Audio: pcm_s16le, 44100 Hz, stereo, s16, 1411 kb/s\\r\\n    Metadata:\\r\\n      encoder         : Lavc58.91.100 pcm_s16le\\r\\n[silencedetect @ 0000021c52e867c0] silence_start: 14.1607\\r\\n[silencedetect @ 0000021c52e867c0] silence_end: 14.5508 | silence_duration: 0.390113\\r\\n[silencedetect @ 0000021c52e867c0] silence_start: 14.5509\\r\\n[silencedetect @ 0000021c52e867c0] silence_end: 14.8773 | silence_duration: 0.32644\\r\\n[silencedetect @ 0000021c52e867c0] silence_start: 53.0442\\r\\n[silencedetect @ 0000021c52e867c0] silence_end: 53.3589 | silence_duration: 0.314671\\r\\n[silencedetect @ 0000021c52e867c0] silence_start: 67.8339\\r\\n[silencedetect @ 0000021c52e867c0] silence_end: 68.1681 | silence_duration: 0.334218\\r\\n[silencedetect @ 0000021c52e867c0] silence_start: 114.954\\r\\n[silencedetect @ 0000021c52e867c0] silence_end: 115.233 | silence_duration: 0.279206\\r\\n[silencedetect @ 0000021c52e867c0] silence_start: 131.051\\r\\n[silencedetect @ 0000021c52e867c0] silence_end: 131.385 | silence_duration: 0.333991\\r\\n[silencedetect @ 0000021c52e867c0] silence_start: 143.995\\r\\n[silencedetect @ 0000021c52e867c0] silence_end: 144.25 | silence_duration: 0.255125\\r\\n[silencedetect @ 0000021c52e867c0] silence_start: 168.528\\r\\n[silencedetect @ 0000021c52e867c0] silence_end: 168.838 | silence_duration: 0.30966\\r\\n[silencedetect @ 0000021c52e867c0] silence_start: 174.488\\r\\n[silencedetect @ 0000021c52e867c0] silence_end: 174.809 | silence_duration: 0.321088\\r\\n[silencedetect @ 0000021c52e867c0] silence_start: 186.484\\r\\n[silencedetect @ 0000021c52e867c0] silence_end: 186.759 | silence_duration: 0.274921\\r\\n[silencedetect @ 0000021c52e867c0] silence_start: 246.877\\r\\n[silencedetect @ 0000021c52e867c0] silence_end: 247.2 | silence_duration: 0.322494\\r\\n[silencedetect @ 0000021c52e867c0] silence_start: 354.82\\r\\n[silencedetect @ 0000021c52e867c0] silence_end: 355.123 | silence_duration: 0.302766\\r\\n[silencedetect @ 0000021c52e867c0] silence_start: 381.662\\r\\n[silencedetect @ 0000021c52e867c0] silence_end: 382.15 | silence_duration: 0.487982\\r\\n[silencedetect @ 0000021c52e867c0] silence_start: 387.647\\r\\n[silencedetect @ 0000021c52e867c0] silence_end: 387.954 | silence_duration: 0.307256\\r\\n[silencedetect @ 0000021c52e867c0] silence_start: 391.426\\r\\n[silencedetect @ 0000021c52e867c0] silence_end: 391.968 | silence_duration: 0.541338\\r\\n[silencedetect @ 0000021c52e867c0] silence_start: 411.457\\r\\n[silencedetect @ 0000021c52e867c0] silence_end: 411.745 | silence_duration: 0.287506\\r\\n[silencedetect @ 0000021c52e867c0] silence_start: 413.169\\r\\n[silencedetect @ 0000021c52e867c0] silence_end: 413.475 | silence_duration: 0.305624\\r\\n[silencedetect @ 0000021c52e867c0] silence_start: 414.698\\r\\n[silencedetect @ 0000021c52e867c0] silence_end: 415.037 | silence_duration: 0.338889\\r\\n[silencedetect @ 0000021c52e867c0] silence_start: 415.894\\r\\n[silencedetect @ 0000021c52e867c0] silence_end: 416.155 | silence_duration: 0.260975\\r\\n[silencedetect @ 0000021c52e867c0] silence_start: 417.332\\r\\n[silencedetect @ 0000021c52e867c0] silence_end: 417.977 | silence_duration: 0.644603\\r\\n[silencedetect @ 0000021c52e867c0] silence_start: 421.379\\r\\n[silencedetect @ 0000021c52e867c0] silence_end: 421.786 | silence_duration: 0.406893\\r\\n[silencedetect @ 0000021c52e867c0] silence_start: 424.438\\r\\n[silencedetect @ 0000021c52e867c0] silence_end: 424.878 | silence_duration: 0.439841\\r\\n[silencedetect @ 0000021c52e867c0] silence_start: 439.395\\r\\n[silencedetect @ 0000021c52e867c0] silence_end: 439.699 | silence_duration: 0.304059\\r\\nsize=N/A time=00:07:20.47 bitrate=N/A speed= 981x    \\r\\nvideo:0kB audio:75879kB subtitle:0kB other streams:0kB global headers:0kB muxing overhead: unknown\\r\\n\""
      ]
     },
     "execution_count": 12,
     "metadata": {},
     "output_type": "execute_result"
    }
   ],
   "source": [
    "command = f\"ffmpeg -i {src} -af silencedetect=n=-30dB:d=0.25 -f null - \"\n",
    "out = subprocess.Popen(command, stdout=subprocess.PIPE, stderr=subprocess.STDOUT)\n",
    "\n",
    "stdout, stderr = out.communicate()\n",
    "stdout"
   ]
  },
  {
   "cell_type": "code",
   "execution_count": 21,
   "id": "1ec78147",
   "metadata": {
    "ExecuteTime": {
     "end_time": "2022-03-16T05:20:08.507528Z",
     "start_time": "2022-03-16T05:20:08.493566Z"
    },
    "scrolled": true
   },
   "outputs": [
    {
     "data": {
      "text/plain": [
       "['[silencedetect @ 0000021c52e867c0] silence_start: 14.1607',\n",
       " '[silencedetect @ 0000021c52e867c0] silence_end: 14.5508 | silence_duration: 0.390113',\n",
       " '[silencedetect @ 0000021c52e867c0] silence_start: 14.5509',\n",
       " '[silencedetect @ 0000021c52e867c0] silence_end: 14.8773 | silence_duration: 0.32644',\n",
       " '[silencedetect @ 0000021c52e867c0] silence_start: 53.0442',\n",
       " '[silencedetect @ 0000021c52e867c0] silence_end: 53.3589 | silence_duration: 0.314671',\n",
       " '[silencedetect @ 0000021c52e867c0] silence_start: 67.8339',\n",
       " '[silencedetect @ 0000021c52e867c0] silence_end: 68.1681 | silence_duration: 0.334218',\n",
       " '[silencedetect @ 0000021c52e867c0] silence_start: 114.954',\n",
       " '[silencedetect @ 0000021c52e867c0] silence_end: 115.233 | silence_duration: 0.279206',\n",
       " '[silencedetect @ 0000021c52e867c0] silence_start: 131.051',\n",
       " '[silencedetect @ 0000021c52e867c0] silence_end: 131.385 | silence_duration: 0.333991',\n",
       " '[silencedetect @ 0000021c52e867c0] silence_start: 143.995',\n",
       " '[silencedetect @ 0000021c52e867c0] silence_end: 144.25 | silence_duration: 0.255125',\n",
       " '[silencedetect @ 0000021c52e867c0] silence_start: 168.528',\n",
       " '[silencedetect @ 0000021c52e867c0] silence_end: 168.838 | silence_duration: 0.30966',\n",
       " '[silencedetect @ 0000021c52e867c0] silence_start: 174.488',\n",
       " '[silencedetect @ 0000021c52e867c0] silence_end: 174.809 | silence_duration: 0.321088',\n",
       " '[silencedetect @ 0000021c52e867c0] silence_start: 186.484',\n",
       " '[silencedetect @ 0000021c52e867c0] silence_end: 186.759 | silence_duration: 0.274921',\n",
       " '[silencedetect @ 0000021c52e867c0] silence_start: 246.877',\n",
       " '[silencedetect @ 0000021c52e867c0] silence_end: 247.2 | silence_duration: 0.322494',\n",
       " '[silencedetect @ 0000021c52e867c0] silence_start: 354.82',\n",
       " '[silencedetect @ 0000021c52e867c0] silence_end: 355.123 | silence_duration: 0.302766',\n",
       " '[silencedetect @ 0000021c52e867c0] silence_start: 381.662',\n",
       " '[silencedetect @ 0000021c52e867c0] silence_end: 382.15 | silence_duration: 0.487982',\n",
       " '[silencedetect @ 0000021c52e867c0] silence_start: 387.647',\n",
       " '[silencedetect @ 0000021c52e867c0] silence_end: 387.954 | silence_duration: 0.307256',\n",
       " '[silencedetect @ 0000021c52e867c0] silence_start: 391.426',\n",
       " '[silencedetect @ 0000021c52e867c0] silence_end: 391.968 | silence_duration: 0.541338',\n",
       " '[silencedetect @ 0000021c52e867c0] silence_start: 411.457',\n",
       " '[silencedetect @ 0000021c52e867c0] silence_end: 411.745 | silence_duration: 0.287506',\n",
       " '[silencedetect @ 0000021c52e867c0] silence_start: 413.169',\n",
       " '[silencedetect @ 0000021c52e867c0] silence_end: 413.475 | silence_duration: 0.305624',\n",
       " '[silencedetect @ 0000021c52e867c0] silence_start: 414.698',\n",
       " '[silencedetect @ 0000021c52e867c0] silence_end: 415.037 | silence_duration: 0.338889',\n",
       " '[silencedetect @ 0000021c52e867c0] silence_start: 415.894',\n",
       " '[silencedetect @ 0000021c52e867c0] silence_end: 416.155 | silence_duration: 0.260975',\n",
       " '[silencedetect @ 0000021c52e867c0] silence_start: 417.332',\n",
       " '[silencedetect @ 0000021c52e867c0] silence_end: 417.977 | silence_duration: 0.644603',\n",
       " '[silencedetect @ 0000021c52e867c0] silence_start: 421.379',\n",
       " '[silencedetect @ 0000021c52e867c0] silence_end: 421.786 | silence_duration: 0.406893',\n",
       " '[silencedetect @ 0000021c52e867c0] silence_start: 424.438',\n",
       " '[silencedetect @ 0000021c52e867c0] silence_end: 424.878 | silence_duration: 0.439841',\n",
       " '[silencedetect @ 0000021c52e867c0] silence_start: 439.395',\n",
       " '[silencedetect @ 0000021c52e867c0] silence_end: 439.699 | silence_duration: 0.304059']"
      ]
     },
     "execution_count": 21,
     "metadata": {},
     "output_type": "execute_result"
    }
   ],
   "source": [
    "splits = str(stdout).split(\"100 pcm_s16le\\\\r\\\\n\")[1].split(\"\\\\r\\\\nsize=\")[0]\n",
    "splits = splits.split(\"\\\\r\\\\n\")\n",
    "splits"
   ]
  },
  {
   "cell_type": "code",
   "execution_count": null,
   "id": "6dfda68e",
   "metadata": {
    "ExecuteTime": {
     "end_time": "2022-03-16T05:13:31.045131Z",
     "start_time": "2022-03-16T05:13:31.022192Z"
    }
   },
   "outputs": [],
   "source": [
    "gh"
   ]
  },
  {
   "cell_type": "code",
   "execution_count": null,
   "id": "6ef6766f",
   "metadata": {
    "ExecuteTime": {
     "end_time": "2022-03-16T05:08:15.594864Z",
     "start_time": "2022-03-16T05:08:15.578878Z"
    }
   },
   "outputs": [],
   "source": []
  },
  {
   "cell_type": "code",
   "execution_count": null,
   "id": "1f123e4c",
   "metadata": {},
   "outputs": [],
   "source": []
  }
 ],
 "metadata": {
  "kernelspec": {
   "display_name": "Python 3 (ipykernel)",
   "language": "python",
   "name": "python3"
  },
  "language_info": {
   "codemirror_mode": {
    "name": "ipython",
    "version": 3
   },
   "file_extension": ".py",
   "mimetype": "text/x-python",
   "name": "python",
   "nbconvert_exporter": "python",
   "pygments_lexer": "ipython3",
   "version": "3.8.12"
  },
  "varInspector": {
   "cols": {
    "lenName": 16,
    "lenType": 16,
    "lenVar": 40
   },
   "kernels_config": {
    "python": {
     "delete_cmd_postfix": "",
     "delete_cmd_prefix": "del ",
     "library": "var_list.py",
     "varRefreshCmd": "print(var_dic_list())"
    },
    "r": {
     "delete_cmd_postfix": ") ",
     "delete_cmd_prefix": "rm(",
     "library": "var_list.r",
     "varRefreshCmd": "cat(var_dic_list()) "
    }
   },
   "types_to_exclude": [
    "module",
    "function",
    "builtin_function_or_method",
    "instance",
    "_Feature"
   ],
   "window_display": false
  }
 },
 "nbformat": 4,
 "nbformat_minor": 5
}
