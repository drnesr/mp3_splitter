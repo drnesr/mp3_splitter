{
 "cells": [
  {
   "cell_type": "code",
   "execution_count": 1,
   "id": "e8d1df09",
   "metadata": {
    "ExecuteTime": {
     "end_time": "2022-03-16T04:58:29.719053Z",
     "start_time": "2022-03-16T04:58:29.715090Z"
    }
   },
   "outputs": [],
   "source": [
    "# !pip install ffmpeg-python"
   ]
  },
  {
   "cell_type": "markdown",
   "id": "ae0e655e",
   "metadata": {},
   "source": [
    "Collecting ffmpeg-python\n",
    "\n",
    "  Downloading ffmpeg_python-0.2.0-py3-none-any.whl (25 kB)\n",
    "  \n",
    "Requirement already satisfied: future in c:\\programdata\\anaconda3\\lib\\site-packages (from ffmpeg-python) (0.18.2)\n",
    "\n",
    "Installing collected packages: ffmpeg-python\n",
    "\n",
    "Successfully installed ffmpeg-python-0.2.0"
   ]
  },
  {
   "cell_type": "code",
   "execution_count": 41,
   "id": "d4c424d0",
   "metadata": {
    "ExecuteTime": {
     "end_time": "2022-03-17T18:12:08.730142Z",
     "start_time": "2022-03-17T18:12:08.715181Z"
    }
   },
   "outputs": [],
   "source": [
    "import ffmpeg\n",
    "import os\n",
    "import subprocess\n",
    "import re\n",
    "import pandas as pd\n",
    "import numpy as np"
   ]
  },
  {
   "cell_type": "code",
   "execution_count": 22,
   "id": "314f5602",
   "metadata": {
    "ExecuteTime": {
     "end_time": "2022-03-17T03:55:48.339786Z",
     "start_time": "2022-03-17T03:55:48.328814Z"
    }
   },
   "outputs": [],
   "source": [
    "source = \"TestFile.mp3\"\n",
    "output = \"OutFile.mp3\"\n",
    "check = \"TestFile2.mp3\""
   ]
  },
  {
   "cell_type": "code",
   "execution_count": 4,
   "id": "f898c72e",
   "metadata": {
    "ExecuteTime": {
     "end_time": "2022-03-16T04:58:32.445693Z",
     "start_time": "2022-03-16T04:58:32.430733Z"
    }
   },
   "outputs": [],
   "source": [
    "spd = 1.5 # output speed\n",
    "vol = 1.0 # volume rise ratio if any\n",
    "bit = 16 # BitRate: 16K\n",
    "frq = 24000 # sampling stream frequency\n",
    "\n",
    "#Temporary parameters\n",
    "src, out = source, output\n",
    "# commands\n",
    "stg1 = f'ffmpeg -i {src} -filter:a \"atempo={spd},volume={vol}\" -q:a 100 {out}'\n",
    "stg2 = f\"ffmpeg -i {src} -ac 1 -b:a {bit}k -ar {frq} -write_xing 0 {output}\""
   ]
  },
  {
   "cell_type": "markdown",
   "id": "ffa691ee",
   "metadata": {},
   "source": [
    "### Finding silence and intervals, from this post\n",
    "https://stackoverflow.com/questions/14590279/error-nameerror-name-subprocess-is-not-defined"
   ]
  },
  {
   "cell_type": "code",
   "execution_count": 12,
   "id": "6afbc3ca",
   "metadata": {
    "ExecuteTime": {
     "end_time": "2022-03-16T05:11:20.064001Z",
     "start_time": "2022-03-16T05:11:19.552098Z"
    }
   },
   "outputs": [
    {
     "data": {
      "text/plain": [
       "b\"ffmpeg version 4.3.1 Copyright (c) 2000-2020 the FFmpeg developers\\r\\n  built with gcc 10.2.1 (GCC) 20200726\\r\\n  configuration: --disable-static --enable-shared --enable-gpl --enable-version3 --enable-sdl2 --enable-fontconfig --enable-gnutls --enable-iconv --enable-libass --enable-libdav1d --enable-libbluray --enable-libfreetype --enable-libmp3lame --enable-libopencore-amrnb --enable-libopencore-amrwb --enable-libopenjpeg --enable-libopus --enable-libshine --enable-libsnappy --enable-libsoxr --enable-libsrt --enable-libtheora --enable-libtwolame --enable-libvpx --enable-libwavpack --enable-libwebp --enable-libx264 --enable-libx265 --enable-libxml2 --enable-libzimg --enable-lzma --enable-zlib --enable-gmp --enable-libvidstab --enable-libvmaf --enable-libvorbis --enable-libvo-amrwbenc --enable-libmysofa --enable-libspeex --enable-libxvid --enable-libaom --enable-libgsm --enable-librav1e --disable-w32threads --enable-libmfx --enable-ffnvcodec --enable-cuda-llvm --enable-cuvid --enable-d3d11va --enable-nvenc --enable-nvdec --enable-dxva2 --enable-avisynth --enable-libopenmpt --enable-amf\\r\\n  libavutil      56. 51.100 / 56. 51.100\\r\\n  libavcodec     58. 91.100 / 58. 91.100\\r\\n  libavformat    58. 45.100 / 58. 45.100\\r\\n  libavdevice    58. 10.100 / 58. 10.100\\r\\n  libavfilter     7. 85.100 /  7. 85.100\\r\\n  libswscale      5.  7.100 /  5.  7.100\\r\\n  libswresample   3.  7.100 /  3.  7.100\\r\\n  libpostproc    55.  7.100 / 55.  7.100\\r\\nInput #0, mp3, from 'TestFile.mp3':\\r\\n  Metadata:\\r\\n    title           : TestFile_1/4\\r\\n  Duration: 00:07:20.50, start: 0.025057, bitrate: 128 kb/s\\r\\n    Stream #0:0: Audio: mp3, 44100 Hz, stereo, fltp, 128 kb/s\\r\\nStream mapping:\\r\\n  Stream #0:0 -> #0:0 (mp3 (mp3float) -> pcm_s16le (native))\\r\\nPress [q] to stop, [?] for help\\r\\nOutput #0, null, to 'pipe:':\\r\\n  Metadata:\\r\\n    title           : TestFile_1/4\\r\\n    encoder         : Lavf58.45.100\\r\\n    Stream #0:0: Audio: pcm_s16le, 44100 Hz, stereo, s16, 1411 kb/s\\r\\n    Metadata:\\r\\n      encoder         : Lavc58.91.100 pcm_s16le\\r\\n[silencedetect @ 0000021c52e867c0] silence_start: 14.1607\\r\\n[silencedetect @ 0000021c52e867c0] silence_end: 14.5508 | silence_duration: 0.390113\\r\\n[silencedetect @ 0000021c52e867c0] silence_start: 14.5509\\r\\n[silencedetect @ 0000021c52e867c0] silence_end: 14.8773 | silence_duration: 0.32644\\r\\n[silencedetect @ 0000021c52e867c0] silence_start: 53.0442\\r\\n[silencedetect @ 0000021c52e867c0] silence_end: 53.3589 | silence_duration: 0.314671\\r\\n[silencedetect @ 0000021c52e867c0] silence_start: 67.8339\\r\\n[silencedetect @ 0000021c52e867c0] silence_end: 68.1681 | silence_duration: 0.334218\\r\\n[silencedetect @ 0000021c52e867c0] silence_start: 114.954\\r\\n[silencedetect @ 0000021c52e867c0] silence_end: 115.233 | silence_duration: 0.279206\\r\\n[silencedetect @ 0000021c52e867c0] silence_start: 131.051\\r\\n[silencedetect @ 0000021c52e867c0] silence_end: 131.385 | silence_duration: 0.333991\\r\\n[silencedetect @ 0000021c52e867c0] silence_start: 143.995\\r\\n[silencedetect @ 0000021c52e867c0] silence_end: 144.25 | silence_duration: 0.255125\\r\\n[silencedetect @ 0000021c52e867c0] silence_start: 168.528\\r\\n[silencedetect @ 0000021c52e867c0] silence_end: 168.838 | silence_duration: 0.30966\\r\\n[silencedetect @ 0000021c52e867c0] silence_start: 174.488\\r\\n[silencedetect @ 0000021c52e867c0] silence_end: 174.809 | silence_duration: 0.321088\\r\\n[silencedetect @ 0000021c52e867c0] silence_start: 186.484\\r\\n[silencedetect @ 0000021c52e867c0] silence_end: 186.759 | silence_duration: 0.274921\\r\\n[silencedetect @ 0000021c52e867c0] silence_start: 246.877\\r\\n[silencedetect @ 0000021c52e867c0] silence_end: 247.2 | silence_duration: 0.322494\\r\\n[silencedetect @ 0000021c52e867c0] silence_start: 354.82\\r\\n[silencedetect @ 0000021c52e867c0] silence_end: 355.123 | silence_duration: 0.302766\\r\\n[silencedetect @ 0000021c52e867c0] silence_start: 381.662\\r\\n[silencedetect @ 0000021c52e867c0] silence_end: 382.15 | silence_duration: 0.487982\\r\\n[silencedetect @ 0000021c52e867c0] silence_start: 387.647\\r\\n[silencedetect @ 0000021c52e867c0] silence_end: 387.954 | silence_duration: 0.307256\\r\\n[silencedetect @ 0000021c52e867c0] silence_start: 391.426\\r\\n[silencedetect @ 0000021c52e867c0] silence_end: 391.968 | silence_duration: 0.541338\\r\\n[silencedetect @ 0000021c52e867c0] silence_start: 411.457\\r\\n[silencedetect @ 0000021c52e867c0] silence_end: 411.745 | silence_duration: 0.287506\\r\\n[silencedetect @ 0000021c52e867c0] silence_start: 413.169\\r\\n[silencedetect @ 0000021c52e867c0] silence_end: 413.475 | silence_duration: 0.305624\\r\\n[silencedetect @ 0000021c52e867c0] silence_start: 414.698\\r\\n[silencedetect @ 0000021c52e867c0] silence_end: 415.037 | silence_duration: 0.338889\\r\\n[silencedetect @ 0000021c52e867c0] silence_start: 415.894\\r\\n[silencedetect @ 0000021c52e867c0] silence_end: 416.155 | silence_duration: 0.260975\\r\\n[silencedetect @ 0000021c52e867c0] silence_start: 417.332\\r\\n[silencedetect @ 0000021c52e867c0] silence_end: 417.977 | silence_duration: 0.644603\\r\\n[silencedetect @ 0000021c52e867c0] silence_start: 421.379\\r\\n[silencedetect @ 0000021c52e867c0] silence_end: 421.786 | silence_duration: 0.406893\\r\\n[silencedetect @ 0000021c52e867c0] silence_start: 424.438\\r\\n[silencedetect @ 0000021c52e867c0] silence_end: 424.878 | silence_duration: 0.439841\\r\\n[silencedetect @ 0000021c52e867c0] silence_start: 439.395\\r\\n[silencedetect @ 0000021c52e867c0] silence_end: 439.699 | silence_duration: 0.304059\\r\\nsize=N/A time=00:07:20.47 bitrate=N/A speed= 981x    \\r\\nvideo:0kB audio:75879kB subtitle:0kB other streams:0kB global headers:0kB muxing overhead: unknown\\r\\n\""
      ]
     },
     "execution_count": 12,
     "metadata": {},
     "output_type": "execute_result"
    }
   ],
   "source": [
    "command = f\"ffmpeg -i {src} -af silencedetect=n=-30dB:d=0.25 -f null - \"\n",
    "out = subprocess.Popen(command, stdout=subprocess.PIPE, stderr=subprocess.STDOUT)\n",
    "\n",
    "stdout, stderr = out.communicate()\n",
    "stdout"
   ]
  },
  {
   "cell_type": "code",
   "execution_count": 21,
   "id": "494551b5",
   "metadata": {
    "ExecuteTime": {
     "end_time": "2022-03-16T05:20:08.507528Z",
     "start_time": "2022-03-16T05:20:08.493566Z"
    },
    "scrolled": true
   },
   "outputs": [
    {
     "data": {
      "text/plain": [
       "['[silencedetect @ 0000021c52e867c0] silence_start: 14.1607',\n",
       " '[silencedetect @ 0000021c52e867c0] silence_end: 14.5508 | silence_duration: 0.390113',\n",
       " '[silencedetect @ 0000021c52e867c0] silence_start: 14.5509',\n",
       " '[silencedetect @ 0000021c52e867c0] silence_end: 14.8773 | silence_duration: 0.32644',\n",
       " '[silencedetect @ 0000021c52e867c0] silence_start: 53.0442',\n",
       " '[silencedetect @ 0000021c52e867c0] silence_end: 53.3589 | silence_duration: 0.314671',\n",
       " '[silencedetect @ 0000021c52e867c0] silence_start: 67.8339',\n",
       " '[silencedetect @ 0000021c52e867c0] silence_end: 68.1681 | silence_duration: 0.334218',\n",
       " '[silencedetect @ 0000021c52e867c0] silence_start: 114.954',\n",
       " '[silencedetect @ 0000021c52e867c0] silence_end: 115.233 | silence_duration: 0.279206',\n",
       " '[silencedetect @ 0000021c52e867c0] silence_start: 131.051',\n",
       " '[silencedetect @ 0000021c52e867c0] silence_end: 131.385 | silence_duration: 0.333991',\n",
       " '[silencedetect @ 0000021c52e867c0] silence_start: 143.995',\n",
       " '[silencedetect @ 0000021c52e867c0] silence_end: 144.25 | silence_duration: 0.255125',\n",
       " '[silencedetect @ 0000021c52e867c0] silence_start: 168.528',\n",
       " '[silencedetect @ 0000021c52e867c0] silence_end: 168.838 | silence_duration: 0.30966',\n",
       " '[silencedetect @ 0000021c52e867c0] silence_start: 174.488',\n",
       " '[silencedetect @ 0000021c52e867c0] silence_end: 174.809 | silence_duration: 0.321088',\n",
       " '[silencedetect @ 0000021c52e867c0] silence_start: 186.484',\n",
       " '[silencedetect @ 0000021c52e867c0] silence_end: 186.759 | silence_duration: 0.274921',\n",
       " '[silencedetect @ 0000021c52e867c0] silence_start: 246.877',\n",
       " '[silencedetect @ 0000021c52e867c0] silence_end: 247.2 | silence_duration: 0.322494',\n",
       " '[silencedetect @ 0000021c52e867c0] silence_start: 354.82',\n",
       " '[silencedetect @ 0000021c52e867c0] silence_end: 355.123 | silence_duration: 0.302766',\n",
       " '[silencedetect @ 0000021c52e867c0] silence_start: 381.662',\n",
       " '[silencedetect @ 0000021c52e867c0] silence_end: 382.15 | silence_duration: 0.487982',\n",
       " '[silencedetect @ 0000021c52e867c0] silence_start: 387.647',\n",
       " '[silencedetect @ 0000021c52e867c0] silence_end: 387.954 | silence_duration: 0.307256',\n",
       " '[silencedetect @ 0000021c52e867c0] silence_start: 391.426',\n",
       " '[silencedetect @ 0000021c52e867c0] silence_end: 391.968 | silence_duration: 0.541338',\n",
       " '[silencedetect @ 0000021c52e867c0] silence_start: 411.457',\n",
       " '[silencedetect @ 0000021c52e867c0] silence_end: 411.745 | silence_duration: 0.287506',\n",
       " '[silencedetect @ 0000021c52e867c0] silence_start: 413.169',\n",
       " '[silencedetect @ 0000021c52e867c0] silence_end: 413.475 | silence_duration: 0.305624',\n",
       " '[silencedetect @ 0000021c52e867c0] silence_start: 414.698',\n",
       " '[silencedetect @ 0000021c52e867c0] silence_end: 415.037 | silence_duration: 0.338889',\n",
       " '[silencedetect @ 0000021c52e867c0] silence_start: 415.894',\n",
       " '[silencedetect @ 0000021c52e867c0] silence_end: 416.155 | silence_duration: 0.260975',\n",
       " '[silencedetect @ 0000021c52e867c0] silence_start: 417.332',\n",
       " '[silencedetect @ 0000021c52e867c0] silence_end: 417.977 | silence_duration: 0.644603',\n",
       " '[silencedetect @ 0000021c52e867c0] silence_start: 421.379',\n",
       " '[silencedetect @ 0000021c52e867c0] silence_end: 421.786 | silence_duration: 0.406893',\n",
       " '[silencedetect @ 0000021c52e867c0] silence_start: 424.438',\n",
       " '[silencedetect @ 0000021c52e867c0] silence_end: 424.878 | silence_duration: 0.439841',\n",
       " '[silencedetect @ 0000021c52e867c0] silence_start: 439.395',\n",
       " '[silencedetect @ 0000021c52e867c0] silence_end: 439.699 | silence_duration: 0.304059']"
      ]
     },
     "execution_count": 21,
     "metadata": {},
     "output_type": "execute_result"
    }
   ],
   "source": [
    "splits = str(stdout).split(\"100 pcm_s16le\\\\r\\\\n\")[1].split(\"\\\\r\\\\nsize=\")[0]\n",
    "splits = splits.split(\"\\\\r\\\\n\")\n",
    "splits"
   ]
  },
  {
   "cell_type": "markdown",
   "id": "daea950b",
   "metadata": {
    "ExecuteTime": {
     "end_time": "2022-03-16T05:13:31.045131Z",
     "start_time": "2022-03-16T05:13:31.022192Z"
    }
   },
   "source": [
    "#### Let's apply the same to other file, to see the output format"
   ]
  },
  {
   "cell_type": "code",
   "execution_count": 23,
   "id": "6d1553a4",
   "metadata": {
    "ExecuteTime": {
     "end_time": "2022-03-17T03:58:30.128457Z",
     "start_time": "2022-03-17T03:58:30.122473Z"
    }
   },
   "outputs": [],
   "source": [
    "def get_silence_times(src):\n",
    "    command = f\"ffmpeg -i {src} -af silencedetect=n=-30dB:d=0.25 -f null - \"\n",
    "    out = subprocess.Popen(command,\n",
    "                           stdout=subprocess.PIPE,\n",
    "                           stderr=subprocess.STDOUT)\n",
    "    stdout, stderr = out.communicate()\n",
    "    splits = str(stdout).split(\"100 pcm_s16le\\\\r\\\\n\")[1].split(\n",
    "        \"\\\\r\\\\nsize=\")[0]\n",
    "    splits = splits.split(\"\\\\r\\\\n\")\n",
    "    return splits"
   ]
  },
  {
   "cell_type": "code",
   "execution_count": 24,
   "id": "1304d55c",
   "metadata": {
    "ExecuteTime": {
     "end_time": "2022-03-17T03:58:49.303513Z",
     "start_time": "2022-03-17T03:58:48.853060Z"
    }
   },
   "outputs": [
    {
     "data": {
      "text/plain": [
       "['[silencedetect @ 000001e510f2b080] silence_start: 0',\n",
       " '[silencedetect @ 000001e510f2b080] silence_end: 0.766417 | silence_duration: 0.766417',\n",
       " '[silencedetect @ 000001e510f2b080] silence_start: 3.41925',\n",
       " '[silencedetect @ 000001e510f2b080] silence_end: 5.25726 | silence_duration: 1.838',\n",
       " '[silencedetect @ 000001e510f2b080] silence_start: 6.18304',\n",
       " '[silencedetect @ 000001e510f2b080] silence_end: 6.96218 | silence_duration: 0.779138',\n",
       " '[silencedetect @ 000001e510f2b080] silence_start: 9.79152',\n",
       " '[silencedetect @ 000001e510f2b080] silence_end: 10.9414 | silence_duration: 1.14986',\n",
       " '[silencedetect @ 000001e510f2b080] silence_start: 11.2242',\n",
       " '[silencedetect @ 000001e510f2b080] silence_end: 12.2511 | silence_duration: 1.02696',\n",
       " '[silencedetect @ 000001e510f2b080] silence_start: 17.3094',\n",
       " '[silencedetect @ 000001e510f2b080] silence_end: 18.0719 | silence_duration: 0.762426',\n",
       " '[silencedetect @ 000001e510f2b080] silence_start: 18.7098',\n",
       " '[silencedetect @ 000001e510f2b080] silence_end: 22.1404 | silence_duration: 3.43063',\n",
       " '[silencedetect @ 000001e510f2b080] silence_start: 22.1626',\n",
       " '[silencedetect @ 000001e510f2b080] silence_end: 22.6374 | silence_duration: 0.474853',\n",
       " '[silencedetect @ 000001e510f2b080] silence_start: 28.4873',\n",
       " '[silencedetect @ 000001e510f2b080] silence_end: 29.0687 | silence_duration: 0.581406',\n",
       " '[silencedetect @ 000001e510f2b080] silence_start: 29.899',\n",
       " '[silencedetect @ 000001e510f2b080] silence_end: 30.7388 | silence_duration: 0.839773',\n",
       " '[silencedetect @ 000001e510f2b080] silence_start: 30.9517',\n",
       " '[silencedetect @ 000001e510f2b080] silence_end: 32.269 | silence_duration: 1.31732',\n",
       " '[silencedetect @ 000001e510f2b080] silence_start: 35.7883',\n",
       " '[silencedetect @ 000001e510f2b080] silence_end: 36.6472 | silence_duration: 0.858821',\n",
       " '[silencedetect @ 000001e510f2b080] silence_start: 38.4139',\n",
       " '[silencedetect @ 000001e510f2b080] silence_end: 39.0353 | silence_duration: 0.621361',\n",
       " '[silencedetect @ 000001e510f2b080] silence_start: 39.8746',\n",
       " '[silencedetect @ 000001e510f2b080] silence_end: 43.0145 | silence_duration: 3.13991',\n",
       " '[silencedetect @ 000001e510f2b080] silence_start: 49.5885',\n",
       " '[silencedetect @ 000001e510f2b080] silence_end: 50.9405 | silence_duration: 1.35195',\n",
       " '[silencedetect @ 000001e510f2b080] silence_start: 53.1159',\n",
       " '[silencedetect @ 000001e510f2b080] silence_end: 54.4277 | silence_duration: 1.31184',\n",
       " '[silencedetect @ 000001e510f2b080] silence_start: 56.528',\n",
       " '[silencedetect @ 000001e510f2b080] silence_end: 57.9782 | silence_duration: 1.45016',\n",
       " '[silencedetect @ 000001e510f2b080] silence_start: 58.3288',\n",
       " '[silencedetect @ 000001e510f2b080] silence_end: 59.7711 | silence_duration: 1.44227',\n",
       " '[silencedetect @ 000001e510f2b080] silence_start: 62.3716',\n",
       " '[silencedetect @ 000001e510f2b080] silence_end: 63.2592 | silence_duration: 0.887596',\n",
       " '[silencedetect @ 000001e510f2b080] silence_start: 64.9651',\n",
       " '[silencedetect @ 000001e510f2b080] silence_end: 66.1257 | silence_duration: 1.16059',\n",
       " '[silencedetect @ 000001e510f2b080] silence_start: 69.0374',\n",
       " '[silencedetect @ 000001e510f2b080] silence_end: 71.0567 | silence_duration: 2.01932',\n",
       " '[silencedetect @ 000001e510f2b080] silence_start: 71.4278',\n",
       " '[silencedetect @ 000001e510f2b080] silence_end: 72.2672 | silence_duration: 0.83941',\n",
       " '[silencedetect @ 000001e510f2b080] silence_start: 73.4959',\n",
       " '[silencedetect @ 000001e510f2b080] silence_end: 74.4388 | silence_duration: 0.942834',\n",
       " '[silencedetect @ 000001e510f2b080] silence_start: 76.0535',\n",
       " '[silencedetect @ 000001e510f2b080] silence_end: 77.5881 | silence_duration: 1.53458',\n",
       " '[silencedetect @ 000001e510f2b080] silence_start: 77.8046',\n",
       " '[silencedetect @ 000001e510f2b080] silence_end: 78.623 | silence_duration: 0.81839',\n",
       " '[silencedetect @ 000001e510f2b080] silence_start: 80.1644',\n",
       " '[silencedetect @ 000001e510f2b080] silence_end: 81.0156 | silence_duration: 0.851156',\n",
       " '[silencedetect @ 000001e510f2b080] silence_start: 83.2685',\n",
       " '[silencedetect @ 000001e510f2b080] silence_end: 83.9834 | silence_duration: 0.714875',\n",
       " '[silencedetect @ 000001e510f2b080] silence_start: 88.7981',\n",
       " '[silencedetect @ 000001e510f2b080] silence_end: 89.4598 | silence_duration: 0.661678',\n",
       " '[silencedetect @ 000001e510f2b080] silence_start: 91.2117',\n",
       " '[silencedetect @ 000001e510f2b080] silence_end: 93.6345 | silence_duration: 2.42283',\n",
       " '[silencedetect @ 000001e510f2b080] silence_start: 96.8612',\n",
       " '[silencedetect @ 000001e510f2b080] silence_end: 98.4044 | silence_duration: 1.54317',\n",
       " '[silencedetect @ 000001e510f2b080] silence_start: 98.5627',\n",
       " '[silencedetect @ 000001e510f2b080] silence_end: 100.133 | silence_duration: 1.57061',\n",
       " '[silencedetect @ 000001e510f2b080] silence_start: 103.998',\n",
       " '[silencedetect @ 000001e510f2b080] silence_end: 105.179 | silence_duration: 1.1812',\n",
       " '[silencedetect @ 000001e510f2b080] silence_start: 106.772',\n",
       " '[silencedetect @ 000001e510f2b080] silence_end: 108.52 | silence_duration: 1.74776',\n",
       " '[silencedetect @ 000001e510f2b080] silence_start: 111.945',\n",
       " '[silencedetect @ 000001e510f2b080] silence_end: 113.037 | silence_duration: 1.09202',\n",
       " '[silencedetect @ 000001e510f2b080] silence_start: 114.524',\n",
       " '[silencedetect @ 000001e510f2b080] silence_end: 115.148 | silence_duration: 0.624082',\n",
       " '[silencedetect @ 000001e510f2b080] silence_start: 116.142',\n",
       " '[silencedetect @ 000001e510f2b080] silence_end: 116.504 | silence_duration: 0.361859',\n",
       " '[silencedetect @ 000001e510f2b080] silence_start: 117.175',\n",
       " '[silencedetect @ 000001e510f2b080] silence_end: 117.774 | silence_duration: 0.599342',\n",
       " '[silencedetect @ 000001e510f2b080] silence_start: 120.872',\n",
       " '[silencedetect @ 000001e510f2b080] silence_end: 122.375 | silence_duration: 1.50311',\n",
       " '[silencedetect @ 000001e510f2b080] silence_start: 123.495',\n",
       " '[silencedetect @ 000001e510f2b080] silence_end: 129.709 | silence_duration: 6.21356',\n",
       " '[silencedetect @ 000001e510f2b080] silence_start: 131.384',\n",
       " '[silencedetect @ 000001e510f2b080] silence_end: 131.698 | silence_duration: 0.313673',\n",
       " '[silencedetect @ 000001e510f2b080] silence_start: 132.548',\n",
       " '[silencedetect @ 000001e510f2b080] silence_end: 132.816 | silence_duration: 0.267574',\n",
       " '[silencedetect @ 000001e510f2b080] silence_start: 134.024',\n",
       " '[silencedetect @ 000001e510f2b080] silence_end: 134.879 | silence_duration: 0.854921',\n",
       " '[silencedetect @ 000001e510f2b080] silence_start: 135.282',\n",
       " '[silencedetect @ 000001e510f2b080] silence_end: 139.852 | silence_duration: 4.5702',\n",
       " '[silencedetect @ 000001e510f2b080] silence_start: 140.369',\n",
       " '[silencedetect @ 000001e510f2b080] silence_end: 140.724 | silence_duration: 0.355011',\n",
       " '[silencedetect @ 000001e510f2b080] silence_start: 142.468',\n",
       " '[silencedetect @ 000001e510f2b080] silence_end: 143.312 | silence_duration: 0.844354',\n",
       " '[silencedetect @ 000001e510f2b080] silence_start: 144.436',\n",
       " '[silencedetect @ 000001e510f2b080] silence_end: 146.376 | silence_duration: 1.94045',\n",
       " '[silencedetect @ 000001e510f2b080] silence_start: 148.058',\n",
       " '[silencedetect @ 000001e510f2b080] silence_end: 149.407 | silence_duration: 1.34927',\n",
       " '[silencedetect @ 000001e510f2b080] silence_start: 150.067',\n",
       " '[silencedetect @ 000001e510f2b080] silence_end: 150.357 | silence_duration: 0.290703',\n",
       " '[silencedetect @ 000001e510f2b080] silence_start: 153.365',\n",
       " '[silencedetect @ 000001e510f2b080] silence_end: 154.211 | silence_duration: 0.846327',\n",
       " '[silencedetect @ 000001e510f2b080] silence_start: 155.444',\n",
       " '[silencedetect @ 000001e510f2b080] silence_end: 156.19 | silence_duration: 0.745601',\n",
       " '[silencedetect @ 000001e510f2b080] silence_start: 158.437',\n",
       " '[silencedetect @ 000001e510f2b080] silence_end: 159.84 | silence_duration: 1.40261',\n",
       " '[silencedetect @ 000001e510f2b080] silence_start: 160.061',\n",
       " '[silencedetect @ 000001e510f2b080] silence_end: 160.607 | silence_duration: 0.546485',\n",
       " '[silencedetect @ 000001e510f2b080] silence_start: 162.444',\n",
       " '[silencedetect @ 000001e510f2b080] silence_end: 163.468 | silence_duration: 1.02415',\n",
       " '[silencedetect @ 000001e510f2b080] silence_start: 164.847',\n",
       " '[silencedetect @ 000001e510f2b080] silence_end: 165.616 | silence_duration: 0.768594',\n",
       " '[silencedetect @ 000001e510f2b080] silence_start: 166.344',\n",
       " '[silencedetect @ 000001e510f2b080] silence_end: 167.638 | silence_duration: 1.29449',\n",
       " '[silencedetect @ 000001e510f2b080] silence_start: 168.119',\n",
       " '[silencedetect @ 000001e510f2b080] silence_end: 168.691 | silence_duration: 0.571973',\n",
       " '[silencedetect @ 000001e510f2b080] silence_start: 169.368',\n",
       " '[silencedetect @ 000001e510f2b080] silence_end: 170.209 | silence_duration: 0.840204',\n",
       " '[silencedetect @ 000001e510f2b080] silence_start: 171.331',\n",
       " '[silencedetect @ 000001e510f2b080] silence_end: 172.428 | silence_duration: 1.09744',\n",
       " '[silencedetect @ 000001e510f2b080] silence_start: 173.423',\n",
       " '[silencedetect @ 000001e510f2b080] silence_end: 173.895 | silence_duration: 0.471927',\n",
       " '[silencedetect @ 000001e510f2b080] silence_start: 176.6',\n",
       " '[silencedetect @ 000001e510f2b080] silence_end: 177.556 | silence_duration: 0.955918',\n",
       " '[silencedetect @ 000001e510f2b080] silence_start: 178.638',\n",
       " '[silencedetect @ 000001e510f2b080] silence_end: 178.947 | silence_duration: 0.30907',\n",
       " '[silencedetect @ 000001e510f2b080] silence_start: 181.833',\n",
       " '[silencedetect @ 000001e510f2b080] silence_end: 182.502 | silence_duration: 0.669796',\n",
       " '[silencedetect @ 000001e510f2b080] silence_start: 183.956',\n",
       " '[silencedetect @ 000001e510f2b080] silence_end: 184.269 | silence_duration: 0.312948',\n",
       " '[silencedetect @ 000001e510f2b080] silence_start: 186.001',\n",
       " '[silencedetect @ 000001e510f2b080] silence_end: 186.693 | silence_duration: 0.691587',\n",
       " '[silencedetect @ 000001e510f2b080] silence_start: 188.048',\n",
       " '[silencedetect @ 000001e510f2b080] silence_end: 188.457 | silence_duration: 0.40941',\n",
       " '[silencedetect @ 000001e510f2b080] silence_start: 190.359',\n",
       " '[silencedetect @ 000001e510f2b080] silence_end: 190.739 | silence_duration: 0.379864',\n",
       " '[silencedetect @ 000001e510f2b080] silence_start: 192.78',\n",
       " '[silencedetect @ 000001e510f2b080] silence_end: 193.074 | silence_duration: 0.294195',\n",
       " '[silencedetect @ 000001e510f2b080] silence_start: 194.751',\n",
       " '[silencedetect @ 000001e510f2b080] silence_end: 195.078 | silence_duration: 0.326077',\n",
       " '[silencedetect @ 000001e510f2b080] silence_start: 197.816',\n",
       " '[silencedetect @ 000001e510f2b080] silence_end: 198.312 | silence_duration: 0.495918',\n",
       " '[silencedetect @ 000001e510f2b080] silence_start: 200.219',\n",
       " '[silencedetect @ 000001e510f2b080] silence_end: 201.453 | silence_duration: 1.23433',\n",
       " '[silencedetect @ 000001e510f2b080] silence_start: 202.42',\n",
       " '[silencedetect @ 000001e510f2b080] silence_end: 203.457 | silence_duration: 1.03735',\n",
       " '[silencedetect @ 000001e510f2b080] silence_start: 204.274',\n",
       " '[silencedetect @ 000001e510f2b080] silence_end: 204.913 | silence_duration: 0.639002',\n",
       " '[silencedetect @ 000001e510f2b080] silence_start: 205.798',\n",
       " '[silencedetect @ 000001e510f2b080] silence_end: 206.126 | silence_duration: 0.327551',\n",
       " '[silencedetect @ 000001e510f2b080] silence_start: 206.99',\n",
       " '[silencedetect @ 000001e510f2b080] silence_end: 208.188 | silence_duration: 1.19878',\n",
       " '[silencedetect @ 000001e510f2b080] silence_start: 209.041',\n",
       " '[silencedetect @ 000001e510f2b080] silence_end: 209.334 | silence_duration: 0.29322',\n",
       " '[silencedetect @ 000001e510f2b080] silence_start: 209.388',\n",
       " '[silencedetect @ 000001e510f2b080] silence_end: 210.019 | silence_duration: 0.631723',\n",
       " '[silencedetect @ 000001e510f2b080] silence_start: 212.773',\n",
       " '[silencedetect @ 000001e510f2b080] silence_end: 213.03 | silence_duration: 0.25746',\n",
       " '[silencedetect @ 000001e510f2b080] silence_start: 213.761',\n",
       " '[silencedetect @ 000001e510f2b080] silence_end: 214.232 | silence_duration: 0.471224',\n",
       " '[silencedetect @ 000001e510f2b080] silence_start: 218.213',\n",
       " '[silencedetect @ 000001e510f2b080] silence_end: 218.535 | silence_duration: 0.321361',\n",
       " '[silencedetect @ 000001e510f2b080] silence_start: 219.419',\n",
       " '[silencedetect @ 000001e510f2b080] silence_end: 219.946 | silence_duration: 0.527596',\n",
       " '[silencedetect @ 000001e510f2b080] silence_start: 223.754',\n",
       " '[silencedetect @ 000001e510f2b080] silence_end: 224.978 | silence_duration: 1.22367',\n",
       " '[silencedetect @ 000001e510f2b080] silence_start: 234.242',\n",
       " '[silencedetect @ 000001e510f2b080] silence_end: 234.492 | silence_duration: 0.250408',\n",
       " '[silencedetect @ 000001e510f2b080] silence_start: 236.782',\n",
       " '[silencedetect @ 000001e510f2b080] silence_end: 237.105 | silence_duration: 0.32263',\n",
       " '[silencedetect @ 000001e510f2b080] silence_start: 238.219',\n",
       " '[silencedetect @ 000001e510f2b080] silence_end: 238.847 | silence_duration: 0.628231',\n",
       " '[silencedetect @ 000001e510f2b080] silence_start: 240.327',\n",
       " '[silencedetect @ 000001e510f2b080] silence_end: 240.703 | silence_duration: 0.375374',\n",
       " '[silencedetect @ 000001e510f2b080] silence_start: 244.689',\n",
       " '[silencedetect @ 000001e510f2b080] silence_end: 245.804 | silence_duration: 1.11515',\n",
       " '[silencedetect @ 000001e510f2b080] silence_start: 254.314',\n",
       " 'frame=    1 fps=0.0 q=-0.0 Lsize=N/A time=00:04:17.09 bitrate=N/A speed= 924x    ',\n",
       " 'video:1kB audio:44289kB subtitle:0kB other streams:0kB global headers:0kB muxing overhead: unknown',\n",
       " '[silencedetect @ 000001e510f2b080] silence_end: 257.098 | silence_duration: 2.78435',\n",
       " '\"']"
      ]
     },
     "execution_count": 24,
     "metadata": {},
     "output_type": "execute_result"
    }
   ],
   "source": [
    "get_silence_times(check)"
   ]
  },
  {
   "cell_type": "markdown",
   "id": "1e49a50a",
   "metadata": {},
   "source": [
    "It appears that there are 3 lines at the end of outputs that are not related to `silencedetect` \n",
    "\n",
    "## Trying regex"
   ]
  },
  {
   "cell_type": "code",
   "execution_count": 35,
   "id": "f898ae1c",
   "metadata": {
    "ExecuteTime": {
     "end_time": "2022-03-17T17:55:32.470847Z",
     "start_time": "2022-03-17T17:55:32.462870Z"
    }
   },
   "outputs": [
    {
     "data": {
      "text/plain": [
       "[(14.1607, 14.5508, 0.390113),\n",
       " (14.5509, 14.8773, 0.32644),\n",
       " (53.0442, 53.3589, 0.314671),\n",
       " (67.8339, 68.1681, 0.334218),\n",
       " (114.954, 115.233, 0.279206),\n",
       " (131.051, 131.385, 0.333991),\n",
       " (143.995, 144.25, 0.255125),\n",
       " (168.528, 168.838, 0.30966),\n",
       " (174.488, 174.809, 0.321088),\n",
       " (186.484, 186.759, 0.274921),\n",
       " (246.877, 247.2, 0.322494),\n",
       " (354.82, 355.123, 0.302766),\n",
       " (381.662, 382.15, 0.487982),\n",
       " (387.647, 387.954, 0.307256),\n",
       " (391.426, 391.968, 0.541338),\n",
       " (411.457, 411.745, 0.287506),\n",
       " (413.169, 413.475, 0.305624),\n",
       " (414.698, 415.037, 0.338889),\n",
       " (415.894, 416.155, 0.260975),\n",
       " (417.332, 417.977, 0.644603),\n",
       " (421.379, 421.786, 0.406893),\n",
       " (424.438, 424.878, 0.439841),\n",
       " (439.395, 439.699, 0.304059)]"
      ]
     },
     "execution_count": 35,
     "metadata": {},
     "output_type": "execute_result"
    }
   ],
   "source": [
    "str_out = str(stdout) \n",
    "# reg = r'(silence_start: (\\d+.\\d+)).*(silence_end: (\\d+.\\d+)).*(silence_duration: (\\d+.\\d+))'\n",
    "# reg = r'(silence_start: (\\d+.\\d+))'\n",
    "# reg = r'silence_start: (\\d+.\\d+)'\n",
    "s_start = re.findall(r'silence_start: (\\d+.\\d+)', str_out)\n",
    "s_end = re.findall(r'silence_end: (\\d+.\\d+)', str_out)\n",
    "s_duration = re.findall(r'silence_duration: (\\d+.\\d+)', str_out)\n",
    "s_start = map(float, s_start)\n",
    "s_end= map(float, s_end)\n",
    "s_duration= map(float, s_duration)\n",
    "results = list(zip(s_start, s_end, s_duration))\n",
    "results"
   ]
  },
  {
   "cell_type": "markdown",
   "id": "229a0769",
   "metadata": {},
   "source": [
    "## Splitting\n",
    "The file `TestFile.mp3` duration is 7:21. (441 seconds)\n",
    "\n",
    "Consider splitting the file every 60 seconds, \n",
    "\n",
    "i.e. @60, 120, 180, 240, 300, 360, 420 seconds\n",
    "\n",
    "If the remaining portion is less than 30 seconds, then it should be merged to the last portion.\n",
    "\n",
    "***We need to import pandas to deal with the table faster***"
   ]
  },
  {
   "cell_type": "code",
   "execution_count": 39,
   "id": "120b1866",
   "metadata": {
    "ExecuteTime": {
     "end_time": "2022-03-17T18:05:50.245191Z",
     "start_time": "2022-03-17T18:05:50.233223Z"
    }
   },
   "outputs": [
    {
     "data": {
      "text/html": [
       "<div>\n",
       "<style scoped>\n",
       "    .dataframe tbody tr th:only-of-type {\n",
       "        vertical-align: middle;\n",
       "    }\n",
       "\n",
       "    .dataframe tbody tr th {\n",
       "        vertical-align: top;\n",
       "    }\n",
       "\n",
       "    .dataframe thead th {\n",
       "        text-align: right;\n",
       "    }\n",
       "</style>\n",
       "<table border=\"1\" class=\"dataframe\">\n",
       "  <thead>\n",
       "    <tr style=\"text-align: right;\">\n",
       "      <th></th>\n",
       "      <th>silence_start</th>\n",
       "      <th>silence_end</th>\n",
       "      <th>silence_duration</th>\n",
       "    </tr>\n",
       "  </thead>\n",
       "  <tbody>\n",
       "    <tr>\n",
       "      <th>0</th>\n",
       "      <td>14.1607</td>\n",
       "      <td>14.5508</td>\n",
       "      <td>0.390113</td>\n",
       "    </tr>\n",
       "    <tr>\n",
       "      <th>1</th>\n",
       "      <td>14.5509</td>\n",
       "      <td>14.8773</td>\n",
       "      <td>0.326440</td>\n",
       "    </tr>\n",
       "    <tr>\n",
       "      <th>2</th>\n",
       "      <td>53.0442</td>\n",
       "      <td>53.3589</td>\n",
       "      <td>0.314671</td>\n",
       "    </tr>\n",
       "  </tbody>\n",
       "</table>\n",
       "</div>"
      ],
      "text/plain": [
       "   silence_start  silence_end  silence_duration\n",
       "0        14.1607      14.5508          0.390113\n",
       "1        14.5509      14.8773          0.326440\n",
       "2        53.0442      53.3589          0.314671"
      ]
     },
     "execution_count": 39,
     "metadata": {},
     "output_type": "execute_result"
    }
   ],
   "source": [
    "results_df = pd.DataFrame(\n",
    "    results, columns=['silence_start', 'silence_end', 'silence_duration'])\n",
    "results_df.head(3)"
   ]
  },
  {
   "cell_type": "markdown",
   "id": "54aaf3b4",
   "metadata": {},
   "source": [
    "We need to split at the middle of the silence period,\n",
    " i.e., @ `silence_start + silence_duration / 2`"
   ]
  },
  {
   "cell_type": "code",
   "execution_count": 40,
   "id": "908c796a",
   "metadata": {
    "ExecuteTime": {
     "end_time": "2022-03-17T18:07:53.975151Z",
     "start_time": "2022-03-17T18:07:53.959196Z"
    }
   },
   "outputs": [
    {
     "data": {
      "text/html": [
       "<div>\n",
       "<style scoped>\n",
       "    .dataframe tbody tr th:only-of-type {\n",
       "        vertical-align: middle;\n",
       "    }\n",
       "\n",
       "    .dataframe tbody tr th {\n",
       "        vertical-align: top;\n",
       "    }\n",
       "\n",
       "    .dataframe thead th {\n",
       "        text-align: right;\n",
       "    }\n",
       "</style>\n",
       "<table border=\"1\" class=\"dataframe\">\n",
       "  <thead>\n",
       "    <tr style=\"text-align: right;\">\n",
       "      <th></th>\n",
       "      <th>silence_start</th>\n",
       "      <th>silence_end</th>\n",
       "      <th>silence_duration</th>\n",
       "      <th>silence_mid</th>\n",
       "    </tr>\n",
       "  </thead>\n",
       "  <tbody>\n",
       "    <tr>\n",
       "      <th>0</th>\n",
       "      <td>14.1607</td>\n",
       "      <td>14.5508</td>\n",
       "      <td>0.390113</td>\n",
       "      <td>14.355757</td>\n",
       "    </tr>\n",
       "    <tr>\n",
       "      <th>1</th>\n",
       "      <td>14.5509</td>\n",
       "      <td>14.8773</td>\n",
       "      <td>0.326440</td>\n",
       "      <td>14.714120</td>\n",
       "    </tr>\n",
       "    <tr>\n",
       "      <th>2</th>\n",
       "      <td>53.0442</td>\n",
       "      <td>53.3589</td>\n",
       "      <td>0.314671</td>\n",
       "      <td>53.201535</td>\n",
       "    </tr>\n",
       "  </tbody>\n",
       "</table>\n",
       "</div>"
      ],
      "text/plain": [
       "   silence_start  silence_end  silence_duration  silence_mid\n",
       "0        14.1607      14.5508          0.390113    14.355757\n",
       "1        14.5509      14.8773          0.326440    14.714120\n",
       "2        53.0442      53.3589          0.314671    53.201535"
      ]
     },
     "execution_count": 40,
     "metadata": {},
     "output_type": "execute_result"
    }
   ],
   "source": [
    "results_df[\n",
    "    'silence_mid'] = results_df.silence_start + results_df.silence_duration / 2\n",
    "\n",
    "results_df.head(3)"
   ]
  },
  {
   "cell_type": "markdown",
   "id": "3944f9de",
   "metadata": {},
   "source": [
    "looping through the `silence_mid` to find the neasest value to each of our splitting points\n",
    "\n",
    "***we need numpy to create a list of stopping points***"
   ]
  },
  {
   "cell_type": "code",
   "execution_count": 61,
   "id": "5bdb917b",
   "metadata": {
    "ExecuteTime": {
     "end_time": "2022-03-17T20:12:11.155156Z",
     "start_time": "2022-03-17T20:12:11.100804Z"
    }
   },
   "outputs": [
    {
     "data": {
      "text/plain": [
       "440.502857"
      ]
     },
     "execution_count": 61,
     "metadata": {},
     "output_type": "execute_result"
    }
   ],
   "source": [
    "# From this post:\n",
    "#     https://stackoverflow.com/a/64582429/5820024\n",
    "end_time = float(ffmpeg.probe(src)['format']['duration'])\n",
    "end_time"
   ]
  },
  {
   "cell_type": "code",
   "execution_count": 69,
   "id": "edc69798",
   "metadata": {
    "ExecuteTime": {
     "end_time": "2022-03-17T20:23:05.190585Z",
     "start_time": "2022-03-17T20:23:05.177620Z"
    }
   },
   "outputs": [
    {
     "data": {
      "text/plain": [
       "array([ 60, 120, 180, 240, 300, 360, 420])"
      ]
     },
     "execution_count": 69,
     "metadata": {},
     "output_type": "execute_result"
    }
   ],
   "source": [
    "split_interval = 60\n",
    "split_arr = np.arange(split_interval, int(end_time), split_interval)\n",
    "split_arr"
   ]
  },
  {
   "cell_type": "markdown",
   "id": "04d3ba2f",
   "metadata": {},
   "source": [
    "getting an array of `silence_mid`"
   ]
  },
  {
   "cell_type": "code",
   "execution_count": 45,
   "id": "1b1f35c8",
   "metadata": {
    "ExecuteTime": {
     "end_time": "2022-03-17T18:19:16.601393Z",
     "start_time": "2022-03-17T18:19:16.587401Z"
    }
   },
   "outputs": [
    {
     "data": {
      "text/plain": [
       "array([ 14.3557565,  14.71412  ,  53.2015355,  68.001009 , 115.093603 ,\n",
       "       131.2179955, 144.1225625, 168.68283  , 174.648544 , 186.6214605,\n",
       "       247.038247 , 354.971383 , 381.905991 , 387.800628 , 391.696669 ,\n",
       "       411.600753 , 413.321812 , 414.8674445, 416.0244875, 417.6543015,\n",
       "       421.5824465, 424.6579205, 439.5470295])"
      ]
     },
     "execution_count": 45,
     "metadata": {},
     "output_type": "execute_result"
    }
   ],
   "source": [
    "silence_mid = results_df.silence_mid.to_numpy()\n",
    "silence_mid "
   ]
  },
  {
   "cell_type": "code",
   "execution_count": 53,
   "id": "103eddb2",
   "metadata": {
    "ExecuteTime": {
     "end_time": "2022-03-17T19:58:26.114834Z",
     "start_time": "2022-03-17T19:58:26.094859Z"
    }
   },
   "outputs": [
    {
     "data": {
      "text/plain": [
       "[53.2015355,\n",
       " 115.09360299999999,\n",
       " 174.648544,\n",
       " 247.038247,\n",
       " 354.971383,\n",
       " 381.905991,\n",
       " 421.5824465]"
      ]
     },
     "execution_count": 53,
     "metadata": {},
     "output_type": "execute_result"
    }
   ],
   "source": [
    "# for i, split_time in enumerate(split_arr):\n",
    "i=0\n",
    "success_array =[]\n",
    "for j, silence_time in enumerate(silence_mid):\n",
    "    if silence_time < split_arr[i]:\n",
    "        continue\n",
    "    else:\n",
    "        # compare which item is closer to our suggested split time\n",
    "        prev_silence = silence_mid[j-1]\n",
    "        if silence_time-split_arr[i] > split_arr[i] - prev_silence:\n",
    "            if prev_silence not in success_array:\n",
    "                success_array.append(prev_silence)\n",
    "            else:\n",
    "                success_array.append(silence_time)\n",
    "        else:\n",
    "            success_array.append(silence_time)\n",
    "        # move to the next time in the split_arr\n",
    "        if i< len(split_arr)-1:\n",
    "            i +=1\n",
    "        else:\n",
    "            break\n",
    "success_array"
   ]
  },
  {
   "cell_type": "markdown",
   "id": "50ff637d",
   "metadata": {},
   "source": [
    "Getting the difference between each two intervals, to get the lengths of split files\n",
    "1. add zero before the array\n",
    "1. add the lenght of the mp3 file after the array\n"
   ]
  },
  {
   "cell_type": "code",
   "execution_count": 75,
   "id": "4ebcf0b9",
   "metadata": {
    "ExecuteTime": {
     "end_time": "2022-03-17T20:30:04.727269Z",
     "start_time": "2022-03-17T20:30:04.710314Z"
    }
   },
   "outputs": [
    {
     "data": {
      "text/plain": [
       "[0,\n",
       " 53.2015355,\n",
       " 115.09360299999999,\n",
       " 174.648544,\n",
       " 247.038247,\n",
       " 354.971383,\n",
       " 381.905991,\n",
       " 421.5824465,\n",
       " 440.502857]"
      ]
     },
     "execution_count": 75,
     "metadata": {},
     "output_type": "execute_result"
    }
   ],
   "source": [
    "dur_array= [0] + success_array+[end_time]\n",
    "# dur_array= success_array+[end_time]\n",
    "dur_array"
   ]
  },
  {
   "cell_type": "code",
   "execution_count": 76,
   "id": "7e554941",
   "metadata": {
    "ExecuteTime": {
     "end_time": "2022-03-17T20:30:57.705476Z",
     "start_time": "2022-03-17T20:30:57.692511Z"
    }
   },
   "outputs": [
    {
     "data": {
      "text/plain": [
       "array([ 53.2015355,  61.8920675,  59.554941 ,  72.389703 , 107.933136 ,\n",
       "        26.934608 ,  39.6764555,  18.9204105])"
      ]
     },
     "execution_count": 76,
     "metadata": {},
     "output_type": "execute_result"
    }
   ],
   "source": [
    "difference_array = np.diff(np.array(dur_array))\n",
    "difference_array"
   ]
  },
  {
   "cell_type": "markdown",
   "id": "a53ddf16",
   "metadata": {},
   "source": [
    "### Merging small parts\n",
    "Small part is considdered small if it is less than `x` seconds\n",
    "\n",
    "The small part should be merged to the next part, so that the sum does not exceeds `y` seconds"
   ]
  },
  {
   "cell_type": "code",
   "execution_count": 97,
   "id": "2dc7409e",
   "metadata": {
    "ExecuteTime": {
     "end_time": "2022-03-17T21:05:10.648582Z",
     "start_time": "2022-03-17T21:05:10.637586Z"
    }
   },
   "outputs": [
    {
     "data": {
      "text/plain": [
       "(48.0, 150.0)"
      ]
     },
     "execution_count": 97,
     "metadata": {},
     "output_type": "execute_result"
    }
   ],
   "source": [
    "min_duration = 0.8 * split_interval\n",
    "max_duration = 2.5 * split_interval\n",
    "min_duration, max_duration"
   ]
  },
  {
   "cell_type": "code",
   "execution_count": 110,
   "id": "8d93d6ad",
   "metadata": {
    "ExecuteTime": {
     "end_time": "2022-03-17T21:18:19.766735Z",
     "start_time": "2022-03-17T21:18:19.751779Z"
    }
   },
   "outputs": [
    {
     "data": {
      "text/plain": [
       "[53.2015355,\n",
       " 61.89206749999999,\n",
       " 59.554941,\n",
       " 72.38970300000003,\n",
       " 107.93313599999999,\n",
       " 66.6110635]"
      ]
     },
     "execution_count": 110,
     "metadata": {},
     "output_type": "execute_result"
    }
   ],
   "source": [
    "# Check each element for the forward round\n",
    "def merge_small_durations(diff_arr, min_dur, max_dur):\n",
    "    dur_array_forward = []\n",
    "    flag_raised=False # the flag will be raised if we merges occur\n",
    "    for i, dur in enumerate(diff_arr):\n",
    "        if flag_raised: \n",
    "            flag_raised=False\n",
    "            continue\n",
    "        if (dur < min_dur) & (dur > 0):\n",
    "            if i + 1 < len(diff_arr):\n",
    "                next_diff = diff_arr[i + 1]\n",
    "#                 if next_diff==0:\n",
    "#                     next_diff = diff_arr[i + 2]\n",
    "                if dur + next_diff < max_dur:\n",
    "                    # dur_array_forward.append(0)\n",
    "                    dur_array_forward.append(dur + next_diff)\n",
    "                    flag_raised=True\n",
    "        else:\n",
    "            dur_array_forward.append(dur)\n",
    "    return dur_array_forward\n",
    "\n",
    "\n",
    "fwd_arr = merge_small_durations(difference_array, min_duration, max_duration)\n",
    "fwd_arr"
   ]
  },
  {
   "cell_type": "code",
   "execution_count": 111,
   "id": "5c6008d0",
   "metadata": {
    "ExecuteTime": {
     "end_time": "2022-03-17T21:18:28.474353Z",
     "start_time": "2022-03-17T21:18:28.455377Z"
    }
   },
   "outputs": [
    {
     "data": {
      "text/plain": [
       "[53.2015355,\n",
       " 61.89206749999999,\n",
       " 59.554941,\n",
       " 72.38970300000003,\n",
       " 107.93313599999999,\n",
       " 66.6110635]"
      ]
     },
     "execution_count": 111,
     "metadata": {},
     "output_type": "execute_result"
    }
   ],
   "source": [
    "bwd_arr = merge_small_durations(fwd_arr[::-1], min_duration,\n",
    "                                max_duration)[::-1]\n",
    "bwd_arr"
   ]
  },
  {
   "cell_type": "code",
   "execution_count": 112,
   "id": "49ed78ca",
   "metadata": {
    "ExecuteTime": {
     "end_time": "2022-03-17T21:18:40.614760Z",
     "start_time": "2022-03-17T21:18:40.578856Z"
    }
   },
   "outputs": [
    {
     "name": "stdout",
     "output_type": "stream",
     "text": [
      "[53.2015355, 115.09360299999999, 174.648544, 247.038247, 354.971383, 381.905991, 421.5824465]\n",
      "[ 53.2015355  61.8920675  59.554941   72.389703  107.933136   26.934608\n",
      "  39.6764555  18.9204105]\n",
      "[53.2015355, 61.89206749999999, 59.554941, 72.38970300000003, 107.93313599999999, 66.6110635]\n"
     ]
    },
    {
     "data": {
      "text/plain": [
       "[(53.2015355, 53.2015355),\n",
       " (115.09360299999999, 61.89206749999999),\n",
       " (174.648544, 59.554941),\n",
       " (247.038247, 72.38970300000003),\n",
       " (354.971383, 107.93313599999999),\n",
       " (381.905991, 66.6110635)]"
      ]
     },
     "execution_count": 112,
     "metadata": {},
     "output_type": "execute_result"
    }
   ],
   "source": [
    "# getting the modified success_array\n",
    "print(success_array)\n",
    "print(difference_array)\n",
    "print(bwd_arr)\n",
    "\n",
    "list(zip(success_array, bwd_arr))\n"
   ]
  },
  {
   "cell_type": "code",
   "execution_count": 113,
   "id": "e0f3434c",
   "metadata": {
    "ExecuteTime": {
     "end_time": "2022-03-17T21:39:03.980250Z",
     "start_time": "2022-03-17T21:39:03.971274Z"
    }
   },
   "outputs": [],
   "source": [
    "def merge_small_durations(diff_arr, min_dur, max_dur, fwd=True):\n",
    "    dur_arr_mod = []\n",
    "    flag_raised = False  # the flag will be raised if we merges occur\n",
    "    for i, dur in enumerate(diff_arr):\n",
    "        if flag_raised:\n",
    "            flag_raised = False\n",
    "            continue\n",
    "        if (dur < min_dur) & (dur > 0):\n",
    "            # if dur < min_dur:\n",
    "            if i + 1 < len(diff_arr):\n",
    "                next_diff = diff_arr[i + 1]\n",
    "                if dur + next_diff < max_dur:\n",
    "                    if fwd: dur_arr_mod.append(0)\n",
    "                    dur_arr_mod.append(dur + next_diff)\n",
    "                    if not fwd: dur_arr_mod.append(0)\n",
    "                    flag_raised = True\n",
    "            else:\n",
    "                dur_arr_mod.append(dur)\n",
    "        else:\n",
    "            dur_arr_mod.append(dur)\n",
    "    return dur_arr_mod"
   ]
  },
  {
   "cell_type": "code",
   "execution_count": 117,
   "id": "4174c039",
   "metadata": {
    "ExecuteTime": {
     "end_time": "2022-03-17T21:43:20.670265Z",
     "start_time": "2022-03-17T21:43:20.664281Z"
    }
   },
   "outputs": [
    {
     "name": "stdout",
     "output_type": "stream",
     "text": [
      "7 [53.2015355, 115.09360299999999, 174.648544, 247.038247, 354.971383, 381.905991, 421.5824465]\n",
      "9 [0, 53.2015355, 115.09360299999999, 174.648544, 247.038247, 354.971383, 381.905991, 421.5824465, 440.502857]\n",
      "8 [53.2015355, 61.89206749999999, 59.554941, 72.38970300000003, 107.93313599999999, 26.93460799999997, 39.67645550000003, 18.920410500000003]\n",
      "8 [53.2015355, 61.89206749999999, 59.554941, 72.38970300000003, 107.93313599999999, 0, 66.6110635, 18.920410500000003]\n",
      "8 [53.2015355, 61.89206749999999, 59.554941, 72.38970300000003, 107.93313599999999, 0, 0, 85.531474]\n"
     ]
    }
   ],
   "source": [
    "fwd_arr = merge_small_durations(difference_array, min_duration, max_duration)\n",
    "\n",
    "bwd_arr = merge_small_durations(fwd_arr[::-1],\n",
    "                                min_duration,\n",
    "                                max_duration,\n",
    "                                fwd=False)[::-1]\n",
    "\n",
    "# getting the modified success_array\n",
    "for ary in [success_array, dur_array, list(difference_array), fwd_arr, bwd_arr]:\n",
    "    print(len(ary), ary)\n"
   ]
  },
  {
   "cell_type": "markdown",
   "id": "9b203126",
   "metadata": {},
   "source": [
    "`[53.2015355, 61.89206749, 59.554941, 72.389703, 107.9331359, 26.93460797, 39.67645550, 18.920410500]\n",
    "\n",
    "[53.2015355, 61.89206749999999, 59.554941, 72.38970300000003, 107.93313599999999, 0, 0, 85.531474]\n",
    "\n",
    "[53.2015355, 115.09360299999999, 174.648544, 247.038247, 354.971383, 381.905991, 421.5824465, 440.502857]\n",
    "\n",
    "[0, 53.2015355, 115.09360299999999, 174.648544, 247.038247, 354.971383, 381.905991, 421.5824465, 440.502857]`\n"
   ]
  },
  {
   "cell_type": "code",
   "execution_count": 120,
   "id": "4f3ebfce",
   "metadata": {
    "ExecuteTime": {
     "end_time": "2022-03-17T21:50:53.506677Z",
     "start_time": "2022-03-17T21:50:53.499697Z"
    }
   },
   "outputs": [
    {
     "data": {
      "text/plain": [
       "[(53.2015355, 53.2015355, 53.2015355),\n",
       " (115.09360299999999, 61.89206749999999, 61.89206749999999),\n",
       " (174.648544, 59.554941, 59.554941),\n",
       " (247.038247, 72.38970300000003, 72.38970300000003),\n",
       " (354.971383, 107.93313599999999, 107.93313599999999),\n",
       " (381.905991, 26.93460799999997, 0),\n",
       " (421.5824465, 39.67645550000003, 0),\n",
       " (440.502857, 18.920410500000003, 85.531474)]"
      ]
     },
     "execution_count": 120,
     "metadata": {},
     "output_type": "execute_result"
    }
   ],
   "source": [
    "list(zip(dur_array[1:], list(difference_array), bwd_arr))"
   ]
  },
  {
   "cell_type": "code",
   "execution_count": 121,
   "id": "fcf99b54",
   "metadata": {
    "ExecuteTime": {
     "end_time": "2022-03-17T21:54:03.109870Z",
     "start_time": "2022-03-17T21:54:03.101891Z"
    }
   },
   "outputs": [
    {
     "data": {
      "text/plain": [
       "[53.2015355,\n",
       " 115.09360299999999,\n",
       " 174.648544,\n",
       " 247.038247,\n",
       " 354.971383,\n",
       " 440.502857]"
      ]
     },
     "execution_count": 121,
     "metadata": {},
     "output_type": "execute_result"
    }
   ],
   "source": [
    "final_stops = [x for i, x in enumerate(dur_array[1:]) if bwd_arr[i]!=0]\n",
    "final_stops"
   ]
  },
  {
   "cell_type": "code",
   "execution_count": 122,
   "id": "b555a64a",
   "metadata": {
    "ExecuteTime": {
     "end_time": "2022-03-17T21:55:23.952568Z",
     "start_time": "2022-03-17T21:55:23.938606Z"
    }
   },
   "outputs": [
    {
     "data": {
      "text/plain": [
       "[53.2015355, 115.09360299999999, 174.648544, 247.038247, 354.971383]"
      ]
     },
     "execution_count": 122,
     "metadata": {},
     "output_type": "execute_result"
    }
   ],
   "source": [
    "# remove the last element as it is the file length\n",
    "\n",
    "final_stops = final_stops[:-1]\n",
    "final_stops"
   ]
  },
  {
   "cell_type": "code",
   "execution_count": 129,
   "id": "be5e6fef",
   "metadata": {
    "ExecuteTime": {
     "end_time": "2022-03-17T22:03:34.033308Z",
     "start_time": "2022-03-17T22:03:34.014385Z"
    }
   },
   "outputs": [
    {
     "data": {
      "text/plain": [
       "[53.202, 61.892, 59.555, 72.39, 107.933, 85.531]"
      ]
     },
     "execution_count": 129,
     "metadata": {},
     "output_type": "execute_result"
    }
   ],
   "source": [
    "final_durations = list(\n",
    "    np.round(np.diff(np.array([0] + final_stops + [end_time])), 3))\n",
    "final_durations"
   ]
  },
  {
   "cell_type": "code",
   "execution_count": null,
   "id": "29192c11",
   "metadata": {},
   "outputs": [],
   "source": [
    "# adding a function to round values of a list\n",
    "def round_list_values(the_list, rounding=3):\n",
    "    return list(np.round(the_list, rounding))"
   ]
  }
 ],
 "metadata": {
  "kernelspec": {
   "display_name": "Python 3 (ipykernel)",
   "language": "python",
   "name": "python3"
  },
  "language_info": {
   "codemirror_mode": {
    "name": "ipython",
    "version": 3
   },
   "file_extension": ".py",
   "mimetype": "text/x-python",
   "name": "python",
   "nbconvert_exporter": "python",
   "pygments_lexer": "ipython3",
   "version": "3.8.12"
  },
  "varInspector": {
   "cols": {
    "lenName": 16,
    "lenType": 16,
    "lenVar": 40
   },
   "kernels_config": {
    "python": {
     "delete_cmd_postfix": "",
     "delete_cmd_prefix": "del ",
     "library": "var_list.py",
     "varRefreshCmd": "print(var_dic_list())"
    },
    "r": {
     "delete_cmd_postfix": ") ",
     "delete_cmd_prefix": "rm(",
     "library": "var_list.r",
     "varRefreshCmd": "cat(var_dic_list()) "
    }
   },
   "types_to_exclude": [
    "module",
    "function",
    "builtin_function_or_method",
    "instance",
    "_Feature"
   ],
   "window_display": false
  }
 },
 "nbformat": 4,
 "nbformat_minor": 5
}
